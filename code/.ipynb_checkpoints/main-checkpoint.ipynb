{
 "cells": [
  {
   "cell_type": "markdown",
   "id": "20eb4827",
   "metadata": {
    "canvas": {
     "comments": [],
     "componentType": "CodeCell",
     "copiedOriginId": null,
     "diskcache": false,
     "headerColor": "transparent",
     "id": "f3214327-971b-40da-8bfc-f96005afb714",
     "isComponent": false,
     "name": "",
     "parents": []
    },
    "tags": []
   },
   "source": [
    "# Project 3: "
   ]
  },
  {
   "cell_type": "markdown",
   "id": "098ac887",
   "metadata": {
    "canvas": {
     "comments": [],
     "componentType": "CodeCell",
     "copiedOriginId": null,
     "diskcache": false,
     "headerColor": "transparent",
     "id": "79fa0c84-fe01-47d9-869c-9c49aea82f1e",
     "isComponent": false,
     "name": "",
     "parents": []
    }
   },
   "source": [
    "## Table of contents"
   ]
  },
  {
   "cell_type": "markdown",
   "id": "6dc0b2d6",
   "metadata": {
    "canvas": {
     "comments": [],
     "componentType": "CodeCell",
     "copiedOriginId": null,
     "diskcache": false,
     "headerColor": "transparent",
     "id": "cf384da8-20c0-4e1b-a833-7b45b85fae2b",
     "isComponent": false,
     "name": "",
     "parents": []
    },
    "tags": []
   },
   "source": [
    "- [Background](#Background)<br>\n",
    "- [Importing packages](#Importing-packages)<br>\n",
    "- [Getting the Data](#Getting-the-Data)<br>\n",
    "- [Data Cleaning](#Data-Cleaning)<br>\n",
    "- [Exploratory Data Analysis & Visualizations](#Exploratory-Data-Analysis-&-Visualizations)<br>\n",
    "- [Text Classification](#Text-Classification)<br>\n",
    "- [Conclusions & Findings](#Conclusions-&-Findings)<br>\n",
    "\n",
    "\n"
   ]
  },
  {
   "cell_type": "markdown",
   "id": "8176aa68",
   "metadata": {
    "canvas": {
     "comments": [],
     "componentType": "CodeCell",
     "copiedOriginId": null,
     "diskcache": false,
     "headerColor": "transparent",
     "id": "19913350-4a6b-44aa-ad28-d577a6b7f2c6",
     "isComponent": false,
     "name": "",
     "parents": []
    },
    "tags": []
   },
   "source": [
    "## Background"
   ]
  },
  {
   "cell_type": "markdown",
   "id": "f8a08d9a",
   "metadata": {
    "canvas": {
     "comments": [],
     "componentType": "CodeCell",
     "copiedOriginId": null,
     "diskcache": false,
     "headerColor": "transparent",
     "id": "bef3ab8e-d0dc-4f94-8511-8ff23c4cdd32",
     "isComponent": false,
     "name": "",
     "parents": []
    }
   },
   "source": [
    "Machine learning and statistics are 2 closely related and intertwined fields, with many machine learning models being heavily based on statistical theories. \n",
    "\n",
    "Statistics contributes key concepts such as probability theory, sampling distributions, statistical inference, and experimental design, which are essential for understanding the theoretical underpinnings and evaluating the efficacy of machine learning models. In turn, machine learning complements statistics by offering computational approaches that can handle large-scale, high-dimensional datasets and complex models. Machine learning algorithms provide powerful tools for automated feature extraction, pattern recognition, and predictive modeling. They excel at discovering intricate relationships, non-linear dependencies, and intricate structures within data that may be challenging to capture using traditional statistical methods alone.\n",
    "\n",
    "The goal of this project will be to use Natural Language Processing (NLP) on the corpus of data scraped from <b>r/statistics</b> and <b>r/machinelearning</b> to \n",
    "explore the intersection of statistics and machine learning and gain a deeper understanding of how these two fields intertwine. After which, we will be building a text classifier to classify whether the post belongs to r/machinelearning or r/statistics. <br><br>\n"
   ]
  },
  {
   "cell_type": "markdown",
   "id": "096abb7e",
   "metadata": {
    "canvas": {
     "comments": [],
     "componentType": "CodeCell",
     "copiedOriginId": null,
     "diskcache": false,
     "headerColor": "transparent",
     "id": "90e97995-a3b8-4909-8404-6e331fbe9030",
     "isComponent": false,
     "name": "",
     "parents": []
    }
   },
   "source": [
    "This project will be employing the following 3 techniques to achieve the above-mentioned outcome:\n",
    "\n",
    ">Topic Modeling: Apply topic modeling techniques, to uncover latent topics within the subreddit threads. This can help identify the dominant themes discussed in the communities, understand the distribution of topics over time, and discover any emerging trends.\n",
    "\n",
    ">Community Detection: Apply community detection algorithms to identify clusters or groups of users with similar interests or interactions. This can help uncover different subgroups within the communities and understand the dynamics of user interactions and collaborations.\n",
    "\n",
    ">Text Classification: Build a text classifier to automatically categorize posts or comments into relevant categories based on their content. For example, I can classify posts into topics like \"data analysis,\" \"machine learning algorithms,\" or \"experimental design.\" This can assist in organizing and retrieving information from the subreddits more effectively.\n",
    "\n"
   ]
  },
  {
   "cell_type": "markdown",
   "id": "fe7125eb-e7e2-49af-b583-00c74146b70f",
   "metadata": {
    "canvas": {
     "comments": [],
     "componentType": "CodeCell",
     "copiedOriginId": null,
     "diskcache": false,
     "headerColor": "transparent",
     "id": "5358f769-b087-4213-becb-7a097cf2442f",
     "isComponent": false,
     "name": "",
     "parents": []
    }
   },
   "source": [
    "Success of this project will be evaluated via whether we can identify any distinct topics/communities from the posts scrapped, as well as whether we can build a classifier that can accurately (above 90% accuracy) classify a post into r/statistics or r/machinelearning."
   ]
  },
  {
   "cell_type": "markdown",
   "id": "43afab51",
   "metadata": {
    "canvas": {
     "comments": [],
     "componentType": "CodeCell",
     "copiedOriginId": null,
     "diskcache": false,
     "headerColor": "transparent",
     "id": "4e069b1b-07ca-48db-a2cd-e998b95720f6",
     "isComponent": false,
     "name": "",
     "parents": []
    },
    "tags": []
   },
   "source": [
    "## Importing packages"
   ]
  },
  {
   "cell_type": "code",
   "execution_count": 1,
   "id": "abd8c228",
   "metadata": {
    "canvas": {
     "comments": [],
     "componentType": "CodeCell",
     "copiedOriginId": null,
     "diskcache": false,
     "headerColor": "transparent",
     "id": "fd97d1c9-34a5-40e7-b48f-441d0be9c967",
     "isComponent": false,
     "name": "",
     "parents": []
    }
   },
   "outputs": [],
   "source": [
    "#Importing packages\n",
    "\n",
    "import pandas as pd\n",
    "import numpy as np\n",
    "import matplotlib.pyplot as plt\n",
    "import seaborn as sns\n",
    "import datetime\n",
    "import warnings\n",
    "\n",
    "\n",
    "#Loading models\n",
    "from sklearn.cluster import KMeans\n",
    "from sklearn.tree import DecisionTreeClassifier\n",
    "from sklearn.ensemble import RandomForestClassifier, GradientBoostingClassifier, AdaBoostClassifier\n",
    "from sklearn.linear_model import LogisticRegression\n",
    "from sklearn.svm import SVC\n",
    "\n",
    "\n",
    "from sklearn.model_selection import train_test_split, GridSearchCV\n",
    "\n",
    "from sklearn.pipeline import Pipeline\n",
    "from sklearn.feature_extraction.text import CountVectorizer, TfidfVectorizer\n",
    "from sklearn.preprocessing import OneHotEncoder\n",
    "\n",
    "from sklearn.metrics import silhouette_score, confusion_matrix, ConfusionMatrixDisplay\n",
    "\n",
    "import re\n",
    "\n",
    "from helper import *\n",
    "\n",
    "sns.set_style(\"whitegrid\")\n",
    "sns.set_palette(\"RdBu\")\n",
    "%matplotlib inline"
   ]
  },
  {
   "cell_type": "code",
   "execution_count": 2,
   "id": "3996ed50-a5e3-4c9c-80ed-f4bc761779e6",
   "metadata": {
    "canvas": {
     "comments": [],
     "componentType": "CodeCell",
     "copiedOriginId": null,
     "diskcache": false,
     "headerColor": "transparent",
     "id": "2f55795c-1429-4427-a696-69acc5243dc6",
     "isComponent": false,
     "name": "",
     "parents": []
    }
   },
   "outputs": [],
   "source": [
    "#Setting options\n",
    "\n",
    "pd.set_option(\"display.max_rows\",500)\n",
    "pd.set_option(\"display.max_columns\",500)"
   ]
  },
  {
   "cell_type": "markdown",
   "id": "9ff52a35",
   "metadata": {
    "canvas": {
     "comments": [],
     "componentType": "CodeCell",
     "copiedOriginId": null,
     "diskcache": false,
     "headerColor": "transparent",
     "id": "a5e5703e-35f2-4f7e-a72e-3699b7322a25",
     "isComponent": false,
     "name": "",
     "parents": []
    },
    "tags": []
   },
   "source": [
    "## Getting the Data"
   ]
  },
  {
   "cell_type": "code",
   "execution_count": 3,
   "id": "49a2d9d7",
   "metadata": {
    "canvas": {
     "comments": [],
     "componentType": "CodeCell",
     "copiedOriginId": null,
     "diskcache": false,
     "headerColor": "transparent",
     "id": "c4a3a876-f160-40cd-9b9a-62f11d40562c",
     "isComponent": false,
     "name": "",
     "parents": []
    },
    "scrolled": true,
    "tags": []
   },
   "outputs": [],
   "source": [
    "# # Scraping machinelearning and statistics subreddits using custom function get_subreddit_posts\n",
    "\n",
    "# ml_data = get_subreddit_posts(subreddit_name='machinelearning',post_limit=1050)\n",
    "# stats_data = get_subreddit_posts(subreddit_name='statistics',post_limit=1050)\n",
    "\n",
    "# # Saving to dataframe\n",
    "\n",
    "# ml = pd.DataFrame(ml_data)\n",
    "# stats = pd.DataFrame(stats_data)\n",
    "# print(f\"Shape of ML: {ml.shape}\")\n",
    "# print(f\"Shape of stats: {stats.shape}\")\n",
    "\n",
    "# ml.to_csv(\"../data/machinelearning_subreddit_praw.csv\")\n",
    "# stats.to_csv(\"../data/statistics_subreddit_praw.csv\")\n",
    "\n"
   ]
  },
  {
   "cell_type": "code",
   "execution_count": 4,
   "id": "f3ad4df1",
   "metadata": {
    "canvas": {
     "comments": [],
     "componentType": "CodeCell",
     "copiedOriginId": null,
     "diskcache": false,
     "headerColor": "transparent",
     "id": "00bec5db-2db9-49cb-871e-e2183d1fd567",
     "isComponent": false,
     "name": "",
     "parents": []
    }
   },
   "outputs": [],
   "source": [
    "#Loading the data\n",
    "\n",
    "ml = pd.read_csv('../data/machinelearning_subreddit_praw.csv').drop(\"Unnamed: 0\",axis=1)\n",
    "stats = pd.read_csv('../data/statistics_subreddit_praw.csv').drop(\"Unnamed: 0\",axis=1)\n",
    "\n",
    "ml.set_index('time',inplace=True)\n",
    "stats.set_index('time',inplace=True)\n",
    "\n"
   ]
  },
  {
   "cell_type": "code",
   "execution_count": 5,
   "id": "ef5c5922-c4a8-49d2-87db-0c71bedc8616",
   "metadata": {
    "canvas": {
     "comments": [],
     "componentType": "CodeCell",
     "copiedOriginId": null,
     "diskcache": false,
     "headerColor": "transparent",
     "id": "4224d85e-8cb6-4272-89a8-7f576bf45ea9",
     "isComponent": false,
     "name": "",
     "parents": []
    },
    "tags": []
   },
   "outputs": [
    {
     "name": "stdout",
     "output_type": "stream",
     "text": [
      "Date range of posts scrapped from r/machinelearning is from 2023-04-03 07:00:17 to 2023-05-27 15:46:09\n",
      "Date range of posts scrapped from r/statistics is from 2023-02-19 06:53:51 to 2023-05-27 14:10:07\n"
     ]
    }
   ],
   "source": [
    "print(f\"Date range of posts scrapped from r/machinelearning is from {min(ml.index)} to {max(ml.index)}\")\n",
    "print(f\"Date range of posts scrapped from r/statistics is from {min(stats.index)} to {max(stats.index)}\")"
   ]
  },
  {
   "cell_type": "code",
   "execution_count": 6,
   "id": "d30b1bf5-9e06-4ab1-89ef-5052a8808a25",
   "metadata": {
    "canvas": {
     "comments": [],
     "componentType": "CodeCell",
     "copiedOriginId": null,
     "diskcache": false,
     "headerColor": "transparent",
     "id": "011806fd-b9a0-4b1d-8670-bc8d7195f6f9",
     "isComponent": false,
     "name": "",
     "parents": []
    }
   },
   "outputs": [
    {
     "name": "stdout",
     "output_type": "stream",
     "text": [
      "Number of unique posts scraped from r/machinelearning: 975\n",
      "Number of unique posts scraped from r/statistics: 999\n"
     ]
    }
   ],
   "source": [
    "print(f\"Number of unique posts scraped from r/machinelearning: {ml['title'].nunique()}\")\n",
    "print(f\"Number of unique posts scraped from r/statistics: {stats['title'].nunique()}\")"
   ]
  },
  {
   "cell_type": "markdown",
   "id": "e9b8d335-97cb-4d52-9596-6a0ceeca0cb3",
   "metadata": {
    "canvas": {
     "comments": [],
     "componentType": "CodeCell",
     "copiedOriginId": null,
     "diskcache": false,
     "headerColor": "transparent",
     "id": "4a6f73ba-5227-4cc2-bd44-4f821caaad5e",
     "isComponent": false,
     "name": "",
     "parents": []
    },
    "tags": []
   },
   "source": [
    "## Data Cleaning"
   ]
  },
  {
   "cell_type": "code",
   "execution_count": 7,
   "id": "4852a6e8",
   "metadata": {
    "canvas": {
     "comments": [],
     "componentType": "CodeCell",
     "copiedOriginId": null,
     "diskcache": false,
     "headerColor": "transparent",
     "id": "2028ad28-abf7-4702-bd84-dc5bb1d74326",
     "isComponent": false,
     "name": "",
     "parents": []
    }
   },
   "outputs": [
    {
     "data": {
      "text/html": [
       "<div>\n",
       "<style scoped>\n",
       "    .dataframe tbody tr th:only-of-type {\n",
       "        vertical-align: middle;\n",
       "    }\n",
       "\n",
       "    .dataframe tbody tr th {\n",
       "        vertical-align: top;\n",
       "    }\n",
       "\n",
       "    .dataframe thead th {\n",
       "        text-align: right;\n",
       "    }\n",
       "</style>\n",
       "<table border=\"1\" class=\"dataframe\">\n",
       "  <thead>\n",
       "    <tr style=\"text-align: right;\">\n",
       "      <th></th>\n",
       "      <th>title</th>\n",
       "      <th>content</th>\n",
       "      <th>top_10_comments</th>\n",
       "      <th>upvotes</th>\n",
       "      <th>no_of_comments</th>\n",
       "      <th>url</th>\n",
       "    </tr>\n",
       "    <tr>\n",
       "      <th>time</th>\n",
       "      <th></th>\n",
       "      <th></th>\n",
       "      <th></th>\n",
       "      <th></th>\n",
       "      <th></th>\n",
       "      <th></th>\n",
       "    </tr>\n",
       "  </thead>\n",
       "  <tbody>\n",
       "    <tr>\n",
       "      <th>2023-05-27 15:46:09</th>\n",
       "      <td>[P] Training and serving GPT-2 using Keras-CV ...</td>\n",
       "      <td>Hi, just want to share my latest project in wh...</td>\n",
       "      <td>[]</td>\n",
       "      <td>1</td>\n",
       "      <td>0</td>\n",
       "      <td>https://www.reddit.com/r/MachineLearning/comme...</td>\n",
       "    </tr>\n",
       "    <tr>\n",
       "      <th>2023-05-27 13:09:54</th>\n",
       "      <td>Prediction of range [D]</td>\n",
       "      <td>I’m using neural networks and tensor flow on p...</td>\n",
       "      <td>[]</td>\n",
       "      <td>0</td>\n",
       "      <td>0</td>\n",
       "      <td>https://www.reddit.com/r/MachineLearning/comme...</td>\n",
       "    </tr>\n",
       "    <tr>\n",
       "      <th>2023-05-27 08:44:16</th>\n",
       "      <td>[D] Learning Theory</td>\n",
       "      <td>I remember taking a class in college about sta...</td>\n",
       "      <td>['The Performer paper has some learning theory...</td>\n",
       "      <td>5</td>\n",
       "      <td>1</td>\n",
       "      <td>https://www.reddit.com/r/MachineLearning/comme...</td>\n",
       "    </tr>\n",
       "    <tr>\n",
       "      <th>2023-05-27 07:49:25</th>\n",
       "      <td>[R] Sophia: A Scalable Stochastic Second-order...</td>\n",
       "      <td>NaN</td>\n",
       "      <td>['Wrong repo link, this one is official: https...</td>\n",
       "      <td>24</td>\n",
       "      <td>4</td>\n",
       "      <td>https://arxiv.org/abs/2305.14342</td>\n",
       "    </tr>\n",
       "    <tr>\n",
       "      <th>2023-05-27 07:12:33</th>\n",
       "      <td>[P] Instruction following codegen model you ca...</td>\n",
       "      <td>Releasing https://huggingface.co/sahil2801/ins...</td>\n",
       "      <td>['What dataset does it use?']</td>\n",
       "      <td>2</td>\n",
       "      <td>1</td>\n",
       "      <td>https://www.reddit.com/r/MachineLearning/comme...</td>\n",
       "    </tr>\n",
       "  </tbody>\n",
       "</table>\n",
       "</div>"
      ],
      "text/plain": [
       "                                                                 title  \\\n",
       "time                                                                     \n",
       "2023-05-27 15:46:09  [P] Training and serving GPT-2 using Keras-CV ...   \n",
       "2023-05-27 13:09:54                            Prediction of range [D]   \n",
       "2023-05-27 08:44:16                                [D] Learning Theory   \n",
       "2023-05-27 07:49:25  [R] Sophia: A Scalable Stochastic Second-order...   \n",
       "2023-05-27 07:12:33  [P] Instruction following codegen model you ca...   \n",
       "\n",
       "                                                               content  \\\n",
       "time                                                                     \n",
       "2023-05-27 15:46:09  Hi, just want to share my latest project in wh...   \n",
       "2023-05-27 13:09:54  I’m using neural networks and tensor flow on p...   \n",
       "2023-05-27 08:44:16  I remember taking a class in college about sta...   \n",
       "2023-05-27 07:49:25                                                NaN   \n",
       "2023-05-27 07:12:33  Releasing https://huggingface.co/sahil2801/ins...   \n",
       "\n",
       "                                                       top_10_comments  \\\n",
       "time                                                                     \n",
       "2023-05-27 15:46:09                                                 []   \n",
       "2023-05-27 13:09:54                                                 []   \n",
       "2023-05-27 08:44:16  ['The Performer paper has some learning theory...   \n",
       "2023-05-27 07:49:25  ['Wrong repo link, this one is official: https...   \n",
       "2023-05-27 07:12:33                      ['What dataset does it use?']   \n",
       "\n",
       "                     upvotes  no_of_comments  \\\n",
       "time                                           \n",
       "2023-05-27 15:46:09        1               0   \n",
       "2023-05-27 13:09:54        0               0   \n",
       "2023-05-27 08:44:16        5               1   \n",
       "2023-05-27 07:49:25       24               4   \n",
       "2023-05-27 07:12:33        2               1   \n",
       "\n",
       "                                                                   url  \n",
       "time                                                                    \n",
       "2023-05-27 15:46:09  https://www.reddit.com/r/MachineLearning/comme...  \n",
       "2023-05-27 13:09:54  https://www.reddit.com/r/MachineLearning/comme...  \n",
       "2023-05-27 08:44:16  https://www.reddit.com/r/MachineLearning/comme...  \n",
       "2023-05-27 07:49:25                   https://arxiv.org/abs/2305.14342  \n",
       "2023-05-27 07:12:33  https://www.reddit.com/r/MachineLearning/comme...  "
      ]
     },
     "execution_count": 7,
     "metadata": {},
     "output_type": "execute_result"
    }
   ],
   "source": [
    "ml.head()"
   ]
  },
  {
   "cell_type": "code",
   "execution_count": 8,
   "id": "ceb431c9",
   "metadata": {
    "canvas": {
     "comments": [],
     "componentType": "CodeCell",
     "copiedOriginId": null,
     "diskcache": false,
     "headerColor": "transparent",
     "id": "1c0acbad-badb-42b5-90da-9f32448bdeed",
     "isComponent": false,
     "name": "",
     "parents": []
    }
   },
   "outputs": [
    {
     "data": {
      "text/html": [
       "<div>\n",
       "<style scoped>\n",
       "    .dataframe tbody tr th:only-of-type {\n",
       "        vertical-align: middle;\n",
       "    }\n",
       "\n",
       "    .dataframe tbody tr th {\n",
       "        vertical-align: top;\n",
       "    }\n",
       "\n",
       "    .dataframe thead th {\n",
       "        text-align: right;\n",
       "    }\n",
       "</style>\n",
       "<table border=\"1\" class=\"dataframe\">\n",
       "  <thead>\n",
       "    <tr style=\"text-align: right;\">\n",
       "      <th></th>\n",
       "      <th>title</th>\n",
       "      <th>content</th>\n",
       "      <th>top_10_comments</th>\n",
       "      <th>upvotes</th>\n",
       "      <th>no_of_comments</th>\n",
       "      <th>url</th>\n",
       "    </tr>\n",
       "    <tr>\n",
       "      <th>time</th>\n",
       "      <th></th>\n",
       "      <th></th>\n",
       "      <th></th>\n",
       "      <th></th>\n",
       "      <th></th>\n",
       "      <th></th>\n",
       "    </tr>\n",
       "  </thead>\n",
       "  <tbody>\n",
       "    <tr>\n",
       "      <th>2023-05-27 14:10:07</th>\n",
       "      <td>[R]I'm looking for statistics about how many p...</td>\n",
       "      <td>It would be great if the numbers are from 2022...</td>\n",
       "      <td>['This is a sub where people can seek advice o...</td>\n",
       "      <td>0</td>\n",
       "      <td>2</td>\n",
       "      <td>https://www.reddit.com/r/statistics/comments/1...</td>\n",
       "    </tr>\n",
       "    <tr>\n",
       "      <th>2023-05-27 13:38:35</th>\n",
       "      <td>[D] Short Time Series Forecasting</td>\n",
       "      <td>Hi, I would like to know what sort of approach...</td>\n",
       "      <td>[\"How short is short?\\n\\nExponential smoothing...</td>\n",
       "      <td>1</td>\n",
       "      <td>1</td>\n",
       "      <td>https://www.reddit.com/r/statistics/comments/1...</td>\n",
       "    </tr>\n",
       "    <tr>\n",
       "      <th>2023-05-27 08:01:27</th>\n",
       "      <td>[Q] is it a good idea to start a job that is n...</td>\n",
       "      <td>I recently got a job offer for a chemistry ass...</td>\n",
       "      <td>['Sounds like the data analysis connection is ...</td>\n",
       "      <td>2</td>\n",
       "      <td>5</td>\n",
       "      <td>https://www.reddit.com/r/statistics/comments/1...</td>\n",
       "    </tr>\n",
       "    <tr>\n",
       "      <th>2023-05-27 07:49:20</th>\n",
       "      <td>[Q] Are entry-level data scientist positions t...</td>\n",
       "      <td>I am a foreign student in the United States of...</td>\n",
       "      <td>[\"You're going to do fine in 2025. Nobody can ...</td>\n",
       "      <td>6</td>\n",
       "      <td>5</td>\n",
       "      <td>https://www.reddit.com/r/statistics/comments/1...</td>\n",
       "    </tr>\n",
       "    <tr>\n",
       "      <th>2023-05-27 05:52:03</th>\n",
       "      <td>[Q] What kind of jobs should I be looking for ...</td>\n",
       "      <td>I haven’t gotten a job yet and I’ve applied fo...</td>\n",
       "      <td>['Data Analyst positions would be great. If yo...</td>\n",
       "      <td>18</td>\n",
       "      <td>9</td>\n",
       "      <td>https://www.reddit.com/r/statistics/comments/1...</td>\n",
       "    </tr>\n",
       "  </tbody>\n",
       "</table>\n",
       "</div>"
      ],
      "text/plain": [
       "                                                                 title  \\\n",
       "time                                                                     \n",
       "2023-05-27 14:10:07  [R]I'm looking for statistics about how many p...   \n",
       "2023-05-27 13:38:35                  [D] Short Time Series Forecasting   \n",
       "2023-05-27 08:01:27  [Q] is it a good idea to start a job that is n...   \n",
       "2023-05-27 07:49:20  [Q] Are entry-level data scientist positions t...   \n",
       "2023-05-27 05:52:03  [Q] What kind of jobs should I be looking for ...   \n",
       "\n",
       "                                                               content  \\\n",
       "time                                                                     \n",
       "2023-05-27 14:10:07  It would be great if the numbers are from 2022...   \n",
       "2023-05-27 13:38:35  Hi, I would like to know what sort of approach...   \n",
       "2023-05-27 08:01:27  I recently got a job offer for a chemistry ass...   \n",
       "2023-05-27 07:49:20  I am a foreign student in the United States of...   \n",
       "2023-05-27 05:52:03  I haven’t gotten a job yet and I’ve applied fo...   \n",
       "\n",
       "                                                       top_10_comments  \\\n",
       "time                                                                     \n",
       "2023-05-27 14:10:07  ['This is a sub where people can seek advice o...   \n",
       "2023-05-27 13:38:35  [\"How short is short?\\n\\nExponential smoothing...   \n",
       "2023-05-27 08:01:27  ['Sounds like the data analysis connection is ...   \n",
       "2023-05-27 07:49:20  [\"You're going to do fine in 2025. Nobody can ...   \n",
       "2023-05-27 05:52:03  ['Data Analyst positions would be great. If yo...   \n",
       "\n",
       "                     upvotes  no_of_comments  \\\n",
       "time                                           \n",
       "2023-05-27 14:10:07        0               2   \n",
       "2023-05-27 13:38:35        1               1   \n",
       "2023-05-27 08:01:27        2               5   \n",
       "2023-05-27 07:49:20        6               5   \n",
       "2023-05-27 05:52:03       18               9   \n",
       "\n",
       "                                                                   url  \n",
       "time                                                                    \n",
       "2023-05-27 14:10:07  https://www.reddit.com/r/statistics/comments/1...  \n",
       "2023-05-27 13:38:35  https://www.reddit.com/r/statistics/comments/1...  \n",
       "2023-05-27 08:01:27  https://www.reddit.com/r/statistics/comments/1...  \n",
       "2023-05-27 07:49:20  https://www.reddit.com/r/statistics/comments/1...  \n",
       "2023-05-27 05:52:03  https://www.reddit.com/r/statistics/comments/1...  "
      ]
     },
     "execution_count": 8,
     "metadata": {},
     "output_type": "execute_result"
    }
   ],
   "source": [
    "stats.head()"
   ]
  },
  {
   "cell_type": "code",
   "execution_count": 9,
   "id": "6334ff24-1a44-44f2-acf0-6bc534ae63e7",
   "metadata": {
    "canvas": {
     "comments": [],
     "componentType": "CodeCell",
     "copiedOriginId": null,
     "diskcache": false,
     "headerColor": "transparent",
     "id": "695bc7a0-7a2b-43b9-915c-235fc0e8fbf7",
     "isComponent": false,
     "name": "",
     "parents": []
    }
   },
   "outputs": [
    {
     "name": "stdout",
     "output_type": "stream",
     "text": [
      "<class 'pandas.core.frame.DataFrame'>\n",
      "Index: 980 entries, 2023-05-27 15:46:09 to 2023-04-03 07:00:17\n",
      "Data columns (total 6 columns):\n",
      " #   Column           Non-Null Count  Dtype \n",
      "---  ------           --------------  ----- \n",
      " 0   title            980 non-null    object\n",
      " 1   content          862 non-null    object\n",
      " 2   top_10_comments  980 non-null    object\n",
      " 3   upvotes          980 non-null    int64 \n",
      " 4   no_of_comments   980 non-null    int64 \n",
      " 5   url              980 non-null    object\n",
      "dtypes: int64(2), object(4)\n",
      "memory usage: 53.6+ KB\n"
     ]
    }
   ],
   "source": [
    "ml.info()"
   ]
  },
  {
   "cell_type": "code",
   "execution_count": 10,
   "id": "f87caa60-1735-4518-9860-0eaa2ba29c0e",
   "metadata": {
    "canvas": {
     "comments": [],
     "componentType": "CodeCell",
     "copiedOriginId": null,
     "diskcache": false,
     "headerColor": "transparent",
     "id": "93e8d79a-9ec3-4469-8c8c-fa1c2c617f82",
     "isComponent": false,
     "name": "",
     "parents": []
    }
   },
   "outputs": [
    {
     "name": "stdout",
     "output_type": "stream",
     "text": [
      "<class 'pandas.core.frame.DataFrame'>\n",
      "Index: 999 entries, 2023-05-27 14:10:07 to 2023-02-19 06:53:51\n",
      "Data columns (total 6 columns):\n",
      " #   Column           Non-Null Count  Dtype \n",
      "---  ------           --------------  ----- \n",
      " 0   title            999 non-null    object\n",
      " 1   content          970 non-null    object\n",
      " 2   top_10_comments  999 non-null    object\n",
      " 3   upvotes          999 non-null    int64 \n",
      " 4   no_of_comments   999 non-null    int64 \n",
      " 5   url              999 non-null    object\n",
      "dtypes: int64(2), object(4)\n",
      "memory usage: 54.6+ KB\n"
     ]
    }
   ],
   "source": [
    "stats.info()"
   ]
  },
  {
   "cell_type": "markdown",
   "id": "0c1e8894-1348-4bb0-87dd-a7b1ad8e4ecb",
   "metadata": {
    "canvas": {
     "comments": [],
     "componentType": "CodeCell",
     "copiedOriginId": null,
     "diskcache": false,
     "headerColor": "transparent",
     "id": "ec48b58d-7ac0-4a6a-8df9-03333b6c28f2",
     "isComponent": false,
     "name": "",
     "parents": []
    }
   },
   "source": [
    "---"
   ]
  },
  {
   "cell_type": "markdown",
   "id": "2187ba1c",
   "metadata": {
    "canvas": {
     "comments": [],
     "componentType": "CodeCell",
     "copiedOriginId": null,
     "diskcache": false,
     "headerColor": "transparent",
     "id": "6fdd9d47-3f5b-4e06-894e-b46f5da87156",
     "isComponent": false,
     "name": "",
     "parents": []
    }
   },
   "source": [
    "We notice that most posts have a bracket with a tag in front of them, eg [R]. The following table shows the corresponding tags and their abbreviations:"
   ]
  },
  {
   "cell_type": "markdown",
   "id": "8fd14640",
   "metadata": {
    "canvas": {
     "comments": [],
     "componentType": "CodeCell",
     "copiedOriginId": null,
     "diskcache": false,
     "headerColor": "transparent",
     "id": "577cc8a7-f9e6-4c83-9b4c-054d52c96388",
     "isComponent": false,
     "name": "",
     "parents": []
    }
   },
   "source": [
    "| **Tag**      | **Abbreviation (r/statistics)** | **Abbreviation (r/machinelearning)** |\n",
    "|--------------|---------------------------------|--------------------------------------|\n",
    "| [Research]   | [R]                             | [R]                                  |\n",
    "| [Software]   | [S]                             |                                      |\n",
    "| [Question]   | [Q]                             |                                      |\n",
    "| [Discussion] | [D]                             | [D]                                  |\n",
    "| [Education]  | [E]                             |                                      |\n",
    "| [Career]     | [C]                             |                                      |\n",
    "| [Meta]       | [M]                             |                                      |\n",
    "| [News]       |                                 | [N]                                  |\n",
    "| [Project]    |                                 | [P]                                  |"
   ]
  },
  {
   "cell_type": "markdown",
   "id": "95c86555",
   "metadata": {
    "canvas": {
     "comments": [],
     "componentType": "CodeCell",
     "copiedOriginId": null,
     "diskcache": false,
     "headerColor": "transparent",
     "id": "99858d19-76fd-4434-a6fe-d43992a6cead",
     "isComponent": false,
     "name": "",
     "parents": []
    }
   },
   "source": [
    "Lets create a new column with the post's corresponding tags"
   ]
  },
  {
   "cell_type": "code",
   "execution_count": 11,
   "id": "1e0c38ef",
   "metadata": {
    "canvas": {
     "comments": [],
     "componentType": "CodeCell",
     "copiedOriginId": null,
     "diskcache": false,
     "headerColor": "transparent",
     "id": "3c18f25a-a570-4e56-9e8e-5d4c36ba8e82",
     "isComponent": false,
     "name": "",
     "parents": []
    }
   },
   "outputs": [],
   "source": [
    "ml['tags'] = ml['title'].apply(extract_tags)\n",
    "stats['tags'] = stats['title'].apply(extract_tags)\n"
   ]
  },
  {
   "cell_type": "code",
   "execution_count": 12,
   "id": "a30a6eb9",
   "metadata": {
    "canvas": {
     "comments": [],
     "componentType": "CodeCell",
     "copiedOriginId": null,
     "diskcache": false,
     "headerColor": "transparent",
     "id": "447039df-5aee-4a73-9d53-7dc6de844dc4",
     "isComponent": false,
     "name": "",
     "parents": []
    }
   },
   "outputs": [
    {
     "data": {
      "text/plain": [
       "[D]             476\n",
       "[P]             195\n",
       "[R]             162\n",
       "[N]              51\n",
       "[Discussion]     33\n",
       "[Project]        22\n",
       "                 18\n",
       "[Research]       12\n",
       "[News]            7\n",
       "[research]        1\n",
       "[2103.10050]      1\n",
       "[PROJECT]         1\n",
       "[d]               1\n",
       "Name: tags, dtype: int64"
      ]
     },
     "execution_count": 12,
     "metadata": {},
     "output_type": "execute_result"
    }
   ],
   "source": [
    "ml['tags'].value_counts()"
   ]
  },
  {
   "cell_type": "code",
   "execution_count": 13,
   "id": "bcfaee54",
   "metadata": {
    "canvas": {
     "comments": [],
     "componentType": "CodeCell",
     "copiedOriginId": null,
     "diskcache": false,
     "headerColor": "transparent",
     "id": "b9511256-eee5-49d3-aa2a-94ec764a717b",
     "isComponent": false,
     "name": "",
     "parents": []
    }
   },
   "outputs": [
    {
     "data": {
      "text/plain": [
       "[Q]             717\n",
       "[Question]       77\n",
       "[E]              63\n",
       "[D]              36\n",
       "[R]              29\n",
       "[S]              17\n",
       "[Research]       12\n",
       "[C]              12\n",
       "[Education]       7\n",
       "[question]        6\n",
       "[q]               5\n",
       "[Software]        4\n",
       "[Career]          3\n",
       "[Discussion]      3\n",
       "[research]        2\n",
       "[M]               1\n",
       "[career]          1\n",
       "[Meta]            1\n",
       "[meta]            1\n",
       "[[Q]              1\n",
       "[QUESTION]        1\n",
       "Name: tags, dtype: int64"
      ]
     },
     "execution_count": 13,
     "metadata": {},
     "output_type": "execute_result"
    }
   ],
   "source": [
    "stats['tags'].value_counts()"
   ]
  },
  {
   "cell_type": "code",
   "execution_count": 14,
   "id": "dc92580f-eefc-4856-a505-01f56f12ea1d",
   "metadata": {
    "canvas": {
     "comments": [],
     "componentType": "CodeCell",
     "copiedOriginId": null,
     "diskcache": false,
     "headerColor": "transparent",
     "id": "afb0c57f-f79e-4d5e-9aba-39e831903db1",
     "isComponent": false,
     "name": "",
     "parents": []
    }
   },
   "outputs": [],
   "source": [
    "#Cleaning the rows of the tags\n",
    "\n",
    "ml['tags'] = ml['tags'].replace({\"[Discussion]\":\"[D]\",\\\n",
    "                                 \"[Project]\":\"[P]\",\"[Research]\":\"[R]\",\"[News]\":\"[N]\",\\\n",
    "                                \"[research]\":\"[R]\",\"[PROJECT]\":\"[P]\",\"[d]\":\"[D]\"})\n",
    "\n",
    "stats['tags'] = stats['tags'].replace({\"[Question]\":\"[Q]\",\"[Research]\":\"[R]\",\"[Education]\":\"[E]\",\\\n",
    "                                      \"[question]\":\"[Q]\",\"[Software]\":\"[S]\",\"[Career]\":\"[C]\",\\\n",
    "                                      \"[Discussion]\":\"[D]\",\"[research]\":\"[R]\",\"[career]\":\"[C]\",\\\n",
    "                                      \"[Meta]\":\"[M]\",\"[meta]\":\"[M]\",\"[[Q]\":\"[Q]\",\"[QUESTION]\":\"[Q]\",\"[q]\":\"[Q]\"})\n"
   ]
  },
  {
   "cell_type": "code",
   "execution_count": 15,
   "id": "badfa2a3",
   "metadata": {
    "canvas": {
     "comments": [],
     "componentType": "CodeCell",
     "copiedOriginId": null,
     "diskcache": false,
     "headerColor": "transparent",
     "id": "6289e86d-03d4-4bd2-a2db-9ce7acaf76bc",
     "isComponent": false,
     "name": "",
     "parents": []
    },
    "tags": []
   },
   "outputs": [
    {
     "name": "stdout",
     "output_type": "stream",
     "text": [
      "Landmark Attention: Random-Access Infinite Context Length for Transformers\n",
      "Voyager: An LLM-powered learning agent in Minecraft\n",
      "DeepMind: Model evaluation for extreme risks\n",
      "Gorilla: Large Language Model Connected with Massive APIs\n",
      "QLoRA: Efficient Finetuning of Quantized LLMs\n",
      "================================================================================\n",
      "nan\n",
      "nan\n",
      "nan\n",
      "nan\n",
      "nan\n",
      "*Schmidhuber interview expressing his views on the future of AI and AGI.*\n",
      "\n",
      "*Original [source](https://www.forbes.com/sites/hessiejones/2023/05/23/juergen-schmidhuber-renowned-father-of-modern-ai-says-his-lifes-work-wont-lead-to-dystopia/). I think the interview is of interest to r/MachineLearning, and presents an alternate view, compared to other influential leaders in AI.*\n",
      "\n",
      "**Juergen Schmidhuber, Renowned 'Father Of Modern AI,' Says His Life’s Work Won't Lead To Dystopia**\n",
      "\n",
      "*May 23, 2023. Contributed by [Hessie Jones](https://twitter.com/hessiejones).*\n",
      "\n",
      "Amid the growing concern about the impact of more advanced artificial intelligence (AI) technologies on society, there are many in the technology community who fear the implications of the advancements in Generative AI if they go unchecked. Dr. Juergen Schmidhuber, a renowned scientist, artificial intelligence researcher and widely regarded as one of the pioneers in the field, is more optimistic. He declares that many of those who suddenly warn against the dangers of AI are just seeking publicity, exploiting the media’s obsession with killer robots which has attracted more attention than “good AI” for healthcare etc.\n",
      "\n",
      "The potential to revolutionize various industries and improve our lives is clear, as are the equal dangers if bad actors leverage the technology for personal gain. Are we headed towards a dystopian future, or is there reason to be optimistic? I had a chance to sit down with Dr. Juergen Schmidhuber to understand his perspective on this seemingly fast-moving AI-train that will leap us into the future.\n",
      "\n",
      "As a teenager in the 1970s, Juergen Schmidhuber became fascinated with the idea of creating intelligent machines that could learn and improve on their own, becoming smarter than himself within his lifetime. This would ultimately lead to his groundbreaking work in the field of deep learning.\n",
      "\n",
      "In the 1980s, he studied computer science at the Technical University of Munich (TUM), where he earned his diploma in 1987. His thesis was on the ultimate self-improving machines that, not only, learn through some pre-wired human-designed learning algorithm, but also learn and improve the learning algorithm itself. Decades later, this became a hot topic. He also received his Ph.D. at TUM in 1991 for work that laid some of the foundations of modern AI.\n",
      "\n",
      "Schmidhuber is best known for his contributions to the development of recurrent neural networks (RNNs), the most powerful type of artificial neural network that can process sequential data such as speech and natural language. With his students Sepp Hochreiter, Felix Gers, Alex Graves, Daan Wierstra, and others, he published architectures and training algorithms for the long short-term memory (LSTM), a type of RNN that is widely used in natural language processing, speech recognition, video games, robotics, and other applications. LSTM has become the most cited neural network of the 20th century, and Business Week called it \"[arguably the most commercial AI achievement](https://www.bloomberg.com/news/features/2018-05-15/google-amazon-and-facebook-owe-j-rgen-schmidhuber-a-fortune?leadSource=uverify%20wall).\"\n",
      "\n",
      "Throughout his career, Schmidhuber has received various awards and accolades for his groundbreaking work. In 2013, he was awarded the Helmholtz Prize, which recognizes significant contributions to the field of machine learning. In 2016, he was awarded the IEEE Neural Network Pioneer Award for \"*pioneering contributions to deep learning and neural networks.\" The media have often called him the “father of modern AI,*” because the [most cited neural networks](https://people.idsia.ch/~juergen/most-cited-neural-nets.html) all build on his lab’s work. He is quick to point out, however, that AI history [goes back centuries.](https://people.idsia.ch/~juergen/deep-learning-history.html)\n",
      "\n",
      "Despite his many accomplishments, at the age of 60, he feels mounting time pressure towards building an Artificial General Intelligence within his lifetime and remains committed to pushing the boundaries of AI research and development. He is currently director of the KAUST AI Initiative, scientific director of the Swiss AI Lab IDSIA, and co-founder and chief scientist of AI company NNAISENSE, whose motto is \"AI∀\" which is a math-inspired way of saying \"AI For All.\" He continues to work on cutting-edge AI technologies and applications to improve human health and extend human lives and make lives easier for everyone.\n",
      "\n",
      "*The following interview has been edited for clarity.*\n",
      "\n",
      "**Jones: Thank you Juergen for joining me. You have signed letters warning about AI weapons. But you didn't sign the recent publication, \"Pause Gigantic AI Experiments: An Open Letter\"? Is there a reason?**\n",
      "\n",
      "**Schmidhuber:** Thank you Hessie. Glad to speak with you. I have realized that many of those who warn in public against the dangers of AI are just seeking publicity. I don't think the latest letter will have any significant impact because many AI researchers, companies, and governments will ignore it completely.\n",
      "\n",
      "The proposal frequently uses the word \"we\" and refers to \"us,\" the humans. But as I have pointed out many times in the past, there is no \"we\" that everyone can identify with. Ask 10 different people, and you will hear 10 different opinions about what is \"good.\" Some of those opinions will be completely incompatible with each other. Don't forget the enormous amount of conflict between the many people.\n",
      "\n",
      "The letter also says, \"*If such a pause cannot be quickly put in place, governments should intervene and impose a moratorium.*\" The problem is that different governments have ALSO different opinions about what is good for them and for others. Great Power A will say, if we don't do it, Great Power B will, perhaps secretly, and gain an advantage over us. The same is true for Great Powers C and D.\n",
      "\n",
      "**Jones: Everyone acknowledges this fear surrounding current generative AI technology. Moreover, the existential threat of this technology has been publicly acknowledged by** [**Sam Altman**](https://www.bbc.com/news/world-us-canada-65616866)**, CEO of OpenAI himself, calling for AI regulation. From your perspective, is there an existential threat?**\n",
      "\n",
      "**Schmidhuber:** It is true that AI can be weaponized, and I have no doubt that there will be all kinds of AI arms races, but AI does not introduce a new quality of existential threat. The threat coming from AI weapons seems to pale in comparison to the much older threat from nuclear hydrogen bombs that don’t need AI at all. We should be much more afraid of half-century-old tech in the form of H-bomb rockets. The Tsar Bomba of 1961 had almost 15 times more destructive power than all weapons of WW-II combined.  Despite the dramatic nuclear disarmament since the 1980s, there are still more than enough nuclear warheads to wipe out human civilization within two hours, without any AI I’m much more worried about that old existential threat than the rather harmless AI weapons.\n",
      "\n",
      "**Jones: I realize that while you compare AI to the threat of nuclear bombs, there is a current danger that a current technology can be put in the hands of humans and enable them to “eventually” exact further harms to individuals of group in a very precise way, like targeted drone attacks. You are giving people a toolset that they've never had before, enabling bad actors, as some have pointed out, to be able to do a lot more than previously because they didn't have this technology.**\n",
      "\n",
      "**Schmidhuber:** Now, all that sounds horrible in principle, but our existing laws are sufficient to deal with these new types of weapons enabled by AI. If you kill someone with a gun, you will go to jail. Same if you kill someone with one of these drones. Law enforcement will get better at understanding new threats and new weapons and will respond with better technology to combat these threats. Enabling drones to target persons from a distance in a way that requires some tracking and some intelligence to perform, which has traditionally been performed by skilled humans, to me, it seems is just an improved version of a traditional weapon, like a gun, which is, you know, a little bit smarter than the old guns.\n",
      "\n",
      "But, in principle, all of that is not a new development. For many centuries, we have had the evolution of better weaponry and deadlier poisons and so on, and law enforcement has evolved their policies to react to these threats over time. So, it's not that we suddenly have a new quality of existential threat and it's much more worrisome than what we have had for about six decades. A large nuclear warhead doesn’t need fancy face recognition to kill an individual. No, it simply wipes out an entire city with ten million inhabitants.\n",
      "\n",
      "**Jones: The existential threat that’s implied is the extent to which humans have control over this technology. We see some early cases of opportunism which, as you say, tends to get more media attention than positive breakthroughs. But you’re implying that this will all balance out?**\n",
      "\n",
      "**Schmidhuber:** Historically, we have a long tradition of technological breakthroughs that led to advancements in weapons for the purpose of defense but also for protection. From sticks, to rocks, to axes to gunpowder to cannons to rockets… and now to drones… this has had a drastic influence on human history but what has been consistent throughout history is that those who are using technology to achieve their own ends are themselves, facing the same technology because the opposing side is learning to use it against them. And that's what has been repeated in thousands of years of human history and it will continue. I don't see the new AI arms race as something that is remotely as existential a threat as the good old nuclear warheads.\n",
      "\n",
      "You said something important, in that some people prefer to talk about the downsides rather than the benefits of this technology, but that's misleading, because 95% of all AI research and AI development is about making people happier and advancing human life and health.\n",
      "\n",
      "**Jones: Let’s touch on some of those beneficial advances in AI research that have been able to radically change present day methods and achieve breakthroughs.**\n",
      "\n",
      "**Schmidhuber:** All right! For example, eleven years ago, our team with my postdoc Dan Ciresan was the first to win a [medical imaging competition through deep learning](https://people.idsia.ch/~juergen/first-time-deep-learning-won-medical-imaging-contest-september-2012.html). We analyzed female breast cells with the objective to determine harmless cells vs. those in the pre-cancer stage. Typically, a trained oncologist needs a long time to make these determinations. Our team, who knew nothing about cancer, were able to train an artificial neural network, which was totally dumb in the beginning, on lots of this kind of data. It was able to outperform all the other methods. Today, this is being used not only for breast cancer, but also for radiology and detecting plaque in arteries, and many other things.  Some of the neural networks that we have developed in the last 3 decades are now prevalent across thousands of healthcare applications, detecting Diabetes and Covid-19 and what not. This will eventually permeate across all healthcare. The good consequences of this type of AI are much more important than the click-bait new ways of conducting crimes with AI.\n",
      "\n",
      "**Jones: Adoption is a product of reinforced outcomes. The massive scale of adoption either leads us to believe that people have been led astray, or conversely, technology is having a positive effect on people’s lives.**\n",
      "\n",
      "**Schmidhuber:** The latter is the likely case. There's intense commercial pressure towards good AI rather than bad AI because companies want to sell you something, and you are going to buy only stuff you think is going to be good for you. So already just through this simple, commercial pressure, you have a tremendous bias towards good AI rather than bad AI. However, doomsday scenarios like in Schwarzenegger movies grab more attention than documentaries on AI that improve people’s lives.\n",
      "\n",
      "**Jones: I would argue that people are drawn to good stories – narratives that contain an adversary and struggle, but in the end, have happy endings. And this is consistent with your comment on human nature and how history, despite its tendency for violence and destruction of humanity, somehow tends to correct itself.**\n",
      "\n",
      "**Let’s take the example of a technology, which you are aware – GANs – General Adversarial Networks, which today has been used in applications for fake news and disinformation. In actuality, the purpose in the invention of GANs was far from what it is used for today.**\n",
      "\n",
      "**Schmidhuber:** Yes, the name GANs was created in 2014 but we had the basic principle already in the early 1990s. More than 30 years ago, I called it *artificial curiosity*. It's a very simple way of injecting creativity into a little two network system. This creative AI is not just trying to slavishly imitate humans. Rather, it’s inventing its own goals. Let me explain:\n",
      "\n",
      "You have two networks. One network is producing outputs that could be anything, any action. Then the second network is looking at these actions and it’s trying to predict the consequences of these actions. An action could move a robot, then something happens, and the other network is just trying to predict what will happen.\n",
      "\n",
      "Now we can implement artificial curiosity by reducing the prediction error of the second network, which, at the same time, is the reward of the first network. The first network wants to maximize its reward and so it will invent actions that will lead to situations that will surprise the second network, which it has not yet learned to predict well.\n",
      "\n",
      "In the case where the outputs are fake images, the first network will try to generate images that are good enough to fool the second network, which will attempt to predict the reaction of the environment: fake or real image, and it will try to become better at it. The first network will continue to also improve at generating images whose type the second network will not be able to predict. So, they fight each other. The 2nd network will continue to reduce its prediction error, while the 1st network will attempt to maximize it.\n",
      "\n",
      "Through this zero-sum game the first network gets better and better at producing these convincing fake outputs which look almost realistic. So, once you have an interesting set of images by Vincent Van Gogh, you can generate new images that leverage his style, without the original artist having ever produced the artwork himself.\n",
      "\n",
      "**Jones: I see how the Van Gogh example can be applied in an education setting and there are countless examples of artists mimicking styles from famous painters but image generation from this instance that can happen within seconds is quite another feat. And you know this is how GANs has been used. What’s more prevalent today is a socialized enablement of generating images or information to intentionally fool people. It also surfaces new harms that deal with the threat to intellectual property and copyright, where laws have yet to account for. And from your perspective this was not the intention when the model was conceived. What was your motivation in your early conception of what is now GANs?**\n",
      "\n",
      "**Schmidhuber:** My old motivation for GANs was actually very important and it was not to create deepfakes or fake news but to enable AIs to be curious and invent their own goals, to make them explore their environment and make them creative.\n",
      "\n",
      "Suppose you have a robot that executes one action, then something happens, then it executes another action, and so on, because it wants to achieve certain goals in the environment. For example, when the battery is low, this will trigger “pain” through hunger sensors, so it wants to go to the charging station, without running into obstacles, which will trigger other pain sensors. It will seek to minimize pain (encoded through numbers). Now the robot has a friend, the second network, which is a world model ––it’s a prediction machine that learns to predict the consequences of the robot’s actions.\n",
      "\n",
      "Once the robot has a good model of the world, it can use it for planning. It can be used as a simulation of the real world. And then it can determine what is a good action sequence. If the robot imagines this sequence of actions, the model will predict a lot of pain, which it wants to avoid. If it plays this alternative action sequence in its mental model of the world, then it will predict a rewarding situation where it’s going to sit on the charging station and its battery is going to load again. So, it'll prefer to execute the latter action sequence.\n",
      "\n",
      "In the beginning, however, the model of the world knows nothing, so how can we motivate the first network to generate experiments that lead to data that helps the world model learn something it didn’t already know? That’s what artificial curiosity is about. The dueling two network systems effectively explore uncharted environments by creating experiments so that over time the curious AI gets a better sense of how the environment works. This can be applied to all kinds of environments, and has medical applications.\n",
      "\n",
      "**Jones: Let’s talk about the future. You have said, “*****Traditional humans won’t play a significant role in spreading intelligence across the universe.*****”**\n",
      "\n",
      "**Schmidhuber:** Let’s first conceptually separate two types of AIs. The first type of AI are tools directed by humans. They are trained to do specific things like accurately detect diabetes or heart disease and prevent attacks before they happen. In these cases, the goal is coming from the human. More interesting AIs are setting their own goals. They are inventing their own experiments and learning from them. Their horizons expand and eventually they become more and more general problem solvers in the real world. They are not controlled by their parents, but much of what they learn is through self-invented experiments.\n",
      "\n",
      "A robot, for example, is rotating a toy, and as it is doing this, the video coming in through the camera eyes, changes over time and it begins to learn how this video changes and learns how the 3D nature of the toy generates certain videos if you rotate it a certain way, and eventually, how gravity works, and how the physics of the world works. Like a little scientist!\n",
      "\n",
      "And I have predicted for decades that future scaled-up versions of such AI scientists will want to further expand their horizons, and eventually go where most of the physical resources are, to build more and bigger AIs. And of course, almost all of these resources are far away from earth out there in space, which is hostile to humans but friendly to appropriately designed AI-controlled robots and self-replicating robot factories. So here we are not talking any longer about our tiny biosphere; no, we are talking about the much bigger rest of the universe.  Within a few tens of billions of years, curious self-improving [AIs will colonize the visible cosmos](https://blogs.scientificamerican.com/observations/falling-walls-the-past-present-and-future-of-artificial-intelligence/) in a way that’s infeasible for humans. Those who don’t won’t have an impact. Sounds like science fiction, but since the 1970s I have been unable to see a plausible alternative to this scenario, except for a global catastrophe such as an all-out nuclear war that stops this development before it takes off.\n",
      "\n",
      "**Jones: How long have these AIs, which can set their own goals — how long have they existed? To what extent can they be independent of human interaction?**\n",
      "\n",
      "**Schmidhuber:** Neural networks like that have existed for over 30 years. My first simple adversarial neural network system of this kind is the one from 1990 described above. You don’t need a teacher there; it's just a little agent running around in the world and trying to invent new experiments that surprise its own prediction machine.\n",
      "\n",
      "Once it has figured out certain parts of the world, the agent will become bored and will move on to more exciting experiments. The simple 1990 systems I mentioned have certain limitations, but in the past three decades, we have also built more [sophisticated systems that are setting their own goals](https://people.idsia.ch/~juergen/artificial-curiosity-since-1990.html) and such systems I think will be essential for achieving true intelligence. If you are only imitating humans, you will never go beyond them. So, you really must give AIs the freedom to explore previously unexplored regions of the world in a way that no human is really predefining.\n",
      "\n",
      "**Jones: Where is this being done today?**\n",
      "\n",
      "**Schmidhuber:** Variants of neural network-based artificial curiosity are used today for agents that learn to play video games in a human-competitive way. We have also started to use them for automatic design of experiments in fields such as materials science. I bet many other fields will be affected by it: chemistry, biology, drug design, you name it. However, at least for now, these artificial scientists, as I like to call them, cannot yet compete with human scientists.\n",
      "\n",
      "I don’t think it’s going to stay this way but, at the moment, it’s still the case.  Sure, AI has made a lot of progress. Since 1997, there have been superhuman chess players, and since 2011, through the DanNet of my team, there have been [superhuman visual pattern recognizers](https://people.idsia.ch/~juergen/DanNet-triggers-deep-CNN-revolution-2011.html). But there are other things where humans, at the moment at least, are much better, in particular, science itself.  In the lab we have many first examples of self-directed artificial scientists, but they are not yet convincing enough to appear on the radar screen of the public space, which is currently much more fascinated with simpler systems that just imitate humans and write texts based on previously seen human-written documents.\n",
      "\n",
      "**Jones: You speak of these numerous instances dating back 30 years of these lab experiments where these self-driven agents are deciding and learning and moving on once they’ve learned. And I assume that that rate of learning becomes even faster over time. What kind of timeframe are we talking about when this eventually is taken outside of the lab and embedded into society?**\n",
      "\n",
      "**Schmidhuber:** This could still take months or even years :-) Anyway, in the not-too-distant future, we will probably see artificial scientists who are good at devising experiments that allow them to discover new, previously unknown physical laws.\n",
      "\n",
      "As always, we are going to profit from the old trend that has held at least since 1941: every decade compute is getting 100 times cheaper.\n",
      "\n",
      "**Jones: How does this trend affect modern AI such as ChatGPT?**\n",
      "\n",
      "**Schmidhuber:** Perhaps you know that all the recent famous AI applications such as ChatGPT and similar models are largely based on principles of artificial neural networks invented in the previous millennium. The main reason why they works so well now is the incredible acceleration of compute per dollar.\n",
      "\n",
      "ChatGPT is driven by a neural network called “Transformer” described in 2017 by Google. I am happy about that because a quarter century earlier in 1991 I had a particular Transformer variant which is now called the “[Transformer with linearized self-attention](https://twitter.com/SchmidhuberAI/status/1576966129993797632?cxt=HHwWgMDSkeKVweIrAAAA)”. Back then, not much could be done with it, because the compute cost was a million times higher than today. But today, one can train such models on half the internet and achieve much more interesting results.\n",
      "\n",
      "**Jones: And for how long will this acceleration continue?**\n",
      "\n",
      "**Schmidhuber:** There's no reason to believe that in the next 30 years, we won't have another factor of 1 million and that's going to be really significant. In the near future, for the first time we will have many not-so expensive devices that can compute as much as a human brain. The physical limits of computation, however, are much further out so even if the trend of a factor of 100 every decade continues, the physical limits (of 1051 elementary instructions per second and kilogram of matter) won’t be hit until, say, the mid-next century. Even in our current century, however, we’ll probably have many machines that compute more than all 10 billion human brains collectively and you can imagine, everything will change then!\n",
      "\n",
      "**Jones: That is the big question. Is everything going to change? If so, what do you say to the next generation of leaders, currently coming out of college and university. So much of this change is already impacting how they study, how they will work, or how the future of work and livelihood is defined. What is their purpose and how do we change our systems so they will adapt to this new version of intelligence?**\n",
      "\n",
      "**Schmidhuber:** For decades, people have asked me questions like that, because you know what I'm saying now, I have basically said since the 1970s, it’s just that today, people are paying more attention because, back then, they thought this was science fiction.\n",
      "\n",
      "They didn't think that I would ever come close to achieving my crazy life goal of building a machine that learns to become smarter than myself such that I can retire. But now many have changed their minds and think it's conceivable. And now I have two daughters, 23 and 25. People ask me: what do I tell them? They know that Daddy always said, “*It seems likely that within your lifetimes, you will have new types of intelligence that are probably going to be superior in many ways, and probably all kinds of interesting ways.*” How should they prepare for that? And I kept telling them the obvious: **Learn how to learn new things**! It's not like in the previous millennium where within 20 years someone learned to be a useful member of society, and then took a job for 40 years and performed in this job until she received her pension. Now things are changing much faster and we must learn continuously just to keep up. I also told my girls that no matter how smart AIs are going to get, learn at least the basics of math and physics, because that’s the essence of our universe, and anybody who understands this will have an advantage, and learn all kinds of new things more easily. I also told them that social skills will remain important, because most future jobs for humans will continue to involve interactions with other humans, but I couldn’t teach them anything about that; they know much more about social skills than I do.\n",
      "\n",
      "You touched on the big philosophical question about people’s purpose. Can this be answered without answering the even grander question: What’s the purpose of the entire universe?\n",
      "\n",
      "We don’t know. But what’s happening right now might be connected to the unknown answer. Don’t think of humans as the crown of creation. Instead view human civilization as part of a much grander scheme, an important step (but not the last one) on the path of the universe from very simple initial conditions towards more and more unfathomable complexity. Now it seems ready to take its [next step, a step comparable to the invention of life itself over 3.5 billion years ago](https://people.idsia.ch/~juergen/deep-learning-history.html#future).  Alas, don’t worry, in the end, all will be good!\n",
      "\n",
      "**Jones: Let’s get back to this transformation happening right now with OpenAI. There are many questioning the efficacy and accuracy of ChatGPT, and are concerned its release has been premature. In light of the rampant adoption, educators have banned its use over concerns of plagiarism and how it stifles individual development. Should large language models like ChatGPT be used in school?**\n",
      "\n",
      "**Schmidhuber:** When the calculator was first introduced, instructors forbade students from using it in school. Today, the consensus is that kids should learn the basic methods of arithmetic, but they should also learn to use the “artificial multipliers” aka calculators, even in exams, because laziness and efficiency is a hallmark of intelligence. Any intelligent being wants to minimize its efforts to achieve things.\n",
      "\n",
      "And that's the reason why we have tools, and why our kids are learning to use these tools. The first stone tools were invented maybe 3.5 million years ago; tools just have become more sophisticated over time. In fact, humans have changed in response to the properties of their tools. Our anatomical evolution was shaped by tools such as spears and fire. So, it's going to continue this way. And there is no permanent way of preventing large language models from being used in school.\n",
      "\n",
      "**Jones: And when our children, your children graduate, what does their future work look like?**\n",
      "\n",
      "**Schmidhuber:** A single human trying to predict details of how 10 billion people and their machines will evolve in the future is like a single neuron in my brain trying to predict what the entire brain and its tens of billions of neurons will do next year. 40 years ago, before the WWW was created at CERN in Switzerland, who would have predicted all those young people making money as YouTube video bloggers?\n",
      "\n",
      "Nevertheless, let’s make a few limited job-related observations. For a long time, people have thought that desktop jobs may require more intelligence than skills trade or handicraft professions. But now, it turns out that it's much easier to replace certain aspects of desktop jobs than replacing a carpenter, for example. Because everything that works well in AI is happening behind the screen currently, but not so much in the physical world.\n",
      "\n",
      "There are now artificial systems that can read lots of documents and then make really nice summaries of these documents. That is a desktop job. Or you give them a description of an illustration that you want to have for your article and pretty good illustrations are being generated that may need some minimal fine-tuning. But you know, all these desktop jobs are much easier to facilitate than the real tough jobs in the physical world. And it's interesting that the things people thought required intelligence, like playing chess, or writing or summarizing documents, are much easier for machines than they thought. But for things like playing football or soccer, there is no physical robot that can remotely compete with the abilities of a little boy with these skills. So, AI in the physical world, interestingly, is much harder than AI behind the screen in virtual worlds. And it's really exciting, in my opinion, to see that jobs such as plumbers are much more challenging than playing chess or writing another tabloid story.\n",
      "\n",
      "**Jones: The way data has been collected in these large language models does not guarantee personal information has not been excluded. Current consent laws already are outdated when it comes to these large language models (LLM). The concern, rightly so, is increasing surveillance and loss of privacy. What is your view on this?**\n",
      "\n",
      "**Schmidhuber:** As I have indicated earlier: are surveillance and loss of privacy inevitable consequences of increasingly complex societies? Super-organisms such as cities and states and companies consist of numerous people, just like people consist of numerous cells. These cells enjoy little privacy. They are constantly monitored by specialized \"police cells\" and \"border guard cells\": Are you a cancer cell? Are you an external intruder, a pathogen? Individual cells sacrifice their freedom for the benefits of being part of a multicellular organism.\n",
      "\n",
      "Similarly, for super-organisms such as nations. Over 5000 years ago, writing enabled recorded history and thus became its inaugural and most important invention. Its initial purpose, however, was to facilitate surveillance, to track citizens and their tax payments. The more complex a super-organism, the more comprehensive its collection of information about its constituents.\n",
      "\n",
      "200 years ago, at least, the parish priest in each village knew everything about all the village people, even about those who did not confess, because they appeared in the confessions of others. Also, everyone soon knew about the stranger who had entered the village, because some occasionally peered out of the window, and what they saw got around. Such control mechanisms were temporarily lost through anonymization in rapidly growing cities but are now returning with the help of new surveillance devices such as smartphones as part of digital nervous systems that tell companies and governments a lot about billions of users. Cameras and drones etc. are becoming increasingly tinier and more ubiquitous. More effective recognition of faces and other detection technology are becoming cheaper and cheaper, and many will use it to identify others anywhere on earth; the big wide world will not offer any more privacy than the local village. Is this good or bad? Some nations may find it easier than others to justify more complex kinds of super-organisms at the expense of the privacy rights of their constituents.\n",
      "\n",
      "**Jones: So, there is no way to stop or change this process of collection, or how it continuously informs decisions over time? How do you see governance and rules responding to this, especially amid** [**Italy’s ban on ChatGPT following**](https://www.cnbc.com/2023/04/04/italy-has-banned-chatgpt-heres-what-other-countries-are-doing.html) **suspected user data breach and the more recent news about the** [**Meta’s record $1.3billion fine**](https://www.reuters.com/technology/facebook-given-record-13-bln-fine-given-5-months-stop-eu-us-data-flows-2023-05-22/) **in the company’s handling of user information?**\n",
      "\n",
      "**Schmidhuber:** Data collection has benefits and drawbacks, such as the loss of privacy. How to balance those? I have argued for addressing this through data ownership in data markets. If it is true that data is the new oil, then it should have a price, just like oil. At the moment, the major surveillance platforms such as Meta do not offer users any money for their data and the transitive loss of privacy. In the future, however, we will likely see attempts at creating efficient data markets to figure out the data's true financial value through the interplay between supply and demand.\n",
      "\n",
      "Even some of the sensitive medical data should not be priced by governmental regulators but by patients (and healthy persons) who own it and who may sell or license parts thereof as micro-entrepreneurs in a healthcare data market.\n",
      "\n",
      "Following a previous [interview](https://www.swissre.com/institute/conferences/The-intelligence-behind-artificial-intelligence.html), I gave for one of the largest re-insurance companies , let's look at the different participants in such a data market: patients, hospitals, data companies. (1) **Patients** with a rare form of cancer can offer more valuable data than patients with a very common form of cancer. (2) **Hospitals** and their machines are needed to extract the data, e.g., through magnet spin tomography, radiology, evaluations through human doctors, and so on. (3) **Companies** such as Siemens, Google or IBM would like to buy annotated data to make better artificial neural networks that learn to predict pathologies and diseases and the consequences of therapies. Now the market’s invisible hand will decide about the data’s price through the interplay between demand and supply. On the demand side, you will have several companies offering something for the data, maybe through an app on the smartphone (a bit like a stock market app). On the supply side, each patient in this market should be able to profit from high prices for rare valuable types of data. Likewise, competing data extractors such as hospitals will profit from gaining recognition and trust for extracting data well at a reasonable price. The market will make the whole system efficient through incentives for all who are doing a good job. Soon there will be a flourishing ecosystem of commercial data market advisors and what not, just like the ecosystem surrounding the traditional stock market. The value of the data won’t be determined by governments or ethics committees, but by those who own the data and decide by themselves which parts thereof they want to license to others under certain conditions.\n",
      "\n",
      "At first glance, a market-based system seems to be detrimental to the interest of certain monopolistic companies, as they would have to pay for the data - some would prefer free data and keep their monopoly. However, since every healthy and sick person in the market would suddenly have an incentive to collect and share their data under self-chosen anonymity conditions, there will soon be many more useful data to evaluate all kinds of treatments. On average, people will live longer and healthier, and many companies and the entire healthcare system will benefit.\n",
      "\n",
      "**Jones: Finally, what is your view on open source versus the private companies like Google and OpenAI? Is there a danger to supporting these private companies’ large language models versus trying to keep these models open source and transparent, very much like what LAION is doing?**\n",
      "\n",
      "**Schmidhuber:** I signed this [open letter by LAION](https://www.forbes.com/sites/hessiejones/2023/04/19/amid-growing-call-to-pause-ai-research-laion-petitions-governments-to-keep-agi-research-open-active-and-responsible/?sh=6973c08b62e3) because I strongly favor the open-source movement. And I think it's also something that is going to challenge whatever big tech dominance there might be at the moment. Sure, the best models today are run by big companies with huge budgets for computers, but the exciting fact is that open-source models are not so far behind, some people say maybe six to eight months only. Of course, the private company models are all based on stuff that was created in academia, often in little labs without so much funding, which publish without patenting their results and open source their code and others take it and improved it.\n",
      "\n",
      "Big tech has profited tremendously from academia; their main achievement being that they have scaled up everything greatly, sometimes even failing to credit the original inventors.\n",
      "\n",
      "So, it's very interesting to see that as soon as some big company comes up with a new scaled-up model, lots of students out there are competing, or collaborating, with each other, trying to come up with equal or better performance on smaller networks and smaller machines. And since they are open sourcing, the next guy can have another great idea to improve it, so now there’s tremendous competition also for the big companies.\n",
      "\n",
      "Because of that, and since AI is still getting exponentially cheaper all the time, I don't believe that big tech companies will dominate in the long run. They find it very hard to compete with the enormous open-source movement. As long as you can encourage the open-source community, I think you shouldn't worry too much. Now, of course, you might say if everything is open source, then the bad actors also will more easily have access to these AI tools. And there's truth to that. But as always since the invention of controlled fire, it was good that knowledge about how technology works quickly became public such that everybody could use it. And then, against any bad actor, there's almost immediately a counter actor trying to nullify his efforts. You see, I still believe in our old motto \"AI∀\" or \"AI For All.\"\n",
      "\n",
      "**Jones: Thank you, Juergen for sharing your perspective on this amazing time in history. It’s clear that with new technology, the enormous potential can be matched by disparate and troubling risks which we’ve yet to solve, and even those we have yet to identify. If we are to dispel the fear of a sentient system for which we have no control, humans, alone need to take steps for more responsible development and collaboration to ensure AI technology is used to ultimately benefit society. Humanity will be judged by what we do next.**\n",
      "nan\n",
      "nan\n",
      "nan\n",
      "nan\n"
     ]
    }
   ],
   "source": [
    "#Exploring the missing tags from ml\n",
    "\n",
    "missing_tags_ml = ml[ml['tags']==\"\"]\n",
    "for title in missing_tags_ml['title'].values[:5]:\n",
    "    print(title)\n",
    "\n",
    "print(\"=\"*80)\n",
    "\n",
    "for content in missing_tags_ml['content'].values[:10]:\n",
    "    print(content)"
   ]
  },
  {
   "cell_type": "markdown",
   "id": "d02bf2a2",
   "metadata": {
    "canvas": {
     "comments": [],
     "componentType": "CodeCell",
     "copiedOriginId": null,
     "diskcache": false,
     "headerColor": "transparent",
     "id": "20c1c4bb-8c00-4146-88ba-410c77a4944a",
     "isComponent": false,
     "name": "",
     "parents": []
    }
   },
   "source": [
    "Most of the untagged posts in ml look like discussion topics, hence we shall impute these missing values with \"[D]\"."
   ]
  },
  {
   "cell_type": "code",
   "execution_count": 16,
   "id": "7a9b3b2e",
   "metadata": {
    "canvas": {
     "comments": [],
     "componentType": "CodeCell",
     "copiedOriginId": null,
     "diskcache": false,
     "headerColor": "transparent",
     "id": "c227c639-d64d-4fd7-adb1-0b53b72296ef",
     "isComponent": false,
     "name": "",
     "parents": []
    }
   },
   "outputs": [],
   "source": [
    "ml['tags'] = ml['tags'].replace({\"\":\"[D]\"})"
   ]
  },
  {
   "cell_type": "code",
   "execution_count": 17,
   "id": "9df0e0f4",
   "metadata": {
    "canvas": {
     "comments": [],
     "componentType": "CodeCell",
     "copiedOriginId": null,
     "diskcache": false,
     "headerColor": "transparent",
     "id": "0ce249fc-481a-43ab-9bd2-0115bbc8b11f",
     "isComponent": false,
     "name": "",
     "parents": []
    }
   },
   "outputs": [
    {
     "data": {
      "text/plain": [
       "array([['[2103.10050] Spatio-temporal Crop Classification On Volumetric Data',\n",
       "        'Large-area crop classification using multi-spectral imagery is a widely studied problem for several decades and is generally addressed using classical Random Forest classifier. Recently, deep convolutional neural networks (DCNN) have been proposed. However, these methods only achieved results comparable with Random Forest. In this work, we present a novel CNN based architecture for large-area crop classification. Our methodology combines both spatio-temporal analysis via 3D CNN as well as temporal analysis via 1D CNN. We evaluated the efficacy of our approach on Yolo and Imperial county benchmark datasets. Our combined strategy outperforms both classical as well as recent DCNN based methods in terms of classification accuracy by 2% while maintaining a minimum number of parameters and the lowest inference time.']],\n",
       "      dtype=object)"
      ]
     },
     "execution_count": 17,
     "metadata": {},
     "output_type": "execute_result"
    }
   ],
   "source": [
    "#Exploring the tag \"2103.10050\"\n",
    "\n",
    "ml[ml['tags']==\"[2103.10050]\"][['title','content']].values[:3]\n"
   ]
  },
  {
   "cell_type": "markdown",
   "id": "5dd0ff76",
   "metadata": {
    "canvas": {
     "comments": [],
     "componentType": "CodeCell",
     "copiedOriginId": null,
     "diskcache": false,
     "headerColor": "transparent",
     "id": "2001c767-f839-4a35-8dc3-ff6d72234b5c",
     "isComponent": false,
     "name": "",
     "parents": []
    }
   },
   "source": [
    "Looks like a discussion topic too - lets impute this with \"[D]\""
   ]
  },
  {
   "cell_type": "code",
   "execution_count": 18,
   "id": "e4545aef",
   "metadata": {
    "canvas": {
     "comments": [],
     "componentType": "CodeCell",
     "copiedOriginId": null,
     "diskcache": false,
     "headerColor": "transparent",
     "id": "8ab9ecd2-e9ef-4657-8a46-9e239444f7b1",
     "isComponent": false,
     "name": "",
     "parents": []
    }
   },
   "outputs": [],
   "source": [
    "ml['tags'] = ml['tags'].replace({\"[2103.10050]\":\"[D]\"})"
   ]
  },
  {
   "cell_type": "code",
   "execution_count": 19,
   "id": "a4af13bf",
   "metadata": {
    "canvas": {
     "comments": [],
     "componentType": "CodeCell",
     "copiedOriginId": null,
     "diskcache": false,
     "headerColor": "transparent",
     "id": "cba860a0-cad7-4bb3-8e78-64442288e3e0",
     "isComponent": false,
     "name": "",
     "parents": []
    }
   },
   "outputs": [
    {
     "data": {
      "text/plain": [
       "[D]    529\n",
       "[P]    218\n",
       "[R]    175\n",
       "[N]     58\n",
       "Name: tags, dtype: int64"
      ]
     },
     "execution_count": 19,
     "metadata": {},
     "output_type": "execute_result"
    }
   ],
   "source": [
    "ml['tags'].value_counts()"
   ]
  },
  {
   "cell_type": "markdown",
   "id": "97105329",
   "metadata": {
    "canvas": {
     "comments": [],
     "componentType": "CodeCell",
     "copiedOriginId": null,
     "diskcache": false,
     "headerColor": "transparent",
     "id": "1c213529-d698-4759-bc35-079359ccad1a",
     "isComponent": false,
     "name": "",
     "parents": []
    }
   },
   "source": [
    "---"
   ]
  },
  {
   "cell_type": "markdown",
   "id": "3b8f0a76",
   "metadata": {
    "canvas": {
     "comments": [],
     "componentType": "CodeCell",
     "copiedOriginId": null,
     "diskcache": false,
     "headerColor": "transparent",
     "id": "0376f4e4-d7d5-40e4-9c67-0d047ca8ce04",
     "isComponent": false,
     "name": "",
     "parents": []
    }
   },
   "source": [
    "A topic can be deemed as popular if it has a significant number of comments and upvotes. Lets create a column \"popularity_score\" that measures the degree of popularity of a post, by multiplying upvotes with the no_of_comments, then taking the log of the product"
   ]
  },
  {
   "cell_type": "code",
   "execution_count": 20,
   "id": "f0b10158",
   "metadata": {
    "canvas": {
     "comments": [],
     "componentType": "CodeCell",
     "copiedOriginId": null,
     "diskcache": false,
     "headerColor": "transparent",
     "id": "5fd46cef-95c3-4778-8b0d-8e185328338e",
     "isComponent": false,
     "name": "",
     "parents": []
    }
   },
   "outputs": [
    {
     "name": "stderr",
     "output_type": "stream",
     "text": [
      "C:\\Users\\tanya\\anaconda3\\lib\\site-packages\\pandas\\core\\arraylike.py:402: RuntimeWarning: divide by zero encountered in log\n",
      "  result = getattr(ufunc, method)(*inputs, **kwargs)\n",
      "C:\\Users\\tanya\\anaconda3\\lib\\site-packages\\pandas\\core\\arraylike.py:402: RuntimeWarning: divide by zero encountered in log\n",
      "  result = getattr(ufunc, method)(*inputs, **kwargs)\n"
     ]
    }
   ],
   "source": [
    "ml[\"popularity_score\"] = np.log(ml['upvotes']*ml['no_of_comments']).replace(-np.inf, 0)\n",
    "stats[\"popularity_score\"] = np.log(stats['upvotes']*stats['no_of_comments']).replace(-np.inf, 0)"
   ]
  },
  {
   "cell_type": "markdown",
   "id": "204fb092-4fb0-4b1a-8185-b43c1a957072",
   "metadata": {
    "canvas": {
     "comments": [],
     "componentType": "CodeCell",
     "copiedOriginId": null,
     "diskcache": false,
     "headerColor": "transparent",
     "id": "934875e0-2fa7-4891-b09d-8c06b34122b1",
     "isComponent": false,
     "name": "",
     "parents": []
    }
   },
   "source": [
    "<br>"
   ]
  },
  {
   "cell_type": "markdown",
   "id": "c23ae8f1-96ec-470a-8092-0d87a78096d6",
   "metadata": {
    "canvas": {
     "comments": [],
     "componentType": "CodeCell",
     "copiedOriginId": null,
     "diskcache": false,
     "headerColor": "transparent",
     "id": "90c6a9b7-b5c0-4db9-be05-b0a7efc5d293",
     "isComponent": false,
     "name": "",
     "parents": []
    }
   },
   "source": [
    "---"
   ]
  },
  {
   "cell_type": "markdown",
   "id": "960f71b7-7b45-456f-aae6-c8298ad4f490",
   "metadata": {
    "canvas": {
     "comments": [],
     "componentType": "CodeCell",
     "copiedOriginId": null,
     "diskcache": false,
     "headerColor": "transparent",
     "id": "680224ba-c5ca-4926-b89b-5a720a48b54a",
     "isComponent": false,
     "name": "",
     "parents": []
    }
   },
   "source": [
    "Exploring the nil contents in ml and stats, under the content column"
   ]
  },
  {
   "cell_type": "code",
   "execution_count": 21,
   "id": "ee068710",
   "metadata": {
    "canvas": {
     "comments": [],
     "componentType": "CodeCell",
     "copiedOriginId": null,
     "diskcache": false,
     "headerColor": "transparent",
     "id": "eab42daf-502c-4dad-bf28-4573a5cb3756",
     "isComponent": false,
     "name": "",
     "parents": []
    },
    "tags": []
   },
   "outputs": [
    {
     "data": {
      "text/plain": [
       "time\n",
       "2023-05-27 07:49:25          https://arxiv.org/abs/2305.14342\n",
       "2023-05-27 07:05:57          https://arxiv.org/abs/2305.16300\n",
       "2023-05-27 00:28:34    https://www.reddit.com/gallery/13shsz4\n",
       "2023-05-26 20:34:50          https://arxiv.org/abs/2305.16291\n",
       "2023-05-26 18:08:23          https://arxiv.org/abs/2305.15324\n",
       "Name: url, dtype: object"
      ]
     },
     "execution_count": 21,
     "metadata": {},
     "output_type": "execute_result"
    }
   ],
   "source": [
    "ml[ml['content'].isnull()]['url'][:5]"
   ]
  },
  {
   "cell_type": "code",
   "execution_count": 22,
   "id": "aece7b9c",
   "metadata": {
    "canvas": {
     "comments": [],
     "componentType": "CodeCell",
     "copiedOriginId": null,
     "diskcache": false,
     "headerColor": "transparent",
     "id": "11a88302-337d-41e9-b253-c728ea44b6af",
     "isComponent": false,
     "name": "",
     "parents": []
    }
   },
   "outputs": [
    {
     "data": {
      "text/plain": [
       "time\n",
       "2023-05-23 09:40:50    /r/AskStatistics/comments/13p4abr/recommendati...\n",
       "2023-05-20 05:46:18     /r/econometrics/comments/13lc63c/itt_estimation/\n",
       "2023-05-15 17:35:19    https://www.reddit.com/r/statistics/comments/1...\n",
       "2023-05-12 23:36:25    /r/AskStatistics/comments/13dwplr/can_someone_...\n",
       "2023-05-12 01:04:37    /r/rstats/comments/13et720/mixed_models_parame...\n",
       "Name: url, dtype: object"
      ]
     },
     "execution_count": 22,
     "metadata": {},
     "output_type": "execute_result"
    }
   ],
   "source": [
    "stats[stats['content'].isnull()]['url'][:5]"
   ]
  },
  {
   "cell_type": "markdown",
   "id": "e2c8310c",
   "metadata": {
    "canvas": {
     "comments": [],
     "componentType": "CodeCell",
     "copiedOriginId": null,
     "diskcache": false,
     "headerColor": "transparent",
     "id": "1c7d4264-ca29-4747-9baa-280017060406",
     "isComponent": false,
     "name": "",
     "parents": []
    }
   },
   "source": [
    "There are some missing values for content field, however that isnt really an issue because the gist of the post for those posts are in the title itself. These posts are also usually linked to external sites or videos. We will impute these cells with the string 'nil content' after concatenating the  2 dataframes. <br>"
   ]
  },
  {
   "cell_type": "markdown",
   "id": "d41e105e-404e-479c-a7d5-f0284e2f4009",
   "metadata": {
    "canvas": {
     "comments": [],
     "componentType": "CodeCell",
     "copiedOriginId": null,
     "diskcache": false,
     "headerColor": "transparent",
     "id": "7c75f643-3980-4a85-94ad-5c05af94d89f",
     "isComponent": false,
     "name": "",
     "parents": []
    }
   },
   "source": [
    "<br><br>Next, we create the target labels for the 2 dataframes before concatenating the 2 dataframes into one."
   ]
  },
  {
   "cell_type": "code",
   "execution_count": 23,
   "id": "b8abb7f2-5405-4158-89c5-1d844a6d0e2d",
   "metadata": {
    "canvas": {
     "comments": [],
     "componentType": "CodeCell",
     "copiedOriginId": null,
     "diskcache": false,
     "headerColor": "transparent",
     "id": "a818d5ad-22c0-43d3-b7fe-cba34cef11aa",
     "isComponent": false,
     "name": "",
     "parents": []
    },
    "tags": []
   },
   "outputs": [],
   "source": [
    "ml['is_ml'] = 1\n",
    "stats['is_ml']=0\n",
    "\n",
    "df = pd.concat([ml,stats],axis='rows')\n"
   ]
  },
  {
   "cell_type": "code",
   "execution_count": 24,
   "id": "6382d87c-902a-4c0e-bc12-bd845ba1d22a",
   "metadata": {
    "canvas": {
     "comments": [],
     "componentType": "CodeCell",
     "copiedOriginId": null,
     "diskcache": false,
     "headerColor": "transparent",
     "id": "b00fa74a-0931-47e7-a1b4-bb7438d66245",
     "isComponent": false,
     "name": "",
     "parents": []
    }
   },
   "outputs": [
    {
     "name": "stdout",
     "output_type": "stream",
     "text": [
      "<class 'pandas.core.frame.DataFrame'>\n",
      "Index: 1979 entries, 2023-05-27 15:46:09 to 2023-02-19 06:53:51\n",
      "Data columns (total 9 columns):\n",
      " #   Column            Non-Null Count  Dtype  \n",
      "---  ------            --------------  -----  \n",
      " 0   title             1979 non-null   object \n",
      " 1   content           1832 non-null   object \n",
      " 2   top_10_comments   1979 non-null   object \n",
      " 3   upvotes           1979 non-null   int64  \n",
      " 4   no_of_comments    1979 non-null   int64  \n",
      " 5   url               1979 non-null   object \n",
      " 6   tags              1979 non-null   object \n",
      " 7   popularity_score  1979 non-null   float64\n",
      " 8   is_ml             1979 non-null   int64  \n",
      "dtypes: float64(1), int64(3), object(5)\n",
      "memory usage: 154.6+ KB\n"
     ]
    }
   ],
   "source": [
    "df.info()"
   ]
  },
  {
   "cell_type": "markdown",
   "id": "d93d53ba-9b59-491e-8444-5041ebcde5be",
   "metadata": {
    "canvas": {
     "comments": [],
     "componentType": "CodeCell",
     "copiedOriginId": null,
     "diskcache": false,
     "headerColor": "transparent",
     "id": "4c4cf93e-049a-4def-a07e-d5dc6839538f",
     "isComponent": false,
     "name": "",
     "parents": []
    }
   },
   "source": [
    "---"
   ]
  },
  {
   "cell_type": "markdown",
   "id": "c2d84576-bb35-4ed3-ac3f-88913e87f534",
   "metadata": {
    "canvas": {
     "comments": [],
     "componentType": "CodeCell",
     "copiedOriginId": null,
     "diskcache": false,
     "headerColor": "transparent",
     "id": "6f6ebb43-a6bb-4aa5-88e6-c1d6f34da2f6",
     "isComponent": false,
     "name": "",
     "parents": []
    }
   },
   "source": [
    "<br>Imputing nil contents with 'No content'<br>"
   ]
  },
  {
   "cell_type": "code",
   "execution_count": 25,
   "id": "2ed1d7ad-9571-4efa-acff-3b55a7902e84",
   "metadata": {
    "canvas": {
     "comments": [],
     "componentType": "CodeCell",
     "copiedOriginId": null,
     "diskcache": false,
     "headerColor": "transparent",
     "id": "923c142f-30f7-448b-a6a5-47248181ed9d",
     "isComponent": false,
     "name": "",
     "parents": []
    }
   },
   "outputs": [],
   "source": [
    "df['content'] = df['content'].fillna('nil content')"
   ]
  },
  {
   "cell_type": "markdown",
   "id": "bebfde5d-7782-4217-a160-474ddb10df8b",
   "metadata": {
    "canvas": {
     "comments": [],
     "componentType": "CodeCell",
     "copiedOriginId": null,
     "diskcache": false,
     "headerColor": "transparent",
     "id": "9b2d4d25-7bad-496d-a9b1-13568281ffaa",
     "isComponent": false,
     "name": "",
     "parents": []
    }
   },
   "source": [
    "---"
   ]
  },
  {
   "cell_type": "markdown",
   "id": "b5cd5b95-eedf-4ffc-bb5e-8be9280c2f0f",
   "metadata": {
    "canvas": {
     "comments": [],
     "componentType": "CodeCell",
     "copiedOriginId": null,
     "diskcache": false,
     "headerColor": "transparent",
     "id": "74f6b464-9fdd-48c9-8245-f73adb5983dd",
     "isComponent": false,
     "name": "",
     "parents": []
    }
   },
   "source": [
    "<br>Splitting the multiple comments and then rejoining them into one string"
   ]
  },
  {
   "cell_type": "code",
   "execution_count": 26,
   "id": "190991b5-e41d-47c1-b44f-5d7c74e6af74",
   "metadata": {
    "canvas": {
     "comments": [],
     "componentType": "CodeCell",
     "copiedOriginId": null,
     "diskcache": false,
     "headerColor": "transparent",
     "id": "28b66918-bea8-45d6-a61a-6bfdcc9a038f",
     "isComponent": false,
     "name": "",
     "parents": []
    }
   },
   "outputs": [],
   "source": [
    "df['top_10_comments'] = df['top_10_comments'].str.split(\"\\',\")\n",
    "df['top_10_comments'] = df['top_10_comments'].apply(lambda x: '\\t'.join(x))"
   ]
  },
  {
   "cell_type": "code",
   "execution_count": 27,
   "id": "e9c99aa6-aede-4ba2-8bf8-d0614a92eb34",
   "metadata": {
    "canvas": {
     "comments": [],
     "componentType": "CodeCell",
     "copiedOriginId": null,
     "diskcache": false,
     "headerColor": "transparent",
     "id": "8d1c3c30-e39f-438b-a522-e35aee684a2f",
     "isComponent": false,
     "name": "",
     "parents": []
    }
   },
   "outputs": [
    {
     "data": {
      "text/plain": [
       "'[\\'Wrong repo link, this one is official: https://github.com/Liuhong99/Sophia\\t \"Abstract:\\\\n\\\\n>Given the massive cost of language model pre-training, a non-trivial improvement of the optimization algorithm would lead to a material reduction on the time and cost of training. Adam and its variants have been state-of-the-art for years, and more sophisticated second-order (Hessian-based) optimizers often incur too much per-step overhead. In this paper, we propose Sophia, Second-order Clipped Stochastic Optimization, a simple scalable second-order optimizer that uses a light-weight estimate of the diagonal Hessian as the pre-conditioner. The update is the moving average of the gradients divided by the moving average of the estimated Hessian, followed by element-wise clipping. The clipping controls the worst-case update size and tames the negative impact of non-convexity and rapid change of Hessian along the trajectory. Sophia only estimates the diagonal Hessian every handful of iterations, which has negligible average per-step time and memory overhead. On language modeling with GPT-2 models of sizes ranging from 125M to 770M, Sophia achieves a 2x speed-up compared with Adam in the number of steps, total compute, and wall-clock time. Theoretically, we show that Sophia adapts to the curvature in different components of the parameters, which can be highly heterogeneous for language modeling tasks. Our run-time bound does not depend on the condition number of the loss.\\\\n\\\\n~~Github~~ [~~repo~~](https://github.com/kyegomez/Sophia)  \\\\n\\\\n\\\\nCorrect github repo link after u/learn-deeply\\'s correction: [https://github.com/Liuhong99/Sophia](https://github.com/Liuhong99/Sophia)\", \\'Found [1 relevant code implementation](https://www.catalyzex.com/paper/arxiv:2305.14342/code).\\\\n\\\\nIf you have code to share with the community, please add it [here](https://www.catalyzex.com/add_code?paper_url=https://arxiv.org/abs/2305.14342) 😊🙏\\\\n\\\\n--\\\\n\\\\nTo opt out from receiving code links, DM me.\\t \\'Was a nice read. Although would be nice to have some comparison to methods which capture more second-order information.\\']'"
      ]
     },
     "execution_count": 27,
     "metadata": {},
     "output_type": "execute_result"
    }
   ],
   "source": [
    "df['top_10_comments'][3]"
   ]
  },
  {
   "cell_type": "markdown",
   "id": "7e731b6a-670c-4d64-bbae-c627c3fdd4b6",
   "metadata": {
    "canvas": {
     "comments": [],
     "componentType": "CodeCell",
     "copiedOriginId": null,
     "diskcache": false,
     "headerColor": "transparent",
     "id": "63244d2d-af08-49b4-b6e2-996e34809e68",
     "isComponent": false,
     "name": "",
     "parents": []
    }
   },
   "source": [
    "---"
   ]
  },
  {
   "cell_type": "markdown",
   "id": "878049d1-2763-4939-9361-53e19081766c",
   "metadata": {
    "canvas": {
     "comments": [],
     "componentType": "CodeCell",
     "copiedOriginId": null,
     "diskcache": false,
     "headerColor": "transparent",
     "id": "a5c51ac6-a667-4362-a902-ca7e55a173f3",
     "isComponent": false,
     "name": "",
     "parents": []
    }
   },
   "source": [
    "Removing the tags from the title columns (eg [D], [R] etc)"
   ]
  },
  {
   "cell_type": "code",
   "execution_count": 28,
   "id": "a74b35b4-68a5-4fdd-a0a9-131dd180bd4f",
   "metadata": {
    "canvas": {
     "comments": [],
     "componentType": "CodeCell",
     "copiedOriginId": null,
     "diskcache": false,
     "headerColor": "transparent",
     "id": "99bd13ae-f09b-4467-b304-e162b93b2bbd",
     "isComponent": false,
     "name": "",
     "parents": []
    }
   },
   "outputs": [
    {
     "data": {
      "text/plain": [
       "time\n",
       "2023-05-27 15:46:09     Training and serving GPT-2 using Keras-CV and...\n",
       "2023-05-27 13:09:54                                 Prediction of range \n",
       "2023-05-27 08:44:16                                      Learning Theory\n",
       "2023-05-27 07:49:25     Sophia: A Scalable Stochastic Second-order Op...\n",
       "2023-05-27 07:12:33     Instruction following codegen model you can u...\n",
       "Name: title, dtype: object"
      ]
     },
     "execution_count": 28,
     "metadata": {},
     "output_type": "execute_result"
    }
   ],
   "source": [
    "df['title'] = df['title'].str.replace(r'\\[.*?\\]', '', regex=True)\n",
    "df['title'].head()"
   ]
  },
  {
   "cell_type": "markdown",
   "id": "d4d291ba-104d-483a-a915-5d4c31313cdf",
   "metadata": {
    "canvas": {
     "comments": [],
     "componentType": "CodeCell",
     "copiedOriginId": null,
     "diskcache": false,
     "headerColor": "transparent",
     "id": "f3a43b89-bfa4-4cb3-a98c-98c923db6314",
     "isComponent": false,
     "name": "",
     "parents": []
    }
   },
   "source": [
    "<br><br> We next tokenize the data"
   ]
  },
  {
   "cell_type": "code",
   "execution_count": 29,
   "id": "c083ce25-3a9a-4175-a349-3bbc716f9aa8",
   "metadata": {
    "canvas": {
     "comments": [],
     "componentType": "CodeCell",
     "copiedOriginId": null,
     "diskcache": false,
     "headerColor": "transparent",
     "id": "3ceed494-f90c-445e-b213-0c451298bad8",
     "isComponent": false,
     "name": "",
     "parents": []
    }
   },
   "outputs": [
    {
     "name": "stdout",
     "output_type": "stream",
     "text": [
      "<class 'pandas.core.frame.DataFrame'>\n",
      "Index: 1979 entries, 2023-05-27 15:46:09 to 2023-02-19 06:53:51\n",
      "Data columns (total 9 columns):\n",
      " #   Column            Non-Null Count  Dtype  \n",
      "---  ------            --------------  -----  \n",
      " 0   title             1979 non-null   object \n",
      " 1   content           1979 non-null   object \n",
      " 2   top_10_comments   1979 non-null   object \n",
      " 3   upvotes           1979 non-null   int64  \n",
      " 4   no_of_comments    1979 non-null   int64  \n",
      " 5   url               1979 non-null   object \n",
      " 6   tags              1979 non-null   object \n",
      " 7   popularity_score  1979 non-null   float64\n",
      " 8   is_ml             1979 non-null   int64  \n",
      "dtypes: float64(1), int64(3), object(5)\n",
      "memory usage: 154.6+ KB\n"
     ]
    }
   ],
   "source": [
    "df.info()"
   ]
  },
  {
   "cell_type": "code",
   "execution_count": 30,
   "id": "062243f0-4af8-4589-9386-94aaf60506ad",
   "metadata": {
    "canvas": {
     "comments": [],
     "componentType": "CodeCell",
     "copiedOriginId": null,
     "diskcache": false,
     "headerColor": "transparent",
     "id": "42f2982d-57bf-4723-b53a-ea3189af1b0a",
     "isComponent": false,
     "name": "",
     "parents": []
    }
   },
   "outputs": [],
   "source": [
    "# #Tokenizing columns using custom tokenizer function\n",
    "# df['tokenized_title'] = df['title'].apply(tokenize_text).apply(' '.join)\n",
    "# df['tokenized_content'] = df['content'].apply(tokenize_text).apply(' '.join)\n",
    "# df['tokenized_topcomments'] = df['top_10_comments'].apply(tokenize_text).apply(' '.join)"
   ]
  },
  {
   "cell_type": "markdown",
   "id": "0df84765-1018-4a57-b1fb-a2050d0445ae",
   "metadata": {
    "canvas": {
     "comments": [],
     "componentType": "CodeCell",
     "copiedOriginId": null,
     "diskcache": false,
     "headerColor": "transparent",
     "id": "d07ada38-677d-4341-97ae-a369e39f4585",
     "isComponent": false,
     "name": "",
     "parents": []
    }
   },
   "source": [
    "For ease of loading and rerunning the script, we will save df as a csv file and then reload it for EDA. The above code to tokenize the 3 columns\n",
    "will be commented out"
   ]
  },
  {
   "cell_type": "code",
   "execution_count": 31,
   "id": "3d9603d6-4b3a-4835-93b7-ec798919b010",
   "metadata": {
    "canvas": {
     "comments": [],
     "componentType": "CodeCell",
     "copiedOriginId": null,
     "diskcache": false,
     "headerColor": "transparent",
     "id": "7387bec5-0430-45ac-8337-bdee9fb3e715",
     "isComponent": false,
     "name": "",
     "parents": []
    }
   },
   "outputs": [],
   "source": [
    "# df.to_csv('../data/df_tokenized.csv')"
   ]
  },
  {
   "cell_type": "code",
   "execution_count": 32,
   "id": "6942609b-abea-42cd-999d-1a3f3570efdc",
   "metadata": {
    "canvas": {
     "comments": [],
     "componentType": "CodeCell",
     "copiedOriginId": null,
     "diskcache": false,
     "headerColor": "transparent",
     "id": "e3940ffd-164b-4efc-959f-a6d085217c94",
     "isComponent": false,
     "name": "",
     "parents": []
    }
   },
   "outputs": [
    {
     "name": "stdout",
     "output_type": "stream",
     "text": [
      "<class 'pandas.core.frame.DataFrame'>\n",
      "Index: 1979 entries, 2023-05-27 15:46:09 to 2023-02-19 06:53:51\n",
      "Data columns (total 9 columns):\n",
      " #   Column            Non-Null Count  Dtype  \n",
      "---  ------            --------------  -----  \n",
      " 0   title             1979 non-null   object \n",
      " 1   content           1979 non-null   object \n",
      " 2   top_10_comments   1979 non-null   object \n",
      " 3   upvotes           1979 non-null   int64  \n",
      " 4   no_of_comments    1979 non-null   int64  \n",
      " 5   url               1979 non-null   object \n",
      " 6   tags              1979 non-null   object \n",
      " 7   popularity_score  1979 non-null   float64\n",
      " 8   is_ml             1979 non-null   int64  \n",
      "dtypes: float64(1), int64(3), object(5)\n",
      "memory usage: 154.6+ KB\n"
     ]
    }
   ],
   "source": [
    "df.info()"
   ]
  },
  {
   "cell_type": "code",
   "execution_count": 33,
   "id": "04ff992d-1fd5-46bb-983a-51855861e6b9",
   "metadata": {
    "canvas": {
     "comments": [],
     "componentType": "CodeCell",
     "copiedOriginId": null,
     "diskcache": false,
     "headerColor": "transparent",
     "id": "d04a62a6-5635-4f85-95ae-d58958e030ea",
     "isComponent": false,
     "name": "",
     "parents": []
    }
   },
   "outputs": [],
   "source": [
    "df = pd.read_csv('../data/df_tokenized.csv',parse_dates = ['time'], index_col='time')\n",
    "\n",
    "df[['title','content','top_10_comments','tokenized_title','tokenized_content','tokenized_topcomments']] =\\\n",
    "df[['title','content','top_10_comments','tokenized_title','tokenized_content','tokenized_topcomments']].astype('string')\n",
    "\n",
    "df['tokenized_topcomments'] = df['tokenized_topcomments'].fillna(\"nil\")\n",
    "\n",
    "df['tags'] = df['tags'].astype('category')\n"
   ]
  },
  {
   "cell_type": "code",
   "execution_count": 34,
   "id": "53713512-dc81-4673-99bd-08bc8b494f19",
   "metadata": {
    "canvas": {
     "comments": [],
     "componentType": "CodeCell",
     "copiedOriginId": null,
     "diskcache": false,
     "headerColor": "transparent",
     "id": "53932d88-db50-4bfd-a72f-50c9caafdb57",
     "isComponent": false,
     "name": "",
     "parents": []
    }
   },
   "outputs": [
    {
     "name": "stdout",
     "output_type": "stream",
     "text": [
      "<class 'pandas.core.frame.DataFrame'>\n",
      "DatetimeIndex: 1979 entries, 2023-05-27 15:46:09 to 2023-02-19 06:53:51\n",
      "Data columns (total 12 columns):\n",
      " #   Column                 Non-Null Count  Dtype   \n",
      "---  ------                 --------------  -----   \n",
      " 0   title                  1979 non-null   string  \n",
      " 1   content                1979 non-null   string  \n",
      " 2   top_10_comments        1979 non-null   string  \n",
      " 3   upvotes                1979 non-null   int64   \n",
      " 4   no_of_comments         1979 non-null   int64   \n",
      " 5   url                    1979 non-null   object  \n",
      " 6   tags                   1979 non-null   category\n",
      " 7   popularity_score       1979 non-null   float64 \n",
      " 8   is_ml                  1979 non-null   int64   \n",
      " 9   tokenized_title        1979 non-null   string  \n",
      " 10  tokenized_content      1979 non-null   string  \n",
      " 11  tokenized_topcomments  1979 non-null   string  \n",
      "dtypes: category(1), float64(1), int64(3), object(1), string(6)\n",
      "memory usage: 187.8+ KB\n"
     ]
    }
   ],
   "source": [
    "df.info()"
   ]
  },
  {
   "cell_type": "markdown",
   "id": "9bd2fba7-7a5c-4b4a-98b6-3265281fc042",
   "metadata": {
    "canvas": {
     "comments": [],
     "componentType": "CodeCell",
     "copiedOriginId": null,
     "diskcache": false,
     "headerColor": "transparent",
     "id": "cc2972bd-7645-467e-a72e-f685d3aaec98",
     "isComponent": false,
     "name": "",
     "parents": []
    }
   },
   "source": [
    "---"
   ]
  },
  {
   "cell_type": "markdown",
   "id": "8755c8a8",
   "metadata": {
    "canvas": {
     "comments": [],
     "componentType": "CodeCell",
     "copiedOriginId": null,
     "diskcache": false,
     "headerColor": "transparent",
     "id": "441494fa-eb68-466e-97c5-8de4659c3d6f",
     "isComponent": false,
     "name": "",
     "parents": []
    },
    "tags": []
   },
   "source": [
    "# Exploratory Data Analysis & Visualizations"
   ]
  },
  {
   "cell_type": "markdown",
   "id": "4761dd89-8402-40b4-ae02-0fea3fdc3d68",
   "metadata": {
    "canvas": {
     "comments": [],
     "componentType": "CodeCell",
     "copiedOriginId": null,
     "diskcache": false,
     "headerColor": "transparent",
     "id": "2a2ebd19-a960-4304-9596-62a609cbce04",
     "isComponent": false,
     "name": "",
     "parents": []
    },
    "tags": []
   },
   "source": [
    "### Distributions in each subreddit"
   ]
  },
  {
   "cell_type": "code",
   "execution_count": 35,
   "id": "231d2fe0-6949-43d0-ba6c-090daf01e0c3",
   "metadata": {
    "canvas": {
     "comments": [],
     "componentType": "CodeCell",
     "copiedOriginId": null,
     "diskcache": false,
     "headerColor": "transparent",
     "id": "1f23f81e-fc13-4c65-9b63-98af3f8967a9",
     "isComponent": false,
     "name": "",
     "parents": []
    }
   },
   "outputs": [
    {
     "data": {
      "text/plain": [
       "0    999\n",
       "1    980\n",
       "Name: is_ml, dtype: int64"
      ]
     },
     "execution_count": 35,
     "metadata": {},
     "output_type": "execute_result"
    }
   ],
   "source": [
    "df['is_ml'].value_counts()"
   ]
  },
  {
   "cell_type": "code",
   "execution_count": 36,
   "id": "ddba047b-a9d8-4b60-a33a-7a5dda29c9d9",
   "metadata": {
    "canvas": {
     "comments": [],
     "componentType": "CodeCell",
     "copiedOriginId": null,
     "diskcache": false,
     "headerColor": "transparent",
     "id": "0f9a5e54-9932-4cfa-9b73-387ff043c677",
     "isComponent": false,
     "name": "",
     "parents": []
    }
   },
   "outputs": [
    {
     "data": {
      "image/png": "[encoded data removed]",
      "text/plain": [
       "<Figure size 1000x500 with 2 Axes>"
      ]
     },
     "metadata": {},
     "output_type": "display_data"
    }
   ],
   "source": [
    "#Plotting distribution of post types (ie tags) in each subreddit thread\n",
    "catplot = sns.catplot(data=df, x='tags', col='is_ml', kind='count')\n",
    "\n",
    "for ax in catplot.fig.axes:\n",
    "    for p in ax.patches:\n",
    "        ax.text(p.get_x() + p.get_width()/2., p.get_height(), f'{p.get_height():.0f}', \n",
    "                fontsize=8, color='black', ha='center', va='bottom')\n",
    "\n",
    "plt.show()"
   ]
  },
  {
   "cell_type": "markdown",
   "id": "6e92a517-3b25-4a98-9745-ea19c58899fb",
   "metadata": {
    "canvas": {
     "comments": [],
     "componentType": "CodeCell",
     "copiedOriginId": null,
     "diskcache": false,
     "headerColor": "transparent",
     "id": "db5f9028-97ac-472e-bbec-163da189cb28",
     "isComponent": false,
     "name": "",
     "parents": []
    }
   },
   "source": [
    "Posts in r/statistics are predominantly queries, whereas most posts in r/machinelearning are discussions, projects and research. "
   ]
  },
  {
   "cell_type": "code",
   "execution_count": 37,
   "id": "b14b63ae-32ee-4b98-adf4-51f5dee60181",
   "metadata": {
    "canvas": {
     "comments": [],
     "componentType": "CodeCell",
     "copiedOriginId": null,
     "diskcache": false,
     "headerColor": "transparent",
     "id": "a727f913-225e-45a1-88db-a2c3ac53ab32",
     "isComponent": false,
     "name": "",
     "parents": []
    }
   },
   "outputs": [
    {
     "name": "stdout",
     "output_type": "stream",
     "text": [
      "<class 'pandas.core.frame.DataFrame'>\n",
      "DatetimeIndex: 1979 entries, 2023-05-27 15:46:09 to 2023-02-19 06:53:51\n",
      "Data columns (total 12 columns):\n",
      " #   Column                 Non-Null Count  Dtype   \n",
      "---  ------                 --------------  -----   \n",
      " 0   title                  1979 non-null   string  \n",
      " 1   content                1979 non-null   string  \n",
      " 2   top_10_comments        1979 non-null   string  \n",
      " 3   upvotes                1979 non-null   int64   \n",
      " 4   no_of_comments         1979 non-null   int64   \n",
      " 5   url                    1979 non-null   object  \n",
      " 6   tags                   1979 non-null   category\n",
      " 7   popularity_score       1979 non-null   float64 \n",
      " 8   is_ml                  1979 non-null   int64   \n",
      " 9   tokenized_title        1979 non-null   string  \n",
      " 10  tokenized_content      1979 non-null   string  \n",
      " 11  tokenized_topcomments  1979 non-null   string  \n",
      "dtypes: category(1), float64(1), int64(3), object(1), string(6)\n",
      "memory usage: 187.8+ KB\n"
     ]
    }
   ],
   "source": [
    "df.info()"
   ]
  },
  {
   "cell_type": "markdown",
   "id": "67e58675-3027-4ac7-8e56-12b103edb7e9",
   "metadata": {
    "canvas": {
     "comments": [],
     "componentType": "CodeCell",
     "copiedOriginId": null,
     "diskcache": false,
     "headerColor": "transparent",
     "id": "e30092cb-d3bd-4a7a-8b76-2c747e1974a9",
     "isComponent": false,
     "name": "",
     "parents": []
    }
   },
   "source": [
    "---"
   ]
  },
  {
   "cell_type": "markdown",
   "id": "57978b90-94e6-49e8-bd3a-740a365d905d",
   "metadata": {
    "canvas": {
     "comments": [],
     "componentType": "CodeCell",
     "copiedOriginId": null,
     "diskcache": false,
     "headerColor": "transparent",
     "id": "07a028b3-702f-4bc6-854d-2d5cc247d80e",
     "isComponent": false,
     "name": "",
     "parents": []
    },
    "tags": []
   },
   "source": [
    "### Popularity patterns\n",
    "We will be looking at which types of posts are popular amongst each subreddit thread."
   ]
  },
  {
   "cell_type": "markdown",
   "id": "9c4f476c-0be9-4815-947b-0df4cb281ece",
   "metadata": {
    "canvas": {
     "comments": [],
     "componentType": "CodeCell",
     "copiedOriginId": null,
     "diskcache": false,
     "headerColor": "transparent",
     "id": "31976915-7210-4a34-ae2d-cf85b3dae38c",
     "isComponent": false,
     "name": "",
     "parents": []
    }
   },
   "source": [
    "<br><br> Lets look at the popularity scores for the tags [D], [Q], [P] and [R]"
   ]
  },
  {
   "cell_type": "code",
   "execution_count": 38,
   "id": "24c435b0-a971-47ec-9223-d0e4bf53de1e",
   "metadata": {
    "canvas": {
     "comments": [],
     "componentType": "CodeCell",
     "copiedOriginId": null,
     "diskcache": false,
     "headerColor": "transparent",
     "id": "e825e7b4-cc10-441b-a84d-1805664d7075",
     "isComponent": false,
     "name": "",
     "parents": []
    }
   },
   "outputs": [
    {
     "data": {
      "text/plain": [
       "['[P]', '[D]', '[R]', '[Q]']\n",
       "Categories (9, object): ['[C]', '[D]', '[E]', '[M]', ..., '[P]', '[Q]', '[R]', '[S]']"
      ]
     },
     "execution_count": 38,
     "metadata": {},
     "output_type": "execute_result"
    }
   ],
   "source": [
    "tags_of_interest = ['[D]','[Q]','[P]','[R]']\n",
    "\n",
    "df_tags = df[df['tags'].isin(tags_of_interest)]\n",
    "df_tags['tags'].unique()"
   ]
  },
  {
   "cell_type": "code",
   "execution_count": 39,
   "id": "7acf0cc9-a9f7-4d36-ac47-f0790c1af083",
   "metadata": {
    "canvas": {
     "comments": [],
     "componentType": "CodeCell",
     "copiedOriginId": null,
     "diskcache": false,
     "headerColor": "transparent",
     "id": "6e5904e2-673f-4887-9923-14b2b2cb08f5",
     "isComponent": false,
     "name": "",
     "parents": []
    }
   },
   "outputs": [
    {
     "data": {
      "text/plain": [
       "<seaborn.axisgrid.FacetGrid at 0x1d9ec64e9a0>"
      ]
     },
     "execution_count": 39,
     "metadata": {},
     "output_type": "execute_result"
    },
    {
     "data": {
      "image/png": "[encoded data removed]",
      "text/plain": [
       "<Figure size 500x500 with 1 Axes>"
      ]
     },
     "metadata": {},
     "output_type": "display_data"
    }
   ],
   "source": [
    "#Plotting overall popularity score distribution\n",
    "sns.catplot(data=df_tags, x='tags', y='popularity_score',kind='point', join=False)"
   ]
  },
  {
   "cell_type": "code",
   "execution_count": 40,
   "id": "3bdcb917-6124-4b18-a2c1-18242f108dc8",
   "metadata": {
    "canvas": {
     "comments": [],
     "componentType": "CodeCell",
     "copiedOriginId": null,
     "diskcache": false,
     "headerColor": "transparent",
     "id": "f07f684d-c649-4596-a238-a9a09611b8d1",
     "isComponent": false,
     "name": "",
     "parents": []
    }
   },
   "outputs": [
    {
     "data": {
      "text/plain": [
       "<seaborn.axisgrid.FacetGrid at 0x1d9ec2eb100>"
      ]
     },
     "execution_count": 40,
     "metadata": {},
     "output_type": "execute_result"
    },
    {
     "data": {
      "image/png": "[encoded data removed]",
      "text/plain": [
       "<Figure size 1000x500 with 2 Axes>"
      ]
     },
     "metadata": {},
     "output_type": "display_data"
    }
   ],
   "source": [
    "#Segregating popularity score distribution by subreddit\n",
    "sns.catplot(data=df_tags, x='tags', y='popularity_score',kind='point', col='is_ml', join=False)\n"
   ]
  },
  {
   "cell_type": "markdown",
   "id": "aeac9374-e5d5-4cca-8b68-84d38bc4bca3",
   "metadata": {
    "canvas": {
     "comments": [],
     "componentType": "CodeCell",
     "copiedOriginId": null,
     "diskcache": false,
     "headerColor": "transparent",
     "id": "d643986f-f08a-49f6-a16e-a15b219fc9cc",
     "isComponent": false,
     "name": "",
     "parents": []
    }
   },
   "source": [
    "Questions posted on r/statistics are generally not as popular, as compared to posts with tags on projects and research that seem to be very popular. This makes sense considering all the AI hype nowadays, hence it is fair to conclude that topics revolving the shiniest AI models garner a lot of popularity nowadays, as we will see in the subsequent section."
   ]
  },
  {
   "cell_type": "markdown",
   "id": "497b9913-0790-465c-917f-0f9cceb831fa",
   "metadata": {
    "canvas": {
     "comments": [],
     "componentType": "CodeCell",
     "copiedOriginId": null,
     "diskcache": false,
     "headerColor": "transparent",
     "id": "01654d79-79cb-490e-aa69-d3859084ba95",
     "isComponent": false,
     "name": "",
     "parents": []
    }
   },
   "source": [
    "<br><br>Next, we can explore on how the popularity of the subreddits changed over time"
   ]
  },
  {
   "cell_type": "code",
   "execution_count": 41,
   "id": "92292369-5d44-4a66-b2b7-f774d4ddd4d1",
   "metadata": {
    "canvas": {
     "comments": [],
     "componentType": "CodeCell",
     "copiedOriginId": null,
     "diskcache": false,
     "headerColor": "transparent",
     "id": "6beaf261-ad13-4ef5-822d-371ae5611854",
     "isComponent": false,
     "name": "",
     "parents": []
    }
   },
   "outputs": [
    {
     "data": {
      "text/plain": [
       "<seaborn.axisgrid.FacetGrid at 0x1d9ec4edd30>"
      ]
     },
     "execution_count": 41,
     "metadata": {},
     "output_type": "execute_result"
    },
    {
     "data": {
      "image/png": "[encoded data removed]",
      "text/plain": [
       "<Figure size 1200x600 with 1 Axes>"
      ]
     },
     "metadata": {},
     "output_type": "display_data"
    }
   ],
   "source": [
    "df_datetime = df.reset_index()\n",
    "gb_date = df_datetime.groupby(pd.Grouper(key='time',freq='D'))['popularity_score'].mean().reset_index()\n",
    "\n",
    "\n",
    "sns.relplot(data=gb_date, x='time', y='popularity_score', kind='line',height=6,aspect=2 )\n"
   ]
  },
  {
   "cell_type": "markdown",
   "id": "4a339baa-a7ad-4440-8c55-01f2f2809fc1",
   "metadata": {
    "canvas": {
     "comments": [],
     "componentType": "CodeCell",
     "copiedOriginId": null,
     "diskcache": false,
     "headerColor": "transparent",
     "id": "7f489a96-f548-4f2d-8cf1-0bb89c8429b3",
     "isComponent": false,
     "name": "",
     "parents": []
    }
   },
   "source": [
    "Overall popularity doesnt seem to have changed much over time. Lets deep dive into popularities of each individual subreddit threads"
   ]
  },
  {
   "cell_type": "code",
   "execution_count": 42,
   "id": "4b22a8b5-2336-40e5-9a7d-ddbe80f1049e",
   "metadata": {
    "canvas": {
     "comments": [],
     "componentType": "CodeCell",
     "copiedOriginId": null,
     "diskcache": false,
     "headerColor": "transparent",
     "id": "3d104062-4592-4ef4-ace0-a7b35a63e928",
     "isComponent": false,
     "name": "",
     "parents": []
    }
   },
   "outputs": [
    {
     "data": {
      "image/png": "[encoded data removed]",
      "text/plain": [
       "<Figure size 1200x600 with 1 Axes>"
      ]
     },
     "metadata": {},
     "output_type": "display_data"
    },
    {
     "data": {
      "image/png": "[encoded data removed]",
      "text/plain": [
       "<Figure size 1200x600 with 1 Axes>"
      ]
     },
     "metadata": {},
     "output_type": "display_data"
    }
   ],
   "source": [
    "ml = df[df['is_ml']==1].reset_index()\n",
    "stats = df[df['is_ml']==0].reset_index()\n",
    "\n",
    "gb_date_ml = ml.groupby(pd.Grouper(key='time',freq='D'))['popularity_score'].mean().reset_index()\n",
    "gb_date_stats = stats.groupby(pd.Grouper(key='time',freq='D'))['popularity_score'].mean().reset_index()\n",
    "\n",
    "\n",
    "sns.relplot(data=gb_date_ml, x='time', y='popularity_score', kind='line',height=6,aspect=2, color='green')\n",
    "sns.relplot(data=gb_date_stats, x='time', y='popularity_score', kind='line',height=6,aspect=2, color='blue')\n",
    "\n",
    "plt.show()"
   ]
  },
  {
   "cell_type": "markdown",
   "id": "9cab7954-7c69-4567-893a-2e7d124bf7c4",
   "metadata": {
    "canvas": {
     "comments": [],
     "componentType": "CodeCell",
     "copiedOriginId": null,
     "diskcache": false,
     "headerColor": "transparent",
     "id": "6ac29fe5-434e-475c-bd28-6dc55db76e67",
     "isComponent": false,
     "name": "",
     "parents": []
    }
   },
   "source": [
    "Theres no conclusion we can draw from these 2 graphs, as the number of datapoints collected is possibly too small, and there is no obvious trend we can glean from the above 2 graphs"
   ]
  },
  {
   "cell_type": "markdown",
   "id": "a0b3e392-e92d-4c3a-9030-4ecf3c752609",
   "metadata": {
    "canvas": {
     "comments": [],
     "componentType": "CodeCell",
     "copiedOriginId": null,
     "diskcache": false,
     "headerColor": "transparent",
     "id": "c84d02ce-7f3d-411a-93e4-14c44185a302",
     "isComponent": false,
     "name": "",
     "parents": []
    }
   },
   "source": [
    "<br><br>Lets now explore how the number of upvotes and comments vary from different subreddit threads and tags"
   ]
  },
  {
   "cell_type": "code",
   "execution_count": 43,
   "id": "a98980ce-72cc-4363-b17f-13f7276b87f7",
   "metadata": {
    "canvas": {
     "comments": [],
     "componentType": "CodeCell",
     "copiedOriginId": null,
     "diskcache": false,
     "headerColor": "transparent",
     "id": "e83b73c5-7661-48cb-b33f-5a463133ded5",
     "isComponent": false,
     "name": "",
     "parents": []
    }
   },
   "outputs": [
    {
     "data": {
      "text/plain": [
       "<seaborn.axisgrid.FacetGrid at 0x1d9ec897580>"
      ]
     },
     "execution_count": 43,
     "metadata": {},
     "output_type": "execute_result"
    },
    {
     "data": {
      "image/png": "[encoded data removed]",
      "text/plain": [
       "<Figure size 1200x600 with 1 Axes>"
      ]
     },
     "metadata": {},
     "output_type": "display_data"
    }
   ],
   "source": [
    "sns.catplot(data=df, x='tags', y='upvotes', kind='point', height=6, aspect=2, join=False)"
   ]
  },
  {
   "cell_type": "markdown",
   "id": "95f24c85-76e8-44e5-87b0-6312a9f19cae",
   "metadata": {
    "canvas": {
     "comments": [],
     "componentType": "CodeCell",
     "copiedOriginId": null,
     "diskcache": false,
     "headerColor": "transparent",
     "id": "8c1512a9-337e-4df0-88a1-cd454d666cba",
     "isComponent": false,
     "name": "",
     "parents": []
    }
   },
   "source": [
    "From the above graph, News has the highest number of overall upvotes, followed by Research and Projects. <br>\n",
    "\n",
    "As the y axis represents the mean number of upvotes, and [N] only has 58 entries in total, the mean number of upvotes could possibly have been overinflated. [P] and [R] on the other hand both have 218 posts each, and their high mean upvote score can be conclusively indicative of the popularity of such genre of threads in r/machinelearning, which further reinforces the pattern observed in the above section.<br>\n",
    "\n",
    "These 3 tags are also mainly from the r/machinelearning subreddit thread, which is indicative of the liveliness in that subreddit thread due to the AI hype."
   ]
  },
  {
   "cell_type": "markdown",
   "id": "3317606c-4a38-46b4-a013-b5e4dd2c8102",
   "metadata": {
    "canvas": {
     "comments": [],
     "componentType": "CodeCell",
     "copiedOriginId": null,
     "diskcache": false,
     "headerColor": "transparent",
     "id": "982563bc-3f20-4f18-b398-f0a657e70ddc",
     "isComponent": false,
     "name": "",
     "parents": []
    }
   },
   "source": [
    "---"
   ]
  },
  {
   "cell_type": "markdown",
   "id": "776929ff-465a-4f10-9899-77885393eb92",
   "metadata": {
    "canvas": {
     "comments": [],
     "componentType": "CodeCell",
     "copiedOriginId": null,
     "diskcache": false,
     "headerColor": "transparent",
     "id": "8397893e-ab02-4cc5-8c23-dcb46c5a8a7d",
     "isComponent": false,
     "name": "",
     "parents": []
    },
    "tags": []
   },
   "source": [
    "### Community Detection\n",
    "We use KMeans clustering here to try to detect for posts with similar keywords mentioned"
   ]
  },
  {
   "cell_type": "code",
   "execution_count": 44,
   "id": "4156431f-f075-4f4d-9ff8-e6f959cc469d",
   "metadata": {
    "canvas": {
     "comments": [],
     "componentType": "CodeCell",
     "copiedOriginId": null,
     "diskcache": false,
     "headerColor": "transparent",
     "id": "57cf4421-f001-445d-a050-7720bedeb961",
     "isComponent": false,
     "name": "",
     "parents": []
    }
   },
   "outputs": [],
   "source": [
    "#Feature extraction using tf-idf\n",
    "tfidf_title = TfidfVectorizer()\n",
    "\n",
    "X_title = tfidf_title.fit_transform(df['tokenized_title'])\n",
    "\n"
   ]
  },
  {
   "cell_type": "code",
   "execution_count": 45,
   "id": "96013a00-fcc1-4a6f-b9da-7fae2f6444c3",
   "metadata": {
    "canvas": {
     "comments": [],
     "componentType": "CodeCell",
     "copiedOriginId": null,
     "diskcache": false,
     "headerColor": "transparent",
     "id": "99f4783d-33a2-4a54-a3d2-c8e36785995c",
     "isComponent": false,
     "name": "",
     "parents": []
    }
   },
   "outputs": [
    {
     "name": "stderr",
     "output_type": "stream",
     "text": [
      "C:\\Users\\tanya\\anaconda3\\lib\\site-packages\\sklearn\\cluster\\_kmeans.py:1412: FutureWarning: The default value of `n_init` will change from 10 to 'auto' in 1.4. Set the value of `n_init` explicitly to suppress the warning\n",
      "  super()._check_params_vs_input(X, default_n_init=10)\n"
     ]
    },
    {
     "data": {
      "text/plain": [
       "[(1, 1966.656283462367),\n",
       " (2, 1956.5449160461217),\n",
       " (3, 1944.8396252856764),\n",
       " (4, 1936.7823192411465),\n",
       " (5, 1929.5133141847193),\n",
       " (6, 1924.1767063782183),\n",
       " (7, 1915.5048018519303),\n",
       " (8, 1906.1512576830291),\n",
       " (9, 1898.140159261436),\n",
       " (10, 1897.631775106988),\n",
       " (11, 1891.168171740314),\n",
       " (12, 1881.995132943978),\n",
       " (13, 1873.6892142188535),\n",
       " (14, 1876.4438377865445),\n",
       " (15, 1872.1336765437768),\n",
       " (16, 1868.786526070157),\n",
       " (17, 1860.0478322063807),\n",
       " (18, 1858.2124012444042),\n",
       " (19, 1852.7235521000814),\n",
       " (20, 1844.915342275965),\n",
       " (21, 1843.7843444245646),\n",
       " (22, 1836.8422609910094),\n",
       " (23, 1834.9865349971283),\n",
       " (24, 1833.5944041875998),\n",
       " (25, 1827.8281555177416),\n",
       " (26, 1825.3151127450835),\n",
       " (27, 1820.8386816599764),\n",
       " (28, 1816.090833615853),\n",
       " (29, 1814.5536546764515),\n",
       " (30, 1811.6528064360728),\n",
       " (31, 1808.5800283964688),\n",
       " (32, 1804.2857054280546),\n",
       " (33, 1796.9848330694565),\n",
       " (34, 1797.5791952505883),\n",
       " (35, 1799.4911506269743),\n",
       " (36, 1795.4418235893752),\n",
       " (37, 1790.407632545596),\n",
       " (38, 1792.607160087979),\n",
       " (39, 1789.5651798022855),\n",
       " (40, 1782.5459185870293),\n",
       " (41, 1782.749022647622),\n",
       " (42, 1779.069794446817),\n",
       " (43, 1774.6948648472853),\n",
       " (44, 1774.2779062158888),\n",
       " (45, 1772.4721075688435),\n",
       " (46, 1770.2217082651332),\n",
       " (47, 1768.6114132479172),\n",
       " (48, 1767.8305806408835),\n",
       " (49, 1762.2578899645584)]"
      ]
     },
     "execution_count": 45,
     "metadata": {},
     "output_type": "execute_result"
    }
   ],
   "source": [
    "#Fitting for title and optimizing for best n_cluster value\n",
    "\n",
    "inertia_title = []\n",
    "for i in range(1,50):\n",
    "    kmeans = KMeans(n_clusters=i,max_iter=500)\n",
    "    kmeans.fit(X_title)\n",
    "    inertia_title.append((i,kmeans.inertia_))\n",
    "\n",
    "inertia_title"
   ]
  },
  {
   "cell_type": "code",
   "execution_count": 46,
   "id": "912209d2-879e-4f8b-aacc-b46667a6be59",
   "metadata": {
    "canvas": {
     "comments": [],
     "componentType": "CodeCell",
     "copiedOriginId": null,
     "diskcache": false,
     "headerColor": "transparent",
     "id": "5af988d6-5f00-489e-acc4-eab9ba9a4666",
     "isComponent": false,
     "name": "",
     "parents": []
    }
   },
   "outputs": [
    {
     "data": {
      "image/png": "[encoded data removed]",
      "text/plain": [
       "<Figure size 640x480 with 1 Axes>"
      ]
     },
     "metadata": {},
     "output_type": "display_data"
    }
   ],
   "source": [
    "inertia_values = [tup[1] for tup in inertia_title]\n",
    "plt.plot(range(1,50),inertia_values)\n",
    "plt.show()\n"
   ]
  },
  {
   "cell_type": "markdown",
   "id": "acd79160-4756-4b7c-9750-df636a381a10",
   "metadata": {
    "canvas": {
     "comments": [],
     "componentType": "CodeCell",
     "copiedOriginId": null,
     "diskcache": false,
     "headerColor": "transparent",
     "id": "b27f7926-0a71-4513-bfef-717684610940",
     "isComponent": false,
     "name": "",
     "parents": []
    }
   },
   "source": [
    "Seems like there is a small elbow point at n=37 - we will be using that"
   ]
  },
  {
   "cell_type": "code",
   "execution_count": 47,
   "id": "76088e43-a815-48c6-a6af-11516c348eae",
   "metadata": {
    "canvas": {
     "comments": [],
     "componentType": "CodeCell",
     "copiedOriginId": null,
     "diskcache": false,
     "headerColor": "transparent",
     "id": "96339848-6b62-47be-881d-bf53e99d20cd",
     "isComponent": false,
     "name": "",
     "parents": []
    }
   },
   "outputs": [
    {
     "data": {
      "text/html": [
       "<div>\n",
       "<style scoped>\n",
       "    .dataframe tbody tr th:only-of-type {\n",
       "        vertical-align: middle;\n",
       "    }\n",
       "\n",
       "    .dataframe tbody tr th {\n",
       "        vertical-align: top;\n",
       "    }\n",
       "\n",
       "    .dataframe thead th {\n",
       "        text-align: right;\n",
       "    }\n",
       "</style>\n",
       "<table border=\"1\" class=\"dataframe\">\n",
       "  <thead>\n",
       "    <tr style=\"text-align: right;\">\n",
       "      <th></th>\n",
       "      <th>title</th>\n",
       "      <th>content</th>\n",
       "      <th>top_10_comments</th>\n",
       "      <th>upvotes</th>\n",
       "      <th>no_of_comments</th>\n",
       "      <th>url</th>\n",
       "      <th>tags</th>\n",
       "      <th>popularity_score</th>\n",
       "      <th>is_ml</th>\n",
       "      <th>tokenized_title</th>\n",
       "      <th>tokenized_content</th>\n",
       "      <th>tokenized_topcomments</th>\n",
       "      <th>title_cluster</th>\n",
       "    </tr>\n",
       "    <tr>\n",
       "      <th>time</th>\n",
       "      <th></th>\n",
       "      <th></th>\n",
       "      <th></th>\n",
       "      <th></th>\n",
       "      <th></th>\n",
       "      <th></th>\n",
       "      <th></th>\n",
       "      <th></th>\n",
       "      <th></th>\n",
       "      <th></th>\n",
       "      <th></th>\n",
       "      <th></th>\n",
       "      <th></th>\n",
       "    </tr>\n",
       "  </thead>\n",
       "  <tbody>\n",
       "    <tr>\n",
       "      <th>2023-05-27 15:46:09</th>\n",
       "      <td>Training and serving GPT-2 using Keras-CV and...</td>\n",
       "      <td>Hi, just want to share my latest project in wh...</td>\n",
       "      <td>[]</td>\n",
       "      <td>1</td>\n",
       "      <td>0</td>\n",
       "      <td>https://www.reddit.com/r/MachineLearning/comme...</td>\n",
       "      <td>[P]</td>\n",
       "      <td>0.000000</td>\n",
       "      <td>1</td>\n",
       "      <td>training serving gpt2 kerascv tensorflow</td>\n",
       "      <td>hi want share latest project playing tensorflo...</td>\n",
       "      <td>nil</td>\n",
       "      <td>28</td>\n",
       "    </tr>\n",
       "    <tr>\n",
       "      <th>2023-05-27 13:09:54</th>\n",
       "      <td>Prediction of range</td>\n",
       "      <td>I’m using neural networks and tensor flow on p...</td>\n",
       "      <td>[]</td>\n",
       "      <td>0</td>\n",
       "      <td>0</td>\n",
       "      <td>https://www.reddit.com/r/MachineLearning/comme...</td>\n",
       "      <td>[D]</td>\n",
       "      <td>0.000000</td>\n",
       "      <td>1</td>\n",
       "      <td>prediction range</td>\n",
       "      <td>’ neural network tensor flow python library pr...</td>\n",
       "      <td>nil</td>\n",
       "      <td>28</td>\n",
       "    </tr>\n",
       "    <tr>\n",
       "      <th>2023-05-27 08:44:16</th>\n",
       "      <td>Learning Theory</td>\n",
       "      <td>I remember taking a class in college about sta...</td>\n",
       "      <td>['The Performer paper has some learning theory...</td>\n",
       "      <td>5</td>\n",
       "      <td>1</td>\n",
       "      <td>https://www.reddit.com/r/MachineLearning/comme...</td>\n",
       "      <td>[D]</td>\n",
       "      <td>1.609438</td>\n",
       "      <td>1</td>\n",
       "      <td>learning theory</td>\n",
       "      <td>remember taking class college statistical lear...</td>\n",
       "      <td>performer paper learning theory theorem 2 just...</td>\n",
       "      <td>13</td>\n",
       "    </tr>\n",
       "    <tr>\n",
       "      <th>2023-05-27 07:49:25</th>\n",
       "      <td>Sophia: A Scalable Stochastic Second-order Op...</td>\n",
       "      <td>nil content</td>\n",
       "      <td>['Wrong repo link, this one is official: https...</td>\n",
       "      <td>24</td>\n",
       "      <td>4</td>\n",
       "      <td>https://arxiv.org/abs/2305.14342</td>\n",
       "      <td>[R]</td>\n",
       "      <td>4.564348</td>\n",
       "      <td>1</td>\n",
       "      <td>sophia scalable stochastic secondorder optimiz...</td>\n",
       "      <td>nil content</td>\n",
       "      <td>wrong repo link one official httpsgithubcomliu...</td>\n",
       "      <td>11</td>\n",
       "    </tr>\n",
       "    <tr>\n",
       "      <th>2023-05-27 07:12:33</th>\n",
       "      <td>Instruction following codegen model you can u...</td>\n",
       "      <td>Releasing https://huggingface.co/sahil2801/ins...</td>\n",
       "      <td>['What dataset does it use?']</td>\n",
       "      <td>2</td>\n",
       "      <td>1</td>\n",
       "      <td>https://www.reddit.com/r/MachineLearning/comme...</td>\n",
       "      <td>[P]</td>\n",
       "      <td>0.693147</td>\n",
       "      <td>1</td>\n",
       "      <td>instruction following codegen model commercially</td>\n",
       "      <td>releasing httpshuggingfacecosahil2801instructc...</td>\n",
       "      <td>dataset</td>\n",
       "      <td>34</td>\n",
       "    </tr>\n",
       "  </tbody>\n",
       "</table>\n",
       "</div>"
      ],
      "text/plain": [
       "                                                                 title  \\\n",
       "time                                                                     \n",
       "2023-05-27 15:46:09   Training and serving GPT-2 using Keras-CV and...   \n",
       "2023-05-27 13:09:54                               Prediction of range    \n",
       "2023-05-27 08:44:16                                    Learning Theory   \n",
       "2023-05-27 07:49:25   Sophia: A Scalable Stochastic Second-order Op...   \n",
       "2023-05-27 07:12:33   Instruction following codegen model you can u...   \n",
       "\n",
       "                                                               content  \\\n",
       "time                                                                     \n",
       "2023-05-27 15:46:09  Hi, just want to share my latest project in wh...   \n",
       "2023-05-27 13:09:54  I’m using neural networks and tensor flow on p...   \n",
       "2023-05-27 08:44:16  I remember taking a class in college about sta...   \n",
       "2023-05-27 07:49:25                                        nil content   \n",
       "2023-05-27 07:12:33  Releasing https://huggingface.co/sahil2801/ins...   \n",
       "\n",
       "                                                       top_10_comments  \\\n",
       "time                                                                     \n",
       "2023-05-27 15:46:09                                                 []   \n",
       "2023-05-27 13:09:54                                                 []   \n",
       "2023-05-27 08:44:16  ['The Performer paper has some learning theory...   \n",
       "2023-05-27 07:49:25  ['Wrong repo link, this one is official: https...   \n",
       "2023-05-27 07:12:33                      ['What dataset does it use?']   \n",
       "\n",
       "                     upvotes  no_of_comments  \\\n",
       "time                                           \n",
       "2023-05-27 15:46:09        1               0   \n",
       "2023-05-27 13:09:54        0               0   \n",
       "2023-05-27 08:44:16        5               1   \n",
       "2023-05-27 07:49:25       24               4   \n",
       "2023-05-27 07:12:33        2               1   \n",
       "\n",
       "                                                                   url tags  \\\n",
       "time                                                                          \n",
       "2023-05-27 15:46:09  https://www.reddit.com/r/MachineLearning/comme...  [P]   \n",
       "2023-05-27 13:09:54  https://www.reddit.com/r/MachineLearning/comme...  [D]   \n",
       "2023-05-27 08:44:16  https://www.reddit.com/r/MachineLearning/comme...  [D]   \n",
       "2023-05-27 07:49:25                   https://arxiv.org/abs/2305.14342  [R]   \n",
       "2023-05-27 07:12:33  https://www.reddit.com/r/MachineLearning/comme...  [P]   \n",
       "\n",
       "                     popularity_score  is_ml  \\\n",
       "time                                           \n",
       "2023-05-27 15:46:09          0.000000      1   \n",
       "2023-05-27 13:09:54          0.000000      1   \n",
       "2023-05-27 08:44:16          1.609438      1   \n",
       "2023-05-27 07:49:25          4.564348      1   \n",
       "2023-05-27 07:12:33          0.693147      1   \n",
       "\n",
       "                                                       tokenized_title  \\\n",
       "time                                                                     \n",
       "2023-05-27 15:46:09           training serving gpt2 kerascv tensorflow   \n",
       "2023-05-27 13:09:54                                   prediction range   \n",
       "2023-05-27 08:44:16                                    learning theory   \n",
       "2023-05-27 07:49:25  sophia scalable stochastic secondorder optimiz...   \n",
       "2023-05-27 07:12:33   instruction following codegen model commercially   \n",
       "\n",
       "                                                     tokenized_content  \\\n",
       "time                                                                     \n",
       "2023-05-27 15:46:09  hi want share latest project playing tensorflo...   \n",
       "2023-05-27 13:09:54  ’ neural network tensor flow python library pr...   \n",
       "2023-05-27 08:44:16  remember taking class college statistical lear...   \n",
       "2023-05-27 07:49:25                                        nil content   \n",
       "2023-05-27 07:12:33  releasing httpshuggingfacecosahil2801instructc...   \n",
       "\n",
       "                                                 tokenized_topcomments  \\\n",
       "time                                                                     \n",
       "2023-05-27 15:46:09                                                nil   \n",
       "2023-05-27 13:09:54                                                nil   \n",
       "2023-05-27 08:44:16  performer paper learning theory theorem 2 just...   \n",
       "2023-05-27 07:49:25  wrong repo link one official httpsgithubcomliu...   \n",
       "2023-05-27 07:12:33                                            dataset   \n",
       "\n",
       "                     title_cluster  \n",
       "time                                \n",
       "2023-05-27 15:46:09             28  \n",
       "2023-05-27 13:09:54             28  \n",
       "2023-05-27 08:44:16             13  \n",
       "2023-05-27 07:49:25             11  \n",
       "2023-05-27 07:12:33             34  "
      ]
     },
     "execution_count": 47,
     "metadata": {},
     "output_type": "execute_result"
    }
   ],
   "source": [
    "\n",
    "kmeans = KMeans(n_clusters=37,max_iter=500, random_state=42)\n",
    "kmeans.fit(X_title)\n",
    "df['title_cluster'] = kmeans.labels_\n",
    "df.head()"
   ]
  },
  {
   "cell_type": "markdown",
   "id": "cc2e4d7f-f1ea-4ea1-9964-d95eb6e6b372",
   "metadata": {
    "canvas": {
     "comments": [],
     "componentType": "CodeCell",
     "copiedOriginId": null,
     "diskcache": false,
     "headerColor": "transparent",
     "id": "e4744f99-a6e6-4ab7-9457-62c70ce01388",
     "isComponent": false,
     "name": "",
     "parents": []
    }
   },
   "source": [
    "It seems like KMeans is able to sufficiently distinguish some threads from each other. Lets investigate a few selected clusters to see commonnalities in the threads"
   ]
  },
  {
   "cell_type": "code",
   "execution_count": 48,
   "id": "ad96182e-4793-48bd-b24b-2bd1a1604e6c",
   "metadata": {
    "canvas": {
     "comments": [],
     "componentType": "CodeCell",
     "copiedOriginId": null,
     "diskcache": false,
     "headerColor": "transparent",
     "id": "fede80c3-8165-4065-aa97-85144a14c739",
     "isComponent": false,
     "name": "",
     "parents": []
    },
    "tags": []
   },
   "outputs": [
    {
     "name": "stdout",
     "output_type": "stream",
     "text": [
      "Cluster 1:\n"
     ]
    },
    {
     "data": {
      "text/plain": [
       "1    33\n",
       "0     1\n",
       "Name: is_ml, dtype: int64"
      ]
     },
     "metadata": {},
     "output_type": "display_data"
    },
    {
     "name": "stdout",
     "output_type": "stream",
     "text": [
      "\n",
      "\n",
      "Cluster 2:\n"
     ]
    },
    {
     "data": {
      "text/plain": [
       "1    77\n",
       "Name: is_ml, dtype: int64"
      ]
     },
     "metadata": {},
     "output_type": "display_data"
    },
    {
     "name": "stdout",
     "output_type": "stream",
     "text": [
      "\n",
      "\n",
      "Cluster 3:\n"
     ]
    },
    {
     "data": {
      "text/plain": [
       "0    38\n",
       "1     3\n",
       "Name: is_ml, dtype: int64"
      ]
     },
     "metadata": {},
     "output_type": "display_data"
    },
    {
     "name": "stdout",
     "output_type": "stream",
     "text": [
      "\n",
      "\n",
      "Cluster 5:\n"
     ]
    },
    {
     "data": {
      "text/plain": [
       "0    12\n",
       "Name: is_ml, dtype: int64"
      ]
     },
     "metadata": {},
     "output_type": "display_data"
    },
    {
     "name": "stdout",
     "output_type": "stream",
     "text": [
      "\n",
      "\n",
      "Cluster 10:\n"
     ]
    },
    {
     "data": {
      "text/plain": [
       "1    41\n",
       "0     1\n",
       "Name: is_ml, dtype: int64"
      ]
     },
     "metadata": {},
     "output_type": "display_data"
    },
    {
     "name": "stdout",
     "output_type": "stream",
     "text": [
      "\n",
      "\n",
      "Cluster 11:\n"
     ]
    },
    {
     "data": {
      "text/plain": [
       "1    54\n",
       "Name: is_ml, dtype: int64"
      ]
     },
     "metadata": {},
     "output_type": "display_data"
    },
    {
     "name": "stdout",
     "output_type": "stream",
     "text": [
      "\n",
      "\n",
      "Cluster 12:\n"
     ]
    },
    {
     "data": {
      "text/plain": [
       "0    31\n",
       "Name: is_ml, dtype: int64"
      ]
     },
     "metadata": {},
     "output_type": "display_data"
    },
    {
     "name": "stdout",
     "output_type": "stream",
     "text": [
      "\n",
      "\n",
      "Cluster 15:\n"
     ]
    },
    {
     "data": {
      "text/plain": [
       "0    34\n",
       "1     1\n",
       "Name: is_ml, dtype: int64"
      ]
     },
     "metadata": {},
     "output_type": "display_data"
    },
    {
     "name": "stdout",
     "output_type": "stream",
     "text": [
      "\n",
      "\n",
      "Cluster 16:\n"
     ]
    },
    {
     "data": {
      "text/plain": [
       "0    40\n",
       "1     2\n",
       "Name: is_ml, dtype: int64"
      ]
     },
     "metadata": {},
     "output_type": "display_data"
    },
    {
     "name": "stdout",
     "output_type": "stream",
     "text": [
      "\n",
      "\n",
      "Cluster 18:\n"
     ]
    },
    {
     "data": {
      "text/plain": [
       "0    31\n",
       "1     2\n",
       "Name: is_ml, dtype: int64"
      ]
     },
     "metadata": {},
     "output_type": "display_data"
    },
    {
     "name": "stdout",
     "output_type": "stream",
     "text": [
      "\n",
      "\n",
      "Cluster 21:\n"
     ]
    },
    {
     "data": {
      "text/plain": [
       "1    55\n",
       "0     2\n",
       "Name: is_ml, dtype: int64"
      ]
     },
     "metadata": {},
     "output_type": "display_data"
    },
    {
     "name": "stdout",
     "output_type": "stream",
     "text": [
      "\n",
      "\n",
      "Cluster 22:\n"
     ]
    },
    {
     "data": {
      "text/plain": [
       "0    28\n",
       "1     2\n",
       "Name: is_ml, dtype: int64"
      ]
     },
     "metadata": {},
     "output_type": "display_data"
    },
    {
     "name": "stdout",
     "output_type": "stream",
     "text": [
      "\n",
      "\n",
      "Cluster 26:\n"
     ]
    },
    {
     "data": {
      "text/plain": [
       "0    29\n",
       "1     1\n",
       "Name: is_ml, dtype: int64"
      ]
     },
     "metadata": {},
     "output_type": "display_data"
    },
    {
     "name": "stdout",
     "output_type": "stream",
     "text": [
      "\n",
      "\n",
      "Cluster 27:\n"
     ]
    },
    {
     "data": {
      "text/plain": [
       "0    33\n",
       "1     2\n",
       "Name: is_ml, dtype: int64"
      ]
     },
     "metadata": {},
     "output_type": "display_data"
    },
    {
     "name": "stdout",
     "output_type": "stream",
     "text": [
      "\n",
      "\n",
      "Cluster 30:\n"
     ]
    },
    {
     "data": {
      "text/plain": [
       "0    21\n",
       "1     1\n",
       "Name: is_ml, dtype: int64"
      ]
     },
     "metadata": {},
     "output_type": "display_data"
    },
    {
     "name": "stdout",
     "output_type": "stream",
     "text": [
      "\n",
      "\n",
      "Cluster 31:\n"
     ]
    },
    {
     "data": {
      "text/plain": [
       "1    25\n",
       "Name: is_ml, dtype: int64"
      ]
     },
     "metadata": {},
     "output_type": "display_data"
    },
    {
     "name": "stdout",
     "output_type": "stream",
     "text": [
      "\n",
      "\n",
      "Cluster 32:\n"
     ]
    },
    {
     "data": {
      "text/plain": [
       "0    52\n",
       "Name: is_ml, dtype: int64"
      ]
     },
     "metadata": {},
     "output_type": "display_data"
    },
    {
     "name": "stdout",
     "output_type": "stream",
     "text": [
      "\n",
      "\n",
      "Cluster 33:\n"
     ]
    },
    {
     "data": {
      "text/plain": [
       "1    20\n",
       "Name: is_ml, dtype: int64"
      ]
     },
     "metadata": {},
     "output_type": "display_data"
    },
    {
     "name": "stdout",
     "output_type": "stream",
     "text": [
      "\n",
      "\n",
      "Cluster 36:\n"
     ]
    },
    {
     "data": {
      "text/plain": [
       "0    21\n",
       "Name: is_ml, dtype: int64"
      ]
     },
     "metadata": {},
     "output_type": "display_data"
    },
    {
     "name": "stdout",
     "output_type": "stream",
     "text": [
      "\n",
      "\n"
     ]
    }
   ],
   "source": [
    "for i in range(37):\n",
    "    if (df[df['title_cluster']==i].sort_values('title_cluster')['is_ml'].value_counts(normalize=True).max()>0.9) == True:\n",
    "        print(f\"Cluster {i}:\")\n",
    "        display(df[df['title_cluster']==i].sort_values('title_cluster')['is_ml'].value_counts())\n",
    "        # Call the function to get the top keywords\n",
    "        print(\"\\n\")\n",
    "\n"
   ]
  },
  {
   "cell_type": "code",
   "execution_count": 49,
   "id": "820c9aa5-df61-4da2-b600-6233360dcc5e",
   "metadata": {
    "canvas": {
     "comments": [],
     "componentType": "CodeCell",
     "copiedOriginId": null,
     "diskcache": false,
     "headerColor": "transparent",
     "id": "43b86592-010c-44cb-b942-13594a49de91",
     "isComponent": false,
     "name": "",
     "parents": []
    },
    "tags": []
   },
   "outputs": [
    {
     "name": "stdout",
     "output_type": "stream",
     "text": [
      "\n",
      "Cluster 0\n",
      "audience,graphbased,humanize,weighted,causal,ai,model,diffusion,generative,survey\n",
      "\n",
      "Cluster 1\n",
      "think,engineer,problem,project,application,challenge,amazon,learn,hackathon,ml\n",
      "\n",
      "Cluster 2\n",
      "task,generation,fine,knowledge,tuning,new,hallucination,training,opensource,llm\n",
      "\n",
      "Cluster 3\n",
      "measure,study,ratio,walsh,appropriate,mann,experiment,anova,statistical,test\n",
      "\n",
      "Cluster 4\n",
      "calculating,ttest,twoway,repeated,mixed,subject,measure,best,way,anova\n",
      "\n",
      "Cluster 5\n",
      "workflow,computer,msc,second,applied,master,data,bachelor,statistic,science\n",
      "\n",
      "Cluster 6\n",
      "statistic,basic,variable,weight,confidence,timeseries,two,simple,thread,question\n",
      "\n",
      "Cluster 7\n",
      "source,ii,model,llama,starcoder,llm,standard,type,error,finetuning\n",
      "\n",
      "Cluster 8\n",
      "based,bayesian,learning,interval,long,model,data,forecasting,series,time\n",
      "\n",
      "Cluster 9\n",
      "interspeech,kdd,similar,iccv,literature,result,summary,breaking,review,paper\n",
      "\n",
      "Cluster 10\n",
      "gan,classifier,autoencoder,text,prompt,generation,captioning,segmentation,model,image\n",
      "\n",
      "Cluster 11\n",
      "new,computer,tuning,state,task,instruction,reasoning,large,model,language\n",
      "\n",
      "Cluster 12\n",
      "stata,error,analysis,finding,probability,understanding,needed,problem,study,help\n",
      "\n",
      "Cluster 13\n",
      "hpo,10x,faster,application,theory,active,deep,reinforcement,machine,learning\n",
      "\n",
      "Cluster 14\n",
      "coefficient,iv,multiple,set,variable,mixed,model,algebra,regression,linear\n",
      "\n",
      "Cluster 15\n",
      "two,binary,interpretation,explanatory,random,ordinal,dependent,independent,regression,variable\n",
      "\n",
      "Cluster 16\n",
      "analysis,conditional,identify,polynomial,poisson,binary,probit,model,logistic,regression\n",
      "\n",
      "Cluster 17\n",
      "perform,determine,tabular,tool,correlation,advice,categorical,test,set,data\n",
      "\n",
      "Cluster 18\n",
      "science,graduate,master,application,undergrad,help,program,student,phd,stats\n",
      "\n",
      "Cluster 19\n",
      "based,language,learning,ai,medical,llm,statistical,area,paper,research\n",
      "\n",
      "Cluster 20\n",
      "set,per,costeffectiveness,question,treatment,indirect,conduct,analysis,comparison,multiple\n",
      "\n",
      "Cluster 21\n",
      "senate,academic,generative,agent,music,learning,microsoft,think,regulation,ai\n",
      "\n",
      "Cluster 22\n",
      "correlation,component,factor,study,costeffectiveness,correspondence,multivariate,moderation,statistical,analysis\n",
      "\n",
      "Cluster 23\n",
      "thesis,anyone,data,student,hi,statistic,statistical,statista,help,need\n",
      "\n",
      "Cluster 24\n",
      "pymc4,train,suggestion,usage,copyrighted,convolutional,social,bayesian,neural,network\n",
      "\n",
      "Cluster 25\n",
      "paper,youtube,content,dataset,course,textbook,learn,book,design,recommendation\n",
      "\n",
      "Cluster 26\n",
      "calculate,ci,intercept,get,sample,regression,correlation,estimate,value,coefficient\n",
      "\n",
      "Cluster 27\n",
      "space,get,categorical,feature,data,difference,method,testing,significance,statistical\n",
      "\n",
      "Cluster 28\n",
      "llama,different,distribution,text,chatgpt,gpt,size,transformer,dataset,sample\n",
      "\n",
      "Cluster 29\n",
      "python,define,sourceprogram,likelihood,loss,post,hoc,analysis,function,power\n",
      "\n",
      "Cluster 30\n",
      "generalisability,one,two,likelihood,calculating,block,surviving,time,equal,probability\n",
      "\n",
      "Cluster 31\n",
      "alternative,dashboard,ai,embeddings,else,3d,model,shape,api,openai\n",
      "\n",
      "Cluster 32\n",
      "major,online,learning,career,course,get,good,book,master,statistic\n",
      "\n",
      "Cluster 33\n",
      "changer,gpt4,license,deepmind,source,ai,tt,cloning,google,voice\n",
      "\n",
      "Cluster 34\n",
      "multilingual,train,datasets,instruction,best,training,generative,text,diffusion,model\n",
      "\n",
      "Cluster 35\n",
      "protect,iv,itemlevel,anyone,vector,model,image,parametric,transform,used\n",
      "\n",
      "Cluster 36\n",
      "skewed,test,scaling,sample,population,hypothesis,two,median,distribution,mean\n"
     ]
    }
   ],
   "source": [
    "get_top_keywords(X_title, kmeans.labels_, tfidf_title.get_feature_names_out(), 10)"
   ]
  },
  {
   "cell_type": "markdown",
   "id": "eb4bfbb3-aeaa-4fdc-89d3-000c7356834d",
   "metadata": {
    "canvas": {
     "comments": [],
     "componentType": "CodeCell",
     "copiedOriginId": null,
     "diskcache": false,
     "headerColor": "transparent",
     "id": "11161d87-0ae4-4cfc-af90-d1bd13a36156",
     "isComponent": false,
     "name": "",
     "parents": []
    }
   },
   "source": [
    "<br>"
   ]
  },
  {
   "cell_type": "markdown",
   "id": "f7ff01a3-05c8-46c8-8569-387408b2c9a6",
   "metadata": {
    "canvas": {
     "comments": [],
     "componentType": "CodeCell",
     "copiedOriginId": null,
     "diskcache": false,
     "headerColor": "transparent",
     "id": "fbf94412-b464-4e4e-80f4-fce97e93c024",
     "isComponent": false,
     "name": "",
     "parents": []
    }
   },
   "source": [
    "<br>For better visualisation, the following table shows the split of the clusters, along with the corresponding common words used (1 - from r/machinelearning, 0 - from r/statistics):"
   ]
  },
  {
   "cell_type": "markdown",
   "id": "246cceb4-76c4-47a5-ab8f-f378f0f614d2",
   "metadata": {
    "canvas": {
     "comments": [],
     "componentType": "CodeCell",
     "copiedOriginId": null,
     "diskcache": false,
     "headerColor": "transparent",
     "id": "832b272a-b3de-4ca6-a580-9f10f75d5e48",
     "isComponent": false,
     "name": "",
     "parents": []
    }
   },
   "source": [
    "| **Cluster** | **Value Counts** | **Predominant Topic** | **Common Words**                                                                                |\n",
    "|-------------|------------------|-----------------------|-------------------------------------------------------------------------------------------------|\n",
    "| 4           | 0 - 41<br>1 - 1  | r/statistics          | multiple,two,model,binary,random,linear,dependent,independent,regression,variable               |\n",
    "| 7           | 0 - 27<br>1 - 1  | r/statistics          | calculate,data,ii,matrix,explain,coefficient,type,someone,error,correlation                     |\n",
    "| 10          | 0 - 41<br>1 - 3  | r/statistics          | time,mann,experiment,perform,compare,study,ratio,appropriate,statistical,test                   |\n",
    "| 14          | 0 - 34<br>1 - 1  | r/statistics          | repeated,test,calculate,group,small,hypothesis,population,calculation,size,sample               |\n",
    "| 17          | 0 - 22<br>1 - 1  | r/statistics          | generalisability,one,two,likelihood,calculating,block,surviving,time,equal,probability          |\n",
    "| 23          | 0 - 22<br>1 - 0  | r/statistics          | tail,compare,unequal,interpret,nonnormal,skewed,two,mean,normal,distribution                    |\n",
    "| 28          | 0 - 51<br>1 - 3  | r/statistics          | compare,analysis,poisson,binary,probit,model,coefficient,linear,logistic,regression             |\n",
    "| 29          | 0 - 45<br>1 - 0  | r/statistics          | probability,person,dissertation,anyone,understanding,problem,study,stats,need,help              |\n",
    "| 30          | 0 - 39<br>1 - 1  | r/statistics          | conduct,component,statistical,multiple,correspondence,post,costeffectiveness,hoc,power,analysis |\n",
    "| 2           | 0 - 2<br>1 - 26  | r/machinelearning     | field,train,radiance,suggestion,usage,metaanalysis,copyrighted,convolutional,neural,network     |\n",
    "| 6           | 0 - 2<br>1 - 67  | r/machinelearning     | microsoft,think,building,multiple,regulation,advice,google,generative,voice,ai                  |\n",
    "| 8           | 0 - 0<br>1 - 70  | r/machinelearning     | tuning,app,ability,fine,like,source,hallucination,training,finetuning,llm                       |\n",
    "| 9           | 0 - 1<br>1 - 42  | r/machinelearning     | gan,autoencoder,text,prompt,generation,captioning,classifier,segmentation,model,image           |\n",
    "| 18          | 0 - 2<br>1 - 33  | r/machinelearning     | think,engineer,problem,project,concept,challenge,amazon,learn,hackathon,ml                      |\n",
    "| 21          | 0 - 0<br>1 - 22  | r/machinelearning     | llm,microsoft,song,cost,brave,cofounder,research,chatgpt,new,gpt4                               |\n",
    "| 33          | 0 - 0<br>1 - 27  | r/machinelearning     | dashboard,embeddings,else,source,ai,3d,shape,model,api,openai                                   |\n",
    "| 35          | 0 - 1<br>1 - 23  | r/machinelearning     | synthesizer,singing,eterministic,texttoimage,generative,survey,latent,stable,model,diffusion    |\n",
    "| 36          | 0 - 0<br>1 - 53  | r/machinelearning     | finetuning,computer,tuning,state,new,reasoning,instruction,large,model,language                 |"
   ]
  },
  {
   "cell_type": "markdown",
   "id": "86ce7e7b-dbe0-477d-9faf-cad0a2587e69",
   "metadata": {
    "canvas": {
     "comments": [],
     "componentType": "CodeCell",
     "copiedOriginId": null,
     "diskcache": false,
     "headerColor": "transparent",
     "id": "e23be5f7-3ed7-48e8-bdab-45557f47c7f1",
     "isComponent": false,
     "name": "",
     "parents": []
    },
    "tags": []
   },
   "source": [
    "From the above, there are several insights we can see: <br><br>\n",
    "\n",
    "r/statistics:\n",
    "- Discussions tend to revolve around fundamental statistics concepts (keywords like distribution, mean, poisson, regression, logistic/linear in clusters 4, 23, 28), statistical tests (keywords such as experiment, study, ratio, and test in cluster 10) and data interpretation (keywords such as power, correspondence etc in cluster 30). \n",
    "- There is also a chunk of posts revolving queries with keywords like dissertation, understanding etc\n",
    "\n",
    "r/machinelearning:\n",
    "- Discussions revolve around advanced machine learning concepts and applications (keywords like \"convolutional\", \"neural\" and \"network\", \"llm\", \"gan\", \"embeddings\", \"diffusion\" in clusters 2, 8, 9, 33 and 35)\n",
    "- There's also a strong representation of industry-related topics, as indicated by mentions of tech companies (Microsoft, Amazon, Google), as well as discussion around more practical elements of implementing ML systems (building, project, challenge, hackathon). This reflects the subreddit's focus on advanced ML techniques, practical implementation, and industry trends.\n",
    "\n",
    "\n",
    "In summary, while there is an overlap in interests around data, modelling, and analysis, the two subreddits have distinctive focuses. r/statistics seems more oriented towards understanding and correctly applying statistical principles and methods, often in academic or research contexts. On the other hand, r/machinelearning is more focused on advanced machine learning techniques, practical implementation, emerging technologies, and industry trends."
   ]
  },
  {
   "cell_type": "markdown",
   "id": "0801825d-2699-49dd-84eb-63b7039fdcfa",
   "metadata": {
    "canvas": {
     "comments": [],
     "componentType": "CodeCell",
     "copiedOriginId": null,
     "diskcache": false,
     "headerColor": "transparent",
     "id": "8265b0ae-6d14-4018-acca-648fa981caf9",
     "isComponent": false,
     "name": "",
     "parents": []
    }
   },
   "source": [
    "<br><br> Exploring the remainder of the clusters that have a more equal spread of r/statistics and r/machinelearning posts"
   ]
  },
  {
   "cell_type": "code",
   "execution_count": 50,
   "id": "332bb634-e36a-445d-b1e7-2fb6fd04baac",
   "metadata": {
    "canvas": {
     "comments": [],
     "componentType": "CodeCell",
     "copiedOriginId": null,
     "diskcache": false,
     "headerColor": "transparent",
     "id": "c60e92f8-ccca-49db-8815-d0468ef075d0",
     "isComponent": false,
     "name": "",
     "parents": []
    }
   },
   "outputs": [
    {
     "name": "stdout",
     "output_type": "stream",
     "text": [
      "Cluster 7:\n"
     ]
    },
    {
     "data": {
      "text/plain": [
       "1    17\n",
       "0    12\n",
       "Name: is_ml, dtype: int64"
      ]
     },
     "metadata": {},
     "output_type": "display_data"
    },
    {
     "name": "stdout",
     "output_type": "stream",
     "text": [
      "\n",
      "\n"
     ]
    }
   ],
   "source": [
    "for i in range(26):\n",
    "    if (df[df['title_cluster']==i].sort_values('title_cluster')['is_ml'].value_counts(normalize=True).max()<0.6)== True:\n",
    "        print(f\"Cluster {i}:\")\n",
    "        display(df[df['title_cluster']==i].sort_values('title_cluster')['is_ml'].value_counts())\n",
    "        # Call the function to get the top keywords\n",
    "        print(\"\\n\")"
   ]
  },
  {
   "cell_type": "markdown",
   "id": "d00eea4c-d728-4765-a631-5cf4b12e7c06",
   "metadata": {
    "canvas": {
     "comments": [],
     "componentType": "CodeCell",
     "copiedOriginId": null,
     "diskcache": false,
     "headerColor": "transparent",
     "id": "b976bb66-2a1e-45d8-95c2-eb1151adf333",
     "isComponent": false,
     "name": "",
     "parents": []
    }
   },
   "source": [
    "The following table shows the clusters that have a more equal spread of r/statistics vs r/machinelearning, along with the corresponding common words used (1 - from r/machinelearning, 0 - from r/statistics):"
   ]
  },
  {
   "cell_type": "markdown",
   "id": "6f9525a2-2413-4597-b40f-1e31140ad60e",
   "metadata": {
    "canvas": {
     "comments": [],
     "componentType": "CodeCell",
     "copiedOriginId": null,
     "diskcache": false,
     "headerColor": "transparent",
     "id": "4444c4b6-acb8-40ac-995a-d3af2b23de7c",
     "isComponent": false,
     "name": "",
     "parents": []
    }
   },
   "source": [
    "| **Cluster** | **Value Counts**   | **Common Words**                                                                            |\n",
    "|-------------|--------------------|---------------------------------------------------------------------------------------------|\n",
    "| 0           | 0 - 399<br>1 - 350   | criterion,paper,youtube,content,dataset,course,textbook,learn,book,recommendation |\n",
    "\n"
   ]
  },
  {
   "cell_type": "markdown",
   "id": "542ed518-8914-4d28-9bc8-c31d19ab24e9",
   "metadata": {
    "canvas": {
     "comments": [],
     "componentType": "CodeCell",
     "copiedOriginId": null,
     "diskcache": false,
     "headerColor": "transparent",
     "id": "dd8bd39a-4a55-437b-b105-730d44b3a2b9",
     "isComponent": false,
     "name": "",
     "parents": []
    }
   },
   "source": [
    "It appears that both subreddits, r/statistics and r/machinelearning, share a common interest in learning resources and content sharing. The discussions in this cluster seem to be focused on seeking and providing recommendations for learning materials and datasets.\n",
    "\n",
    "The common words - 'criterion', 'paper', 'youtube', 'content', 'dataset', 'course', 'textbook', 'learn', 'book', 'recommendation' - suggest discussions around educational content, which could include sharing and requesting recommendations for textbooks ('textbook', 'book'), online courses ('course'), research papers ('paper'), and instructional videos ('youtube').\n",
    "\n",
    "The word 'dataset' indicates that users in both communities are discussing and sharing sources of data for learning, practicing, or research purposes. The words 'criterion' and 'recommendation' further support this notion of seeking or providing advice, possibly in terms of selecting resources or datasets."
   ]
  },
  {
   "cell_type": "code",
   "execution_count": 51,
   "id": "f20256ff-8ef8-4bdb-badf-8f55f908938a",
   "metadata": {
    "canvas": {
     "comments": [],
     "componentType": "CodeCell",
     "copiedOriginId": null,
     "diskcache": false,
     "headerColor": "transparent",
     "id": "67b5c7c8-1cdd-470d-b0fa-090f24f1f2f7",
     "isComponent": false,
     "name": "",
     "parents": []
    }
   },
   "outputs": [],
   "source": [
    "#Filtering out rows with nil content\n",
    "df_temp = df[df['content']!='nil content']"
   ]
  },
  {
   "cell_type": "code",
   "execution_count": 52,
   "id": "0dbcad7c-918b-4adc-8939-f9c4e2c101e4",
   "metadata": {
    "canvas": {
     "comments": [],
     "componentType": "CodeCell",
     "copiedOriginId": null,
     "diskcache": false,
     "headerColor": "transparent",
     "id": "4815a5e3-9c3a-43ea-9414-d08733f7c8dd",
     "isComponent": false,
     "name": "",
     "parents": []
    }
   },
   "outputs": [],
   "source": [
    "#Exploring content\n",
    "\n",
    "\n",
    "tfidf_content = TfidfVectorizer()\n",
    "\n",
    "X_content = tfidf_content.fit_transform(df_temp['tokenized_content'])"
   ]
  },
  {
   "cell_type": "code",
   "execution_count": null,
   "id": "e7063a4d-ed75-470d-896f-3ce84ea0ad41",
   "metadata": {
    "canvas": {
     "comments": [],
     "componentType": "CodeCell",
     "copiedOriginId": null,
     "diskcache": false,
     "headerColor": "transparent",
     "id": "43e51458-6320-4e89-8ec8-72fe75b3b8ee",
     "isComponent": false,
     "name": "",
     "parents": []
    }
   },
   "outputs": [
    {
     "name": "stderr",
     "output_type": "stream",
     "text": [
      "C:\\Users\\tanya\\anaconda3\\lib\\site-packages\\sklearn\\cluster\\_kmeans.py:1412: FutureWarning: The default value of `n_init` will change from 10 to 'auto' in 1.4. Set the value of `n_init` explicitly to suppress the warning\n",
      "  super()._check_params_vs_input(X, default_n_init=10)\n"
     ]
    }
   ],
   "source": [
    "#Fitting for content and optimizing for best n_cluster value\n",
    "\n",
    "inertia_content = []\n",
    "for i in range(1,50):\n",
    "    kmeans = KMeans(n_clusters=i,max_iter=500)\n",
    "    kmeans.fit(X_content)\n",
    "    inertia_content.append((i,kmeans.inertia_))\n",
    "\n",
    "inertia_content"
   ]
  },
  {
   "cell_type": "code",
   "execution_count": null,
   "id": "d23c786b-6998-439f-9d2e-8adc4fcba536",
   "metadata": {
    "canvas": {
     "comments": [],
     "componentType": "CodeCell",
     "copiedOriginId": null,
     "diskcache": false,
     "headerColor": "transparent",
     "id": "9e9c4310-b78f-49d2-a50d-fea93d18bb8d",
     "isComponent": false,
     "name": "",
     "parents": []
    }
   },
   "outputs": [],
   "source": [
    "inertia_values = [tup[1] for tup in inertia_content]\n",
    "plt.plot(range(1,50),inertia_values)\n",
    "plt.show()"
   ]
  },
  {
   "cell_type": "markdown",
   "id": "6f63e3c3-6783-4f50-ba7d-c7743199978c",
   "metadata": {
    "canvas": {
     "comments": [],
     "componentType": "CodeCell",
     "copiedOriginId": null,
     "diskcache": false,
     "headerColor": "transparent",
     "id": "005b38ee-728e-4dec-903d-778f9ab4051e",
     "isComponent": false,
     "name": "",
     "parents": []
    }
   },
   "source": [
    "We will pick n=36 which sppears to be a small elbow point"
   ]
  },
  {
   "cell_type": "code",
   "execution_count": null,
   "id": "ab4a7680-2a4f-4f6c-8b41-b95e1c8a6366",
   "metadata": {
    "canvas": {
     "comments": [],
     "componentType": "CodeCell",
     "copiedOriginId": null,
     "diskcache": false,
     "headerColor": "transparent",
     "id": "a0c71f8e-3ab5-4b5b-aa83-43cdf736a00b",
     "isComponent": false,
     "name": "",
     "parents": []
    }
   },
   "outputs": [],
   "source": [
    "kmeans_content = KMeans(n_clusters=36,max_iter=500, random_state=42)\n",
    "kmeans_content.fit(X_content)\n",
    "df_temp['content_cluster'] = kmeans_content.labels_\n",
    "df.head()"
   ]
  },
  {
   "cell_type": "code",
   "execution_count": null,
   "id": "57397cba-6aa1-46f9-b573-335f00a81994",
   "metadata": {
    "canvas": {
     "comments": [],
     "componentType": "CodeCell",
     "copiedOriginId": null,
     "diskcache": false,
     "headerColor": "transparent",
     "id": "9c0046e4-26a1-4fbf-af8e-595b7e7366ac",
     "isComponent": false,
     "name": "",
     "parents": []
    }
   },
   "outputs": [],
   "source": [
    "get_top_keywords(X_content, kmeans_content.labels_, tfidf_content.get_feature_names_out(), 10)"
   ]
  },
  {
   "cell_type": "code",
   "execution_count": null,
   "id": "76741c8d-7f59-46cf-a45d-5148cb7a58f3",
   "metadata": {
    "canvas": {
     "comments": [],
     "componentType": "CodeCell",
     "copiedOriginId": null,
     "diskcache": false,
     "headerColor": "transparent",
     "id": "61640b78-f910-40ad-b92e-26324113c823",
     "isComponent": false,
     "name": "",
     "parents": []
    }
   },
   "outputs": [],
   "source": [
    "for i in range(36):\n",
    "    if (df_temp[df_temp['content_cluster']==i].sort_values('content_cluster')['is_ml'].value_counts(normalize=True).max()>0.9)== True:\n",
    "        print(f\"Cluster {i}:\")\n",
    "        display(df_temp[df_temp['content_cluster']==i].sort_values('content_cluster')['is_ml'].value_counts())\n",
    "        # Call the function to get the top keywords\n",
    "        print(\"\\n\")"
   ]
  },
  {
   "cell_type": "markdown",
   "id": "d9ed7313-d903-45f5-a318-c0121dd5f021",
   "metadata": {
    "canvas": {
     "comments": [],
     "componentType": "CodeCell",
     "copiedOriginId": null,
     "diskcache": false,
     "headerColor": "transparent",
     "id": "cf00abe8-30d0-47c6-ab18-8afdc603d113",
     "isComponent": false,
     "name": "",
     "parents": []
    }
   },
   "source": [
    "The following table shows the clusters that have a more distinct spread of r/statistics vs r/machinelearning, along with the corresponding common words used (1 - from r/machinelearning, 0 - from r/statistics):"
   ]
  },
  {
   "cell_type": "markdown",
   "id": "d7ae6cc6-417d-4c61-a8e7-43c4c50408d0",
   "metadata": {
    "canvas": {
     "comments": [],
     "componentType": "CodeCell",
     "copiedOriginId": null,
     "diskcache": false,
     "headerColor": "transparent",
     "id": "42dcf90e-f85f-4134-8c7c-f54d91495cc6",
     "isComponent": false,
     "name": "",
     "parents": []
    }
   },
   "source": [
    "| **Cluster** | **Value Counts** | **Predominant Topic** | **Common Words**                                                                        |\n",
    "|-------------|------------------|-----------------------|-----------------------------------------------------------------------------------------|\n",
    "| 2           | 0 - 49<br>1 - 2  | r/statistics          | grad,year,school,course,algebra,class,im,statistic,stats,math                           |\n",
    "| 4           | 0 - 26<br>1- 0   | r/statistics          | sample,data,test,concentration,group,control,spss,treatment,different,anova             |\n",
    "| 9           | 0 - 41<br>1 - 0  | r/statistics          | value,standard,error,disease,variance,mean,population,size,deviation,sample             |\n",
    "| 13          | 0 - 21           | r/statistics          | test,speed,list,analysis,mediation,two,relationship,dependent,independent,variable      |\n",
    "| 14          | 0 - 43<br>1 - 3  | r/statistics          | effect,data,hi,linear,categorical,analysis,dataset,regression,model,variable            |\n",
    "| 15          | 0 - 49<br>1 - 5  | r/statistics          | skewed,time,data,one,probability,sample,mean,value,normal,distribution                  |\n",
    "| 17          | 0 - 20<br>1 - 0  | r/statistics          | jamovi,question,function,wilcoxon,answer,differenced,welchs,student,interval,confidence |\n",
    "| 26          | 0 - 31<br>1 - 1  | r/statistics          | mean,table,reject,test,hypothesis,variable,change,null,cell,survival                    |\n",
    "| 29          | 0 - 62<br>1 - 1  | r/statistics          | appropriate,anova,significant,im,variable,ttest,data,sample,group,test                  |\n",
    "| 32          | 0 - 15<br>1 - 0  | r/statistics          | costeffectiveness,two,analysis,randomized,cea,effect,conduct,itc,trial,treatment        |\n",
    "| 33          | 0 - 32<br>1 - 2  | r/statistics          | green,one,anova,marble,compare,test,box,red,subject,group                               |\n",
    "| 34          | 0 - 27<br>1 - 1  | r/statistics          | control,education,covariate,data,comparison,year,variable,effect,salary,age             |\n",
    "| 5           | 0 - 3<br>1 - 36  | r/machinelearning     | yet,project,token,text,model,gpt4,code,api,openai,prompt                                |\n",
    "| 7           | 0 - 0<br>1 - 71  | r/machinelearning     | one,language,dataset,question,user,could,task,like,model,llm                            |\n",
    "| 8           | 0 - 4<br>1 - 52  | r/machinelearning     | research,paper,chatgpt,ai,state,diffusion,llama,language,generative,model               |\n",
    "| 12          | 0 - 8<br>1 - 79  | r/machinelearning     | architecture,one,ml,new,like,dataset,data,train,training,model                          |\n",
    "| 18          | 0 - 1<br>1 - 36  | r/machinelearning     | text,like,segmentation,similarity,network,input,output,task,model,image                 |\n",
    "| 31          | 0 - 3<br>1 - 29  | r/machinelearning     | link,post,text,code,window,transformer,model,finetuning,context,token                   |"
   ]
  },
  {
   "cell_type": "markdown",
   "id": "5a1b7769-26c7-4bab-bb24-0f9abccfbc4d",
   "metadata": {
    "canvas": {
     "comments": [],
     "componentType": "CodeCell",
     "copiedOriginId": null,
     "diskcache": false,
     "headerColor": "transparent",
     "id": "0d50fed8-e8b5-4a01-8973-5c3351d48f95",
     "isComponent": false,
     "name": "",
     "parents": []
    }
   },
   "source": [
    "Similar to the titles column, the discussions in r/statistics seem to focus much on traditional statistical methods and testing methodologies, while r/machinelearning seem to focus on practical aspects and applications of machine learning."
   ]
  },
  {
   "cell_type": "code",
   "execution_count": null,
   "id": "86a8778e-7a03-4e6e-a59c-7bc3c63384c9",
   "metadata": {
    "canvas": {
     "comments": [],
     "componentType": "CodeCell",
     "copiedOriginId": null,
     "diskcache": false,
     "headerColor": "transparent",
     "id": "4fcdc786-3207-48ce-8e7b-635ad77fe999",
     "isComponent": false,
     "name": "",
     "parents": []
    }
   },
   "outputs": [],
   "source": [
    "for i in range(26):\n",
    "    if (df_temp[df_temp['content_cluster']==i].sort_values('content_cluster')['is_ml'].value_counts(normalize=True).max()<0.6)== True:\n",
    "        print(f\"Cluster {i}:\")\n",
    "        display(df_temp[df_temp['content_cluster']==i].sort_values('content_cluster')['is_ml'].value_counts())\n",
    "        # Call the function to get the top keywords\n",
    "        print(\"\\n\")"
   ]
  },
  {
   "cell_type": "markdown",
   "id": "899d00f3-4804-424a-8a7f-a36a716011f6",
   "metadata": {
    "canvas": {
     "comments": [],
     "componentType": "CodeCell",
     "copiedOriginId": null,
     "diskcache": false,
     "headerColor": "transparent",
     "id": "9ff2a308-8736-45c2-b62d-22cab82a469d",
     "isComponent": false,
     "name": "",
     "parents": []
    }
   },
   "source": [
    "There are only three clusters (ie clusters 3, 10 and 14) with an equal spread of labels, and the top 10 common words are:\n",
    "\n",
    "<b>Cluster 3: </b>stay,alive,instead,new,question,check,feedback,post,thread<br>\n",
    "<b>Cluster 10: </b>im,point,every,average,feature,week,value,observation,player,game<br>\n",
    "<b>Cluster 14: </b>effect,data,hi,linear,categorical,analysis,dataset,regression,model,variable<br>\n",
    "\n",
    "From these clusters, it appears that there are some common themes shared between the r/statistics and r/machinelearning subreddits.\n",
    "\n",
    "Cluster 3: This cluster seems to capture the interactive and participative nature of subreddit discussions. Words like \"stay\", \"alive\", \"instead\", \"new\", \"question\", \"check\", \"feedback\", \"post\", \"thread\" suggest discussions, questions, and requests for feedback or help, which are common to both subreddits. It is indicative of the nature of subreddit communities where individuals share resources, seek feedback, and engage in dialogue.\n",
    "\n",
    "Cluster 10: The terms in this cluster like \"im\", \"point\", \"every\", \"average\", \"feature\", \"week\", \"value\", \"observation\", \"player\", \"game\" suggest conversations around data collection, feature analysis, and possibly real-world applications like game analytics. Both r/statistics and r/machinelearning involve dealing with features (variables) in datasets and making observations, so it's not surprising to see this overlap.\n",
    "\n",
    "Cluster 14: This cluster appears to encapsulate discussions around data modeling and analysis. Words such as \"effect\", \"data\", \"hi\", \"linear\", \"categorical\", \"analysis\", \"dataset\", \"regression\", \"model\", \"variable\" are central to both statistics and machine learning. Both communities will have discussions around data analysis, regression models, the effect of variables, and dealing with different kinds of data (e.g., categorical).\n",
    "\n",
    "In summary, it seems that both r/statistics and r/machinelearning subreddits share similarities in terms of interaction patterns, focus on data and feature analysis, and discussions around modeling and regression."
   ]
  },
  {
   "cell_type": "markdown",
   "id": "b8f0ca23-961b-4870-b1d1-1866079d563b",
   "metadata": {
    "canvas": {
     "comments": [],
     "componentType": "CodeCell",
     "copiedOriginId": null,
     "diskcache": false,
     "headerColor": "transparent",
     "id": "591ce78f-d2e7-4364-b24b-e1857de50404",
     "isComponent": false,
     "name": "",
     "parents": []
    }
   },
   "source": [
    "<br><br>With the above findings, we can see that there are several clusters with distinct domination of either r/statistics or r/machinelearning posts, with common keywords present in each cluster. This validates the practicality of building a classifier (in the next section) to predict whether posts belong to r/statistics or r/machinelearning.<br><br>\n",
    "\n",
    "We can also see distinct topics/communities present from the keywords in each cluster, which we will discuss further in detail in the [conclusion](#Conclusions-&-Findings)."
   ]
  },
  {
   "cell_type": "markdown",
   "id": "7e1330e0",
   "metadata": {
    "canvas": {
     "comments": [],
     "componentType": "CodeCell",
     "copiedOriginId": null,
     "diskcache": false,
     "headerColor": "transparent",
     "id": "9da31d7a-bb41-48e7-adb6-41ff22bfd60b",
     "isComponent": false,
     "name": "",
     "parents": []
    }
   },
   "source": [
    "---"
   ]
  },
  {
   "cell_type": "markdown",
   "id": "e1b8f560",
   "metadata": {
    "canvas": {
     "comments": [],
     "componentType": "CodeCell",
     "copiedOriginId": null,
     "diskcache": false,
     "headerColor": "transparent",
     "id": "01745f2a-703c-4612-a7d2-eeb224d70e94",
     "isComponent": false,
     "name": "",
     "parents": []
    }
   },
   "source": [
    "<br>\n",
    "<br>"
   ]
  },
  {
   "cell_type": "markdown",
   "id": "828fdcfd",
   "metadata": {
    "canvas": {
     "comments": [],
     "componentType": "CodeCell",
     "copiedOriginId": null,
     "diskcache": false,
     "headerColor": "transparent",
     "id": "0bcc433e-6158-4df2-939c-c7b05c0d66ea",
     "isComponent": false,
     "name": "",
     "parents": []
    }
   },
   "source": [
    "<br><br>"
   ]
  },
  {
   "cell_type": "markdown",
   "id": "b3c85cfa",
   "metadata": {
    "canvas": {
     "comments": [],
     "componentType": "CodeCell",
     "copiedOriginId": null,
     "diskcache": false,
     "headerColor": "transparent",
     "id": "726f094c-ac3a-427b-b193-ec19b1842225",
     "isComponent": false,
     "name": "",
     "parents": []
    },
    "tags": []
   },
   "source": [
    "# Text Classification\n",
    "\n",
    "We will be training the model using the following features in different phases to see if theres any difference to the accuracy scores (p represents phase): \n",
    "- upvotes (p3)\n",
    "- no_of_comments (p3)\n",
    "- tags (p2)\n",
    "- tokenized_title (p1)\n",
    "- tokenized_content (p1)\n",
    "- tokenized_topcomments (p1)\n",
    "\n",
    "So for instance, in phase 1, we will be training the models solely based on the tokenized title, content and comments only, followed by phase 2 where we will add in the tags and retrain the model and assess its accuracy, before finally adding in the upvotes and number of comments."
   ]
  },
  {
   "cell_type": "markdown",
   "id": "d93266cc-24a6-4c0b-81d6-51b48aecf42b",
   "metadata": {
    "canvas": {
     "comments": [],
     "componentType": "CodeCell",
     "copiedOriginId": null,
     "diskcache": false,
     "headerColor": "transparent",
     "id": "b5ac794f-b15e-4e9f-9316-f383d553f659",
     "isComponent": false,
     "name": "",
     "parents": []
    },
    "tags": []
   },
   "source": [
    "### Preprocessing (p1)"
   ]
  },
  {
   "cell_type": "markdown",
   "id": "bdf18b7d-6b73-446e-aac4-9e675302eef5",
   "metadata": {
    "canvas": {
     "comments": [],
     "componentType": "CodeCell",
     "copiedOriginId": null,
     "diskcache": false,
     "headerColor": "transparent",
     "id": "aafa4deb-47cd-4d51-b4a1-8804eab67765",
     "isComponent": false,
     "name": "",
     "parents": []
    }
   },
   "source": [
    "First, we need to generate X with the above stated features. The purpose of this section will be to sieve out words in the corpus that does not value add to the model, and add them to our custom list of stop_words. The process involves fitting the count vectorizer, after which, we will visualize the top 20 words found in the corpus, and evaluate if these words provide any useful info in helping the model predict whether the post belongs to r/machinelearning or r/statistics. If the word is not useful (eg words like want, need, like, think, dont etc), we add them to our custom list of stop_words."
   ]
  },
  {
   "cell_type": "code",
   "execution_count": null,
   "id": "387f2e99-73fa-4808-a8d5-cd230388cb53",
   "metadata": {
    "canvas": {
     "comments": [],
     "componentType": "CodeCell",
     "copiedOriginId": null,
     "diskcache": false,
     "headerColor": "transparent",
     "id": "1f85176e-ead6-42f9-9ffe-2db58cbc0af0",
     "isComponent": false,
     "name": "",
     "parents": []
    }
   },
   "outputs": [],
   "source": [
    "#We customize our own set of stop words here to remove less meaningful words\n",
    "\n",
    "additional_stop_words = ['way','work','im','want','need','like','think','dont','mean','make','good','question','people','thing','used','example','number']\n",
    "stop_words = list(CountVectorizer(stop_words='english').get_stop_words())+additional_stop_words\n",
    "\n"
   ]
  },
  {
   "cell_type": "code",
   "execution_count": null,
   "id": "f29df9f6-c71b-49ea-a68e-5487e87fa930",
   "metadata": {
    "canvas": {
     "comments": [],
     "componentType": "CodeCell",
     "copiedOriginId": null,
     "diskcache": false,
     "headerColor": "transparent",
     "id": "fd3019f4-7380-4c68-a505-9cb0e5a300ef",
     "isComponent": false,
     "name": "",
     "parents": []
    }
   },
   "outputs": [],
   "source": [
    "#Concatenating tokenized_title, tokenized_content and tokenized_topcomments, then extracting the top 20 words from tokenized_title, tokenized_content and tokenized_topcomments\n",
    "X = df['tokenized_title'] + ' ' + df['tokenized_content'] + ' ' + df['tokenized_topcomments']\n",
    "\n",
    "y=df['is_ml']\n",
    "\n",
    "\n",
    "print(type(X))\n",
    "print(X.shape, y.shape)\n"
   ]
  },
  {
   "cell_type": "code",
   "execution_count": null,
   "id": "25d5e252-aac8-45e3-9101-93436dcde36e",
   "metadata": {
    "canvas": {
     "comments": [],
     "componentType": "CodeCell",
     "copiedOriginId": null,
     "diskcache": false,
     "headerColor": "transparent",
     "id": "16ba8201-de97-46f4-ad04-8699a3a7bff6",
     "isComponent": false,
     "name": "",
     "parents": []
    }
   },
   "outputs": [],
   "source": [
    "#train test split\n",
    "\n",
    "X_train, X_test, y_train, y_test = train_test_split(X, y, test_size=0.2, random_state=42,stratify=y)\n",
    "\n",
    "print(f\"X_train shape: {X_train.shape}, y_train shape: {y_train.shape}, \\nX_test shape: {X_test.shape}, y_test shape: {y_test.shape}\")"
   ]
  },
  {
   "cell_type": "code",
   "execution_count": null,
   "id": "ae4f1417-f2f4-45bc-9d90-82a738452271",
   "metadata": {
    "canvas": {
     "comments": [],
     "componentType": "CodeCell",
     "copiedOriginId": null,
     "diskcache": false,
     "headerColor": "transparent",
     "id": "d6e57b49-5fe0-43d5-b720-56c9d3681560",
     "isComponent": false,
     "name": "",
     "parents": []
    }
   },
   "outputs": [],
   "source": [
    "#Using cvec to vectorize columns\n",
    "\n",
    "cvec_X = CountVectorizer(stop_words=stop_words)\n",
    "cvec_X.fit(X_train)"
   ]
  },
  {
   "cell_type": "code",
   "execution_count": null,
   "id": "570c74ec-aa5f-48b9-966a-4ea0ae69580f",
   "metadata": {
    "canvas": {
     "comments": [],
     "componentType": "CodeCell",
     "copiedOriginId": null,
     "diskcache": false,
     "headerColor": "transparent",
     "id": "45fa3724-4ec6-4643-acef-d1b3fa9ebc5e",
     "isComponent": false,
     "name": "",
     "parents": []
    }
   },
   "outputs": [],
   "source": [
    "#Transforming X_train and X_test into tfidf matrices\n",
    "X_train_cvec = cvec_X.transform(X_train)\n",
    "X_test_cvec = cvec_X.transform(X_test)\n",
    "\n",
    "print(f\"X_train shape: {X_train.shape}, y_train shape: {y_train.shape}, \\nX_test shape: {X_test.shape}, y_test shape: {y_test.shape}\")\n",
    "\n",
    "#Converting tfidf sparse matrices into dataframes\n",
    "X_train_cvec_df = pd.DataFrame(X_train_cvec.todense(), columns=cvec_X.get_feature_names_out())\n",
    "X_test_cvec_df = pd.DataFrame(X_test_cvec.todense(), columns=cvec_X.get_feature_names_out())\n"
   ]
  },
  {
   "cell_type": "code",
   "execution_count": null,
   "id": "5e9617ca-d520-4138-b77c-3cefbea8f3c9",
   "metadata": {
    "canvas": {
     "comments": [],
     "componentType": "CodeCell",
     "copiedOriginId": null,
     "diskcache": false,
     "headerColor": "transparent",
     "id": "485a4d9c-9218-4b9b-9c3d-3190fdbeefca",
     "isComponent": false,
     "name": "",
     "parents": []
    }
   },
   "outputs": [],
   "source": [
    "X_train_cvec_df.sum().sort_values(ascending=False).head(20).plot(kind='barh')"
   ]
  },
  {
   "cell_type": "markdown",
   "id": "37496c87-bb35-439c-83ab-164aead459c5",
   "metadata": {
    "canvas": {
     "comments": [],
     "componentType": "CodeCell",
     "copiedOriginId": null,
     "diskcache": false,
     "headerColor": "transparent",
     "id": "3dd4c497-ea2d-4286-be7b-0297bd8346fa",
     "isComponent": false,
     "name": "",
     "parents": []
    }
   },
   "source": [
    "---"
   ]
  },
  {
   "cell_type": "markdown",
   "id": "dfd37d1b-57d8-4421-8b95-85d74404bb2a",
   "metadata": {
    "canvas": {
     "comments": [],
     "componentType": "CodeCell",
     "copiedOriginId": null,
     "diskcache": false,
     "headerColor": "transparent",
     "id": "b7ca96ab-e703-49fe-8920-d2b02ff2d13e",
     "isComponent": false,
     "name": "",
     "parents": []
    },
    "tags": []
   },
   "source": [
    "### Modelling (p1)"
   ]
  },
  {
   "cell_type": "markdown",
   "id": "1f4e3e3c-2df0-4ea9-a63f-1046d3f2309e",
   "metadata": {
    "canvas": {
     "comments": [],
     "componentType": "CodeCell",
     "copiedOriginId": null,
     "diskcache": false,
     "headerColor": "transparent",
     "id": "35677af4-2fbf-4935-9e96-733b85167fec",
     "isComponent": false,
     "name": "",
     "parents": []
    }
   },
   "source": [
    "The next section will aim to train 6 models -  Logistic Regression, Decision Tree, Random Forest, GradientBoostingClassifier, AdaBoostClassifier and SVM models to classify whether a post belongs to r/machinelearning or r/statistics. We will be using the Pipeline object to vectorize X_train and then train and predict using the 4 different models."
   ]
  },
  {
   "cell_type": "markdown",
   "id": "b549f747-9c3f-43e1-9610-97e02755810d",
   "metadata": {
    "canvas": {
     "comments": [],
     "componentType": "CodeCell",
     "copiedOriginId": null,
     "diskcache": false,
     "headerColor": "transparent",
     "id": "f1416635-8c3a-4a84-8e97-d249c394d4f9",
     "isComponent": false,
     "name": "",
     "parents": []
    }
   },
   "source": [
    "We use TfidfVectorizer here instead of CountVectorizer because not all keywords hold equal importance in the corpus. For instance, the word 'statistic' may hold very significant importance in helping the model classify the post to be under r/statistics, as compared to the word 'data' which appears in both subreddits and is not as important in helping the model.<br><br>\n",
    "\n",
    "Also, we will be evaluating the model's performance using the confusion matrix (since it is a classification problem), and also using GridSearchCV's best_scores_ attribute."
   ]
  },
  {
   "cell_type": "code",
   "execution_count": null,
   "id": "738c10fa-b43d-49d4-9330-506cd7101c6d",
   "metadata": {
    "canvas": {
     "comments": [],
     "componentType": "CodeCell",
     "copiedOriginId": null,
     "diskcache": false,
     "headerColor": "transparent",
     "id": "0060836e-66f6-4b1e-82da-56a28d0a0d84",
     "isComponent": false,
     "name": "",
     "parents": []
    }
   },
   "outputs": [],
   "source": [
    "#Creating the pipeline object\n",
    "pipeline = Pipeline([\n",
    "    ('tfidf', TfidfVectorizer(stop_words=stop_words)),\n",
    "    ('classifier', LogisticRegression(random_state=42))\n",
    "])\n",
    "\n"
   ]
  },
  {
   "cell_type": "code",
   "execution_count": null,
   "id": "b2c0a94b-d32e-4dcb-ae59-165d0a07501f",
   "metadata": {
    "canvas": {
     "comments": [],
     "componentType": "CodeCell",
     "copiedOriginId": null,
     "diskcache": false,
     "headerColor": "transparent",
     "id": "2c4fc16e-c07e-4416-a613-f3760e981585",
     "isComponent": false,
     "name": "",
     "parents": []
    }
   },
   "outputs": [],
   "source": [
    "#Defining the parameter grids for each model\n",
    "\n",
    "parameter_grids = [\n",
    "\n",
    "    {\n",
    "        'classifier__C': [0.1, 1.0, 10.0],\n",
    "        'classifier__penalty':[None,'l1','l2'],\n",
    "        'classifier__solver':['lbfgs','liblinear'],\n",
    "    },\n",
    "    {\n",
    "        'classifier': [SVC(random_state=42)],\n",
    "        'classifier__C': [0.1, 1.0, 10.0],\n",
    "        'classifier__kernel': ['linear', 'rbf', 'poly']\n",
    "    },\n",
    "    \n",
    "        {\n",
    "        'classifier': [DecisionTreeClassifier(random_state=42)],\n",
    "        'classifier__max_depth': [None, 5, 10, 20],\n",
    "        'classifier__min_samples_split': [2, 5, 10],\n",
    "        'classifier__min_samples_leaf': [1, 2, 4]\n",
    "    },\n",
    "    \n",
    "    {\n",
    "        'classifier': [RandomForestClassifier(random_state=42)],\n",
    "        'classifier__n_estimators': [100, 200, 300],\n",
    "        'classifier__max_depth': [None, 5, 10, 20]\n",
    "    },\n",
    "    \n",
    "       {\n",
    "        'classifier': [AdaBoostClassifier(random_state=42)],\n",
    "        'classifier__n_estimators': [50, 100, 200, 300],\n",
    "        'classifier__learning_rate': [0.01, 0.1, 1.0]\n",
    "    },\n",
    "    \n",
    "      {\n",
    "        'classifier': [GradientBoostingClassifier(random_state=42)],\n",
    "        'classifier__n_estimators': [50, 100, 200, 300],\n",
    "        'classifier__learning_rate': [0.01, 0.1, 1.0]\n",
    "    }\n",
    "]"
   ]
  },
  {
   "cell_type": "code",
   "execution_count": null,
   "id": "b255caaa-35b7-4427-8ba7-989fddbae390",
   "metadata": {
    "canvas": {
     "comments": [],
     "componentType": "CodeCell",
     "copiedOriginId": null,
     "diskcache": false,
     "headerColor": "transparent",
     "id": "9e170602-5058-49bb-beaa-3a7ff62aa09d",
     "isComponent": false,
     "name": "",
     "parents": []
    }
   },
   "outputs": [],
   "source": [
    "# #Commenting out the following code  -results of the gridsearch have been appended in table below\n",
    "\n",
    "# #Resetting sns gridstyle\n",
    "# sns.set_style(\"white\")\n",
    "\n",
    "# #Ignoring warnings\n",
    "\n",
    "# warnings.filterwarnings('ignore')\n",
    "\n",
    "\n",
    "# # Perform grid search for each model\n",
    "# for parameter_grid in parameter_grids:\n",
    "#     grid_search = GridSearchCV(pipeline, parameter_grid, cv=5)\n",
    "#     grid_search.fit(X_train, y_train)\n",
    "    \n",
    "#     # Print the best parameters and the classification report\n",
    "#     print(\"Best parameters:\", grid_search.best_params_)\n",
    "#     y_pred = grid_search.predict(X_test)\n",
    "#     cm = confusion_matrix(y_test, y_pred, labels=grid_search.classes_)\n",
    "#     print(grid_search.best_score_)\n",
    "#     print(grid_search.best_estimator_)\n",
    "#     disp = ConfusionMatrixDisplay(confusion_matrix=cm, display_labels=grid_search.classes_)\n",
    "#     disp.plot()\n",
    "#     plt.show()\n",
    "#     print(\"---------------------------------------\")\n",
    "    \n",
    "# warnings.filterwarnings(\"default\")"
   ]
  },
  {
   "cell_type": "markdown",
   "id": "6b294cd4-9b5b-4b3d-b6ec-b5524fb9d8a8",
   "metadata": {
    "canvas": {
     "comments": [],
     "componentType": "CodeCell",
     "copiedOriginId": null,
     "diskcache": false,
     "headerColor": "transparent",
     "id": "4a7daabd-28b7-4ebc-bbbe-4aa80ac33e8c",
     "isComponent": false,
     "name": "",
     "parents": []
    }
   },
   "source": [
    "The following are the best scores and estimators of the 6 models:"
   ]
  },
  {
   "cell_type": "markdown",
   "id": "d33f3a74-478a-40d4-a49c-0fa1888bbee4",
   "metadata": {
    "canvas": {
     "comments": [],
     "componentType": "CodeCell",
     "copiedOriginId": null,
     "diskcache": false,
     "headerColor": "transparent",
     "id": "61451957-8bf3-4c94-830d-53ff6965cf6b",
     "isComponent": false,
     "name": "",
     "parents": []
    }
   },
   "source": [
    "| **Model**               | **Best Score** | **Best Estimator**                                                            |\n",
    "|-------------------------|----------------|-------------------------------------------------------------------------------|\n",
    "| LogisticRegression      | 0.960          | LogisticRegression(C=0.1, penalty=None, random_state=42)                      |\n",
    "| SVC                     | 0.958          | SVC(C=10.0, kernel='linear', random_state=42)                                 |\n",
    "| DecisionTreeClassifier  | 0.871          | DecisionTreeClassifier(max_depth=20, random_state=42)                         |\n",
    "| RandomForestClassifier  | 0.958          | RandomForestClassifier(max_depth=20, n_estimators=300, random_state=42)       |\n",
    "| AdaBoostClassifier      | 0.950          | AdaBoostClassifier(learning_rate=0.1, n_estimators=300, random_state=42)      |\n",
    "| GradientBoostClassifier | 0.948          | GradientBoostClassifier(learning_rate=0.1, n_estimators=200, random_state=42) |"
   ]
  },
  {
   "cell_type": "markdown",
   "id": "ed891a55-99ca-4295-b94f-91cf2167b191",
   "metadata": {
    "canvas": {
     "comments": [],
     "componentType": "CodeCell",
     "copiedOriginId": null,
     "diskcache": false,
     "headerColor": "transparent",
     "id": "273ec34c-cc5f-4f25-9760-e6f861d66ae0",
     "isComponent": false,
     "name": "",
     "parents": []
    }
   },
   "source": [
    "<br>Most of the models except for DecisionTreeClassifier performs very well, with the best performer being LogisticRegression."
   ]
  },
  {
   "cell_type": "markdown",
   "id": "c5d05745-6d6b-426a-94cd-7dd41a949c5d",
   "metadata": {
    "canvas": {
     "comments": [],
     "componentType": "CodeCell",
     "copiedOriginId": null,
     "diskcache": false,
     "headerColor": "transparent",
     "id": "c6d7a5ec-84fc-4488-b5a9-091dded47a11",
     "isComponent": false,
     "name": "",
     "parents": []
    }
   },
   "source": [
    "---"
   ]
  },
  {
   "cell_type": "markdown",
   "id": "d8774011-015f-47a2-8021-e9ac987d5246",
   "metadata": {
    "canvas": {
     "comments": [],
     "componentType": "CodeCell",
     "copiedOriginId": null,
     "diskcache": false,
     "headerColor": "transparent",
     "id": "7ce2767c-3c51-4f25-b88c-45e556c3699e",
     "isComponent": false,
     "name": "",
     "parents": []
    },
    "tags": []
   },
   "source": [
    "### Preprocessing (p2)"
   ]
  },
  {
   "cell_type": "code",
   "execution_count": null,
   "id": "1c55c580-41e6-498b-8404-56a6b2fcb7b2",
   "metadata": {
    "canvas": {
     "comments": [],
     "componentType": "CodeCell",
     "copiedOriginId": null,
     "diskcache": false,
     "headerColor": "transparent",
     "id": "ce90915b-ed85-4371-8d69-334e5d6a4762",
     "isComponent": false,
     "name": "",
     "parents": []
    }
   },
   "outputs": [],
   "source": [
    "#OHE categorical columns\n",
    "\n",
    "X_cat = OHE_catcolumn(df,col='tags')\n",
    "X_cat"
   ]
  },
  {
   "cell_type": "code",
   "execution_count": null,
   "id": "4c188f3d-29cc-4900-830d-91794a280556",
   "metadata": {
    "canvas": {
     "comments": [],
     "componentType": "CodeCell",
     "copiedOriginId": null,
     "diskcache": false,
     "headerColor": "transparent",
     "id": "0566387f-8220-4385-81ff-e7ecdf2e0308",
     "isComponent": false,
     "name": "",
     "parents": []
    }
   },
   "outputs": [],
   "source": [
    "X_train"
   ]
  },
  {
   "cell_type": "code",
   "execution_count": null,
   "id": "8c323084-468b-4662-b88d-374698d4d0f9",
   "metadata": {
    "canvas": {
     "comments": [],
     "componentType": "CodeCell",
     "copiedOriginId": null,
     "diskcache": false,
     "headerColor": "transparent",
     "id": "819e70a8-588c-40de-af10-fdbf2957ab00",
     "isComponent": false,
     "name": "",
     "parents": []
    }
   },
   "outputs": [],
   "source": [
    "tfidf_X = TfidfVectorizer(stop_words=stop_words)\n",
    "\n",
    "tfidf_X.fit(X_train)\n",
    "\n",
    "X_train_tfidf = tfidf_X.transform(X_train)\n",
    "X_test_tfidf = tfidf_X.transform(X_test)\n",
    "\n",
    "X_train_tfidf_df = pd.DataFrame(X_train_tfidf.todense(), columns=tfidf_X.get_feature_names_out(), index=X_train.index)\n",
    "X_test_tfidf_df = pd.DataFrame(X_test_tfidf.todense(), columns=tfidf_X.get_feature_names_out(), index=X_test.index)\n",
    "X_train_tfidf_df"
   ]
  },
  {
   "cell_type": "code",
   "execution_count": null,
   "id": "d3842a31-4fde-4662-b909-e0494fde6693",
   "metadata": {
    "canvas": {
     "comments": [],
     "componentType": "CodeCell",
     "copiedOriginId": null,
     "diskcache": false,
     "headerColor": "transparent",
     "id": "34de699e-8fe2-4246-8696-8ce69c65106c",
     "isComponent": false,
     "name": "",
     "parents": []
    }
   },
   "outputs": [],
   "source": [
    "print(X_train.shape)\n",
    "\n",
    "X_train_p2 = X_train_tfidf_df.merge(X_cat, left_index=True, right_index=True, how='left')\n",
    "X_test_p2 = X_test_tfidf_df.merge(X_cat, left_index=True, right_index=True, how='left')\n",
    "\n",
    "print(X_train_p2.shape)\n",
    "print(X_test_p2.shape)"
   ]
  },
  {
   "cell_type": "markdown",
   "id": "b988a4e4-292f-488f-a421-a3a0fcaa709b",
   "metadata": {
    "canvas": {
     "comments": [],
     "componentType": "CodeCell",
     "copiedOriginId": null,
     "diskcache": false,
     "headerColor": "transparent",
     "id": "45d65740-d1dd-4cf4-b41d-410f96b6c83f",
     "isComponent": false,
     "name": "",
     "parents": []
    }
   },
   "source": [
    "---"
   ]
  },
  {
   "cell_type": "markdown",
   "id": "4cd2ce06-184f-4313-ad60-54469ca2c92e",
   "metadata": {
    "canvas": {
     "comments": [],
     "componentType": "CodeCell",
     "copiedOriginId": null,
     "diskcache": false,
     "headerColor": "transparent",
     "id": "89e0db69-eb6d-4d6b-aead-d9e041b384ff",
     "isComponent": false,
     "name": "",
     "parents": []
    },
    "tags": []
   },
   "source": [
    "### Modelling (p2)"
   ]
  },
  {
   "cell_type": "markdown",
   "id": "21e03680-01f4-4230-8878-f3b02b607e3b",
   "metadata": {
    "canvas": {
     "comments": [],
     "componentType": "CodeCell",
     "copiedOriginId": null,
     "diskcache": false,
     "headerColor": "transparent",
     "id": "d7e5c47a-b39c-4f19-ab4f-d58b13f26402",
     "isComponent": false,
     "name": "",
     "parents": []
    }
   },
   "source": [
    "Next, we train the 6 models again on this new X_train and X_test"
   ]
  },
  {
   "cell_type": "code",
   "execution_count": null,
   "id": "0932aee5-2cb7-4756-ba09-f7de5bdec8f9",
   "metadata": {
    "canvas": {
     "comments": [],
     "componentType": "CodeCell",
     "copiedOriginId": null,
     "diskcache": false,
     "headerColor": "transparent",
     "id": "cec55f61-b1da-45b8-bbae-8c5e248a478b",
     "isComponent": false,
     "name": "",
     "parents": []
    }
   },
   "outputs": [],
   "source": [
    "pipeline_p2 = Pipeline([\n",
    "   ('classifier', LogisticRegression(random_state=42))\n",
    "])\n",
    "\n",
    "\n"
   ]
  },
  {
   "cell_type": "code",
   "execution_count": null,
   "id": "1ad11af3-c6b5-4087-b5dd-788e2e9eb1f0",
   "metadata": {
    "canvas": {
     "comments": [],
     "componentType": "CodeCell",
     "copiedOriginId": null,
     "diskcache": false,
     "headerColor": "transparent",
     "id": "7cc265c1-369d-4859-8135-66991938d348",
     "isComponent": false,
     "name": "",
     "parents": []
    }
   },
   "outputs": [],
   "source": [
    "# #Resetting sns gridstyle\n",
    "# sns.set_style(\"white\")\n",
    "\n",
    "# #Ignoring warnings\n",
    "\n",
    "# warnings.filterwarnings('ignore')\n",
    "\n",
    "\n",
    "# # Perform grid search for each model\n",
    "# for parameter_grid in parameter_grids:\n",
    "#     grid_search = GridSearchCV(pipeline_p2, parameter_grid, cv=5)\n",
    "#     grid_search.fit(X_train_p2, y_train)\n",
    "    \n",
    "#     # Print the best parameters and the classification report\n",
    "#     print(\"Best parameters:\", grid_search.best_params_)\n",
    "#     y_pred = grid_search.predict(X_test_p2)\n",
    "#     cm = confusion_matrix(y_test, y_pred, labels=grid_search.classes_)\n",
    "#     print(grid_search.best_score_)\n",
    "#     print(grid_search.best_estimator_)\n",
    "#     disp = ConfusionMatrixDisplay(confusion_matrix=cm, display_labels=grid_search.classes_)\n",
    "#     disp.plot()\n",
    "#     plt.show()\n",
    "#     print(\"---------------------------------------\")\n",
    "    \n",
    "# warnings.filterwarnings(\"default\")"
   ]
  },
  {
   "cell_type": "markdown",
   "id": "af9320f8-fb3e-42e1-b061-731c69bc7e4f",
   "metadata": {
    "canvas": {
     "comments": [],
     "componentType": "CodeCell",
     "copiedOriginId": null,
     "diskcache": false,
     "headerColor": "transparent",
     "id": "c96b2de2-1748-47f4-a1c3-940c7aa86166",
     "isComponent": false,
     "name": "",
     "parents": []
    }
   },
   "source": [
    "The following are the best scores and estimators of the 6 models:"
   ]
  },
  {
   "cell_type": "markdown",
   "id": "77aa9e6e-50c1-42df-b507-2408379dd3b5",
   "metadata": {
    "canvas": {
     "comments": [],
     "componentType": "CodeCell",
     "copiedOriginId": null,
     "diskcache": false,
     "headerColor": "transparent",
     "id": "56d864cb-0bf7-4fa6-9b42-41285775d064",
     "isComponent": false,
     "name": "",
     "parents": []
    }
   },
   "source": [
    "| **Model**               | **Best Score** | **Best Estimator**                                                                               |\n",
    "|-------------------------|----------------|--------------------------------------------------------------------------------------------------|\n",
    "| LogisticRegression      | 0.982          | LogisticRegression(C=0.1, penalty=None, solver = 'lbfgs', random_state=42)                       |\n",
    "| SVC                     | 0.980          | SVC(C=10.0, kernel='linear', random_state=42)                                                    |\n",
    "| DecisionTreeClassifier  | 0.964          | DecisionTreeClassifier(max_depth=10, min_samples_split=5, min_samples_leaf = 1, random_state=42) |\n",
    "| RandomForestClassifier  | 0.977          | RandomForestClassifier(n_estimators=300, max_depth=None, random_state=42)                        |\n",
    "| AdaBoostClassifier      | 0.980          | AdaBoostClassifier(n_estimators=300, learning_rate = 1,0, random_state=42)                       |\n",
    "| GradientBoostClassifier | 0.968          | GradientBoostingClassifier(n_estimators=300, learning_rate = 0.1, random_state=42)               |"
   ]
  },
  {
   "cell_type": "markdown",
   "id": "64dce4bc-d550-4f4c-a21c-67b2ffcf6e6a",
   "metadata": {
    "canvas": {
     "comments": [],
     "componentType": "CodeCell",
     "copiedOriginId": null,
     "diskcache": false,
     "headerColor": "transparent",
     "id": "360ad18d-7aa6-4472-8a02-86f13e3b7bc4",
     "isComponent": false,
     "name": "",
     "parents": []
    }
   },
   "source": [
    "Across the board, model performances generally improved. DecisionTreeClassifier still performed the worst amongst the 6 models, together with GradientBoostClassifier, however given that the test set only has 300+ datapoints, these minute differences in percentage points may not be very significant in assessing model performances."
   ]
  },
  {
   "cell_type": "markdown",
   "id": "7286953d-df9d-463d-8659-2a8c91cef6b9",
   "metadata": {
    "canvas": {
     "comments": [],
     "componentType": "CodeCell",
     "copiedOriginId": null,
     "diskcache": false,
     "headerColor": "transparent",
     "id": "a78cb767-1ee9-4812-9e3a-c381976c0327",
     "isComponent": false,
     "name": "",
     "parents": []
    }
   },
   "source": [
    "---"
   ]
  },
  {
   "cell_type": "markdown",
   "id": "f6790e3c-48a6-4dbd-a731-d2320d814f01",
   "metadata": {
    "canvas": {
     "comments": [],
     "componentType": "CodeCell",
     "copiedOriginId": null,
     "diskcache": false,
     "headerColor": "transparent",
     "id": "7a68876a-3c37-48f4-8718-517addde7546",
     "isComponent": false,
     "name": "",
     "parents": []
    },
    "tags": []
   },
   "source": [
    "## Preprocessing (p3)"
   ]
  },
  {
   "cell_type": "markdown",
   "id": "37dcd283-b806-4d70-a189-8b2772551d83",
   "metadata": {
    "canvas": {
     "comments": [],
     "componentType": "CodeCell",
     "copiedOriginId": "2424c889-3372-4b8d-b2b1-063549166da5",
     "diskcache": false,
     "headerColor": "transparent",
     "id": "badfe283-936d-4950-af29-9ab953fd8418",
     "isComponent": false,
     "name": "",
     "parents": []
    }
   },
   "source": [
    "Finally, we append upvotes and no_of_comments. From p2, adding in the tags column improved the performances of the model, hence there is merit in believing that adding upvotes and no_of_comments will potentially improve the models' performances. \n"
   ]
  },
  {
   "cell_type": "code",
   "execution_count": null,
   "id": "a4849a5c-befe-4f13-b636-c19a4e68b0e5",
   "metadata": {
    "canvas": {
     "comments": [],
     "componentType": "CodeCell",
     "copiedOriginId": null,
     "diskcache": false,
     "headerColor": "transparent",
     "id": "8f0d669a-6a85-4fd4-82a3-33b8b31c4e66",
     "isComponent": false,
     "name": "",
     "parents": []
    }
   },
   "outputs": [],
   "source": [
    "#Subsetting a dataframe with columns upvotes and no_of_comments\n",
    "df_tobemerged = df[['upvotes','no_of_comments']]\n",
    "\n",
    "#Checking X_train_p2 and X_test_p2 shape before merge\n",
    "print(X_train_p2.shape, X_test_p2.shape)\n",
    "print(df_tobemerged.shape)\n",
    "\n",
    "X_train_p3 = X_train_p2.merge(df_tobemerged, left_index=True, right_index=True, how='left')\n",
    "X_test_p3 = X_test_p2.merge(df_tobemerged, left_index=True, right_index=True, how='left')\n",
    "\n",
    "#Checking X_train_p3 and X_test_p3 shape after merge\n",
    "print(X_train_p3.shape, X_test_p3.shape)"
   ]
  },
  {
   "cell_type": "markdown",
   "id": "26ee1d1b-8db9-4b58-86e3-de38a542d4e5",
   "metadata": {
    "canvas": {
     "comments": [],
     "componentType": "CodeCell",
     "copiedOriginId": null,
     "diskcache": false,
     "headerColor": "transparent",
     "id": "1d928b4e-787f-4c80-8547-69c8c8478d2e",
     "isComponent": false,
     "name": "",
     "parents": []
    }
   },
   "source": [
    "---"
   ]
  },
  {
   "cell_type": "markdown",
   "id": "04ffa41c-c249-4eed-ae93-f1ce32e140ab",
   "metadata": {
    "canvas": {
     "comments": [],
     "componentType": "CodeCell",
     "copiedOriginId": null,
     "diskcache": false,
     "headerColor": "transparent",
     "id": "8032013d-5b8b-4c55-ac9d-acfa7eac1ddb",
     "isComponent": false,
     "name": "",
     "parents": []
    },
    "tags": []
   },
   "source": [
    "## Modelling (p3)"
   ]
  },
  {
   "cell_type": "code",
   "execution_count": null,
   "id": "acff1629-ab74-40a3-bafe-ee8900a09e87",
   "metadata": {
    "canvas": {
     "comments": [],
     "componentType": "CodeCell",
     "copiedOriginId": null,
     "diskcache": false,
     "headerColor": "transparent",
     "id": "ccc952fb-6986-4d7b-87fc-c09915cf392f",
     "isComponent": false,
     "name": "",
     "parents": []
    }
   },
   "outputs": [],
   "source": [
    "pipeline_p3 = Pipeline([\n",
    "   ('classifier', LogisticRegression(random_state=42))\n",
    "])\n",
    "\n"
   ]
  },
  {
   "cell_type": "code",
   "execution_count": null,
   "id": "da21b567-b0c4-47f4-ac82-487b87462a11",
   "metadata": {
    "canvas": {
     "comments": [],
     "componentType": "CodeCell",
     "copiedOriginId": null,
     "diskcache": false,
     "headerColor": "transparent",
     "id": "b15e2702-9008-4748-9fe5-e9ab85fb1818",
     "isComponent": false,
     "name": "",
     "parents": []
    }
   },
   "outputs": [],
   "source": [
    "# #Resetting sns gridstyle\n",
    "# sns.set_style(\"white\")\n",
    "\n",
    "# #Ignoring warnings\n",
    "\n",
    "# warnings.filterwarnings('ignore')\n",
    "\n",
    "\n",
    "# # Perform grid search for each model\n",
    "# for parameter_grid in parameter_grids:\n",
    "#     grid_search = GridSearchCV(pipeline_p3, parameter_grid, cv=5)\n",
    "#     grid_search.fit(X_train_p3, y_train)\n",
    "    \n",
    "#     # Print the best parameters and the classification report\n",
    "#     print(\"Best parameters:\", grid_search.best_params_)\n",
    "#     y_pred = grid_search.predict(X_test_p3)\n",
    "#     cm = confusion_matrix(y_test, y_pred, labels=grid_search.classes_)\n",
    "#     print(grid_search.best_score_)\n",
    "#     print(grid_search.best_estimator_)\n",
    "#     disp = ConfusionMatrixDisplay(confusion_matrix=cm, display_labels=grid_search.classes_)\n",
    "#     disp.plot()\n",
    "#     plt.show()\n",
    "#     print(\"---------------------------------------\")\n",
    "    \n",
    "# warnings.filterwarnings(\"default\")"
   ]
  },
  {
   "cell_type": "markdown",
   "id": "9ee6d633-57e7-4cde-a81e-304fd529043e",
   "metadata": {
    "canvas": {
     "comments": [],
     "componentType": "CodeCell",
     "copiedOriginId": null,
     "diskcache": false,
     "headerColor": "transparent",
     "id": "678adeb6-d4df-4f26-87e9-d8cc0bf021a5",
     "isComponent": false,
     "name": "",
     "parents": []
    }
   },
   "source": [
    "The following table shows the results of the model training:\n",
    "\n",
    "| **Model**               | **Best Score** | **Best Estimator**                                                                              |\n",
    "|-------------------------|----------------|-------------------------------------------------------------------------------------------------|\n",
    "| LogisticRegression      | 0.985          | LogisticRegression(C=0.1, penalty=None, solver = 'lbfgs', random_state=42)                      |\n",
    "| SVC                     | 0.979          | SVC(C=10.0, kernel='linear', random_state=42)                                                   |\n",
    "| DecisionTreeClassifier  | 0.962          | DecisionTreeClassifier(max_depth=5, min_samples_split=2, min_samples_leaf = 4, random_state=42) |\n",
    "| RandomForestClassifier  | 0.977          | RandomForestClassifier(n_estimators=200, max_depth=None, random_state=42)                       |\n",
    "| AdaBoostClassifier      | 0.980          | AdaBoostClassifier(n_estimators=300, learning_rate = 0.1, random_state=42)                      |\n",
    "| GradientBoostClassifier | 0.969          | GradientBoostingClassifier(n_estimators=300, learning_rate = 0.1, random_state=42)              |"
   ]
  },
  {
   "cell_type": "markdown",
   "id": "9609fb2f-73f8-43b3-9615-18eff7d80d62",
   "metadata": {
    "canvas": {
     "comments": [],
     "componentType": "CodeCell",
     "copiedOriginId": null,
     "diskcache": false,
     "headerColor": "transparent",
     "id": "65aebe2b-1ba4-4b9b-8a68-1c19fb152b78",
     "isComponent": false,
     "name": "",
     "parents": []
    }
   },
   "source": [
    "<br><br> In summary, the following are the models and the best scores:\n",
    "\n",
    "| **Model**               | **P1 best score** | **P2 best score** | **P3 best score** |\n",
    "|-------------------------|-------------------|-------------------|-------------------|\n",
    "| LogisticRegression      | 0.960             | 0.982             | 0.985             |\n",
    "| SVC                     | 0.958             | 0.980             | 0.979             |\n",
    "| DecisionTreeClassifier  | 0.871             | 0.964             | 0.962             |\n",
    "| RandomForestClassifier  | 0.958             | 0.977             | 0.977             |\n",
    "| AdaBoostClassifier      | 0.950             | 0.980             | 0.980             |\n",
    "| GradientBoostClassifier | 0.948             | 0.968             | 0.969             |\n"
   ]
  },
  {
   "cell_type": "markdown",
   "id": "3b988c16-a55a-4e87-975b-f9f550606d59",
   "metadata": {
    "canvas": {
     "comments": [],
     "componentType": "CodeCell",
     "copiedOriginId": null,
     "diskcache": false,
     "headerColor": "transparent",
     "id": "d504c0f6-0a43-44f4-8852-2c5e4c2f7442",
     "isComponent": false,
     "name": "",
     "parents": []
    }
   },
   "source": [
    "The following are some conclusions that can be drawn from the above table:\n",
    "\n",
    "- DecisionTreeClassifier consistently performed the worst amongst the 6 models\n",
    "- The inclusion of post tags (p1 to p2) improved the 6 models' performances across the board, however the inclusion of upvotes and no_of_comments did not make any significant difference in improving model accuracies\n",
    "- LogisticRegression is optimal here given that it is the least computationally expensive model to train, and has great model accuracy relative to the other models\n",
    "<br><br>\n",
    "As previously explored, there are certain distinct keywords that are strong indicators of whether a post belongs to r/statistics or r/machinelearning (eg ai, gpt for r/machinelearning and population, sampling, hypothesis for r/statistics). This gives credence to the high accuracies of all the models across the board."
   ]
  },
  {
   "cell_type": "markdown",
   "id": "aa0eadac-70cc-4e2b-bc19-3c0ec098077b",
   "metadata": {
    "canvas": {
     "comments": [],
     "componentType": "CodeCell",
     "copiedOriginId": null,
     "diskcache": false,
     "headerColor": "transparent",
     "id": "b99f3a39-a616-44fc-ac7f-56d2a1e8c572",
     "isComponent": false,
     "name": "",
     "parents": []
    }
   },
   "source": [
    "---"
   ]
  },
  {
   "cell_type": "markdown",
   "id": "bae7d697",
   "metadata": {
    "canvas": {
     "comments": [],
     "componentType": "CodeCell",
     "copiedOriginId": null,
     "diskcache": false,
     "headerColor": "transparent",
     "id": "52e49a5e-032f-4f03-8cc9-e39ed983d8fb",
     "isComponent": false,
     "name": "",
     "parents": []
    },
    "tags": []
   },
   "source": [
    "# Conclusions & Findings"
   ]
  },
  {
   "cell_type": "markdown",
   "id": "dcad6573-fc20-4860-95f2-172d5772d652",
   "metadata": {
    "canvas": {
     "comments": [],
     "componentType": "CodeCell",
     "copiedOriginId": null,
     "diskcache": false,
     "headerColor": "transparent",
     "id": "3ed0c63f-41c3-46ef-87d6-32d96357ab42",
     "isComponent": false,
     "name": "",
     "parents": []
    }
   },
   "source": [
    "In summary, this project scraped ~1000 reddit posts from r/machinelearning and r/statistics, and analyzed the posts to better identify the commonalities and differences between the 2 subreddit threads. This was done through identifying common topics and communities to better understand the distictions and intersections between the 2 threads. The following depicts the findings for topic modelling, community detection and text classification.\n",
    "<br><br>"
   ]
  },
  {
   "cell_type": "markdown",
   "id": "b02f6ea4-922b-46ec-9f8a-62e43cad5e69",
   "metadata": {
    "canvas": {
     "comments": [],
     "componentType": "CodeCell",
     "copiedOriginId": null,
     "diskcache": false,
     "headerColor": "transparent",
     "id": "608d3d09-9f3f-485e-a610-3ef99b52eb8e",
     "isComponent": false,
     "name": "",
     "parents": []
    }
   },
   "source": [
    "### Topic Modelling:\n",
    "There are several distinct topics present in both subreddits. <br><br>\n",
    "\n",
    "<b>r/statistics</b>:<br>\n",
    "1. Statistical methods and tests: Words like \"regression\", \"correlation\", \"test\", \"hypothesis\", and \"probability\" present in clusters suggest discussion around various statistical tests and methods.\n",
    "2. Data analysis techniques: The presence of words like \"model\", \"analysis\", \"calculate\", \"coefficient\" suggest topics around statistical modelling and analysis techniques.\n",
    "3. Study design and experiment management: Words like \"population\", \"sample\", \"size\", \"experiment\", and \"study\" indicate discussions related to the design of studies and experiments, such as determining appropriate sample sizes or managing population data.\n",
    "4. Statistical education and help: Words such as \"explain\", \"help\", \"understanding\", and \"need\" suggest that users often seek help understanding statistical concepts or problems.\n",
    "\n",
    "<b>r/machinelearning</b>:<br>\n",
    "1. Machine Learning Models & Techniques: Words like \"neural\", \"network\", \"classifier\", \"segmentation\", \"model\", \"finetuning\", \"gan\", \"autoencoder\", \"embeddings\" indicate discussions around various machine learning models and techniques, including neural networks, GANs (Generative Adversarial Networks), autoencoders, and model fine-tuning.\n",
    "2. Specific AI technologies and companies: Words like \"Microsoft\", \"Google\", \"OpenAI\", \"GPT4\", \"LLM\" suggest discussions related to specific AI technologies, platforms, and companies.\n",
    "3. Applications and projects: Words like \"training\", \"project\", \"hackathon\", \"app\", \"dashboard\" suggest discussions around the application of machine learning in projects and real-world scenarios.\n",
    "4. Machine Learning Research: The presence of words like \"research\", \"generation\", \"latent\", \"diffusion\", \"field\", \"study\" suggest a focus on ongoing research in the field of machine learning\n",
    "\n",
    "<br><br>"
   ]
  },
  {
   "cell_type": "markdown",
   "id": "af25fd33-6ddb-42c8-a4e5-c9c01fcb5a22",
   "metadata": {
    "canvas": {
     "comments": [],
     "componentType": "CodeCell",
     "copiedOriginId": null,
     "diskcache": false,
     "headerColor": "transparent",
     "id": "491cd316-9dd2-49eb-917b-d07b0a403bce",
     "isComponent": false,
     "name": "",
     "parents": []
    }
   },
   "source": [
    "### Community Detection:\n",
    "There are also several communities of individuals we can infer that are participating in such conversations:<br><br>\n",
    "\n",
    "<b>r/statistics:</b><br>\n",
    "1. Students and Learners: Common words like \"calculate\", \"explain\", \"need\", \"help\", \"understanding\", \"study\", suggest the presence of a significant number of students or self-learners who are seeking help with statistical concepts, homework, or real-world problems.\n",
    "2. Educators and Professionals: Words like \"model\", \"analysis\", \"hypothesis\", \"regression\", \"probability\" indicate the presence of educators, such as professors or tutors, as well as professionals in fields like data analysis, where statistics is used extensively.\n",
    "3. Practicing researchers: Words like \"experiment\", \"population\", \"sample\", \"study\", \"test\" suggest that there could be a community of researchers, particularly in fields such as social sciences, economics, psychology, etc., where traditional statistical methods are heavily utilized.\n",
    "\n",
    "\n",
    "<b>r/machinelearning:</b><br>\n",
    "1. Machine Learning Practitioners: Words like \"training\", \"neural\", \"network\", \"model\", \"classifier\", \"finetuning\" suggest a community of machine learning practitioners, including data scientists, machine learning engineers, and AI specialists, who are discussing and sharing insights about machine learning models and techniques.\n",
    "2. Researchers and Academics: Presence of words like \"research\", \"latent\", \"field\", \"study\", \"generation\", \"diffusion\" indicates a community of researchers and academics who are likely discussing the latest research findings and trends in machine learning and artificial intelligence.\n",
    "3. Industry Professionals: Words like \"Microsoft\", \"Google\", \"Amazon\", \"project\", \"app\", \"dashboard\" suggest that there are industry professionals involved in the application of machine learning in businesses or tech companies.\n",
    "4. Students and Learners: Words like \"learn\", \"problem\", \"concept\", \"challenge\" suggest the presence of learners, likely including students and self-learners, seeking help, advice, and understanding of machine learning concepts and problems.\n",
    "<br><br><br>"
   ]
  },
  {
   "cell_type": "markdown",
   "id": "6bdcabb6-e9bc-4c5c-ba22-128cb33b26ec",
   "metadata": {
    "canvas": {
     "comments": [],
     "componentType": "CodeCell",
     "copiedOriginId": null,
     "diskcache": false,
     "headerColor": "transparent",
     "id": "9f98dfac-e2b7-48ef-b81b-80ae950ed363",
     "isComponent": false,
     "name": "",
     "parents": []
    }
   },
   "source": [
    "### Text Classification:\n",
    "\n",
    "Overall, just the post contents (ie title, content and top comments), plus the post's tag (extracted from the title) is sufficient to build an accurate text classifier. Models like LogisticRegression, Support Vector Classifier work quite well (~98% accuracy) with relatively low computational resource required to train the models. This is not surprising, considering that KMeans Clustering could identify distinct clusters that belongs solely to r/statistics and r/machinelearning, without any information on the actual label of the post."
   ]
  },
  {
   "cell_type": "markdown",
   "id": "201db4a2-1e54-47f8-b0cc-8a41290c811d",
   "metadata": {
    "canvas": {
     "comments": [],
     "componentType": "CodeCell",
     "copiedOriginId": null,
     "diskcache": false,
     "headerColor": "transparent",
     "id": "e6136f0e-ea8c-4543-a7ee-f0fe4af91119",
     "isComponent": false,
     "name": "",
     "parents": []
    }
   },
   "source": [
    "### Moving Forward\n",
    "\n",
    "Moving forward, this project could possibly expand in the following aspects: \n",
    "\n",
    "1. Temporal Analysis: The project could analyze the topics and community interactions over time. This could uncover trends and changes in the discussions, which can be valuable for understanding the evolution of these fields.\n",
    "2. Deepen Community Analysis: The project could analyze the user activity patterns within the subreddits. This could reveal information about the most active contributors, time of activity, response times, etc. Understanding user behavior can help us understand the dynamics of the community better.\n",
    "3. Visualization: More time could be spent investing in creating interactive data visualizations to represent your findings. Visual aids can make the insights gained from the analysis more comprehensible and engaging for a broader audience."
   ]
  }
 ],
 "metadata": {
  "canvas": {
   "colorPalette": [
    "inherit",
    "inherit",
    "inherit",
    "inherit",
    "inherit",
    "inherit",
    "inherit",
    "inherit",
    "inherit",
    "inherit"
   ],
   "parameters": [],
   "version": "1.0"
  },
  "kernelspec": {
   "display_name": "Python 3 (ipykernel)",
   "language": "python",
   "name": "python3"
  },
  "language_info": {
   "codemirror_mode": {
    "name": "ipython",
    "version": 3
   },
   "file_extension": ".py",
   "mimetype": "text/x-python",
   "name": "python",
   "nbconvert_exporter": "python",
   "pygments_lexer": "ipython3",
   "version": "3.9.12"
  }
 },
 "nbformat": 4,
 "nbformat_minor": 5
}
